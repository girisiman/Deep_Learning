{
  "nbformat": 4,
  "nbformat_minor": 0,
  "metadata": {
    "colab": {
      "name": "DL_Task_2_Final_v1.ipynb",
      "version": "0.3.2",
      "provenance": [],
      "collapsed_sections": [],
      "include_colab_link": true
    },
    "kernelspec": {
      "name": "python3",
      "display_name": "Python 3"
    },
    "accelerator": "GPU"
  },
  "cells": [
    {
      "cell_type": "markdown",
      "metadata": {
        "id": "view-in-github",
        "colab_type": "text"
      },
      "source": [
        "<a href=\"https://colab.research.google.com/github/girisiman/Deep_Learning_Tasks/blob/master/DL_Task_2_Final_v1.ipynb\" target=\"_parent\"><img src=\"https://colab.research.google.com/assets/colab-badge.svg\" alt=\"Open In Colab\"/></a>"
      ]
    },
    {
      "cell_type": "code",
      "metadata": {
        "id": "yN6ej1gCGfl6",
        "colab_type": "code",
        "outputId": "6c63fda8-3195-42a3-9b45-1c670c65b102",
        "colab": {
          "base_uri": "https://localhost:8080/",
          "height": 34
        }
      },
      "source": [
        "import keras.datasets.mnist as fashion_mnist\n",
        "import keras\n",
        "from sklearn.ensemble import RandomForestClassifier\n",
        "from sklearn.metrics import accuracy_score\n",
        "from keras import regularizers\n",
        "from keras.layers import Input\n",
        "from keras.models import Model\n",
        "from keras.layers import Layer\n",
        "from keras.layers.core import Dense, Dropout\n",
        "from keras.utils import np_utils\n",
        "from keras.models import Sequential\n",
        "from keras import optimizers\n",
        "import matplotlib.pyplot as plt\n",
        "import numpy as np\n",
        "from sklearn.model_selection import ParameterGrid\n",
        "from sklearn.model_selection import GridSearchCV\n",
        "from keras.wrappers.scikit_learn import  KerasClassifier\n",
        "import os\n",
        "from sklearn.metrics import accuracy_score\n"
      ],
      "execution_count": 4,
      "outputs": [
        {
          "output_type": "stream",
          "text": [
            "Using TensorFlow backend.\n"
          ],
          "name": "stderr"
        }
      ]
    },
    {
      "cell_type": "code",
      "metadata": {
        "id": "pceZML04Jso7",
        "colab_type": "code",
        "colab": {}
      },
      "source": [
        "Result1 = {'mlp_accu': [], 'rf_accu':[], 'cnn_acu':[]}\n",
        "Result2 = {'ae_mle_acc':[],'ae_rf_accu':[]}"
      ],
      "execution_count": 0,
      "outputs": []
    },
    {
      "cell_type": "code",
      "metadata": {
        "id": "hXsyjpJqGrJY",
        "colab_type": "code",
        "colab": {}
      },
      "source": [
        "# function to build basic mlp:\n",
        "def mlp_model(layers,activation, optimizer,drop_out, num_classes=10):\n",
        "  ''' Build a simple mlp model for multi-class classification;  \n",
        "      Arguments:all the hyperparametes (layers,act,opt, drop_out) to buld in a mlp provided by dictionary of parameters used during hyperparameter\n",
        "      optimization\n",
        "           '''\n",
        "  model = Sequential()\n",
        "  for i in range(len(layers)):\n",
        "    if i == 0:\n",
        "        model.add(Dense(layers[i], activation=activation, input_shape=(784,)))\n",
        "        model.add(Dropout(drop_out))\n",
        "    else:\n",
        "      model.add(Dense(layers[i], activation=activation))\n",
        "      model.add(Dropout(drop_out))\n",
        "  model.add(Dense(num_classes, activation=activation))\n",
        "  model.summary()\n",
        "\n",
        "  model.compile(loss='categorical_crossentropy',\n",
        "                  optimizer=optimizer,\n",
        "                  metrics=['accuracy'])\n",
        "\n",
        "  return model"
      ],
      "execution_count": 0,
      "outputs": []
    },
    {
      "cell_type": "code",
      "metadata": {
        "id": "fe0wCwb4PPcZ",
        "colab_type": "code",
        "outputId": "9029fdc8-e696-45eb-bacc-aba26ea43f00",
        "colab": {
          "base_uri": "https://localhost:8080/",
          "height": 34
        }
      },
      "source": [
        "from keras import backend\n",
        "print(backend.image_data_format())"
      ],
      "execution_count": 7,
      "outputs": [
        {
          "output_type": "stream",
          "text": [
            "channels_last\n"
          ],
          "name": "stdout"
        }
      ]
    },
    {
      "cell_type": "code",
      "metadata": {
        "id": "oeThOQ1WGzuJ",
        "colab_type": "code",
        "outputId": "58e6e73c-6b12-4687-baf4-389b67db6076",
        "colab": {
          "base_uri": "https://localhost:8080/",
          "height": 102
        }
      },
      "source": [
        "\n",
        "(x_train, y_train), (x_test, y_test) = fashion_mnist.load_data()\n",
        "x_train = x_train.reshape(60000, 784)\n",
        "x_test = x_test.reshape(10000, 784)\n",
        "x_train = x_train.astype('float32')\n",
        "x_test = x_test.astype('float32')\n",
        "x_train /= 255\n",
        "x_test /= 255\n",
        "print(x_train.shape, 'train samples')\n",
        "print(x_test.shape[0], 'test samples')\n",
        "y_train = keras.utils.to_categorical(y_train, 10)\n",
        "y_test = keras.utils.to_categorical(y_test,10)\n",
        "y_train.shape"
      ],
      "execution_count": 8,
      "outputs": [
        {
          "output_type": "stream",
          "text": [
            "Downloading data from https://s3.amazonaws.com/img-datasets/mnist.npz\n",
            "11493376/11490434 [==============================] - 1s 0us/step\n",
            "(60000, 784) train samples\n",
            "10000 test samples\n"
          ],
          "name": "stdout"
        },
        {
          "output_type": "execute_result",
          "data": {
            "text/plain": [
              "(60000, 10)"
            ]
          },
          "metadata": {
            "tags": []
          },
          "execution_count": 8
        }
      ]
    },
    {
      "cell_type": "code",
      "metadata": {
        "id": "NfJdwtHZG8Xo",
        "colab_type": "code",
        "outputId": "c6d369b9-83f8-4338-9587-f84a86606ab6",
        "colab": {
          "base_uri": "https://localhost:8080/",
          "height": 2499
        }
      },
      "source": [
        "model = KerasClassifier(build_fn=mlp_model, epochs=10, batch_size=128, verbose=0)\n",
        "parameter = {'layers':[[512,512],[512,512,512]],'activation': [ 'relu',],\n",
        "             'optimizer': [ 'Adam' ],\n",
        "             'drop_out': [ 0.5]}\n",
        "classifier = GridSearchCV(estimator=model, param_grid=parameter)\n",
        "search_result = classifier.fit(x_train, y_train)\n",
        "#print(\"Best Accuracy: %f using %s\" % (search_result.best_score_, search_result.best_params_))\n"
      ],
      "execution_count": 9,
      "outputs": [
        {
          "output_type": "stream",
          "text": [
            "WARNING:tensorflow:From /usr/local/lib/python3.6/dist-packages/tensorflow/python/framework/op_def_library.py:263: colocate_with (from tensorflow.python.framework.ops) is deprecated and will be removed in a future version.\n",
            "Instructions for updating:\n",
            "Colocations handled automatically by placer.\n",
            "WARNING:tensorflow:From /usr/local/lib/python3.6/dist-packages/keras/backend/tensorflow_backend.py:3445: calling dropout (from tensorflow.python.ops.nn_ops) with keep_prob is deprecated and will be removed in a future version.\n",
            "Instructions for updating:\n",
            "Please use `rate` instead of `keep_prob`. Rate should be set to `rate = 1 - keep_prob`.\n"
          ],
          "name": "stdout"
        },
        {
          "output_type": "stream",
          "text": [
            "/usr/local/lib/python3.6/dist-packages/sklearn/model_selection/_split.py:1978: FutureWarning: The default value of cv will change from 3 to 5 in version 0.22. Specify it explicitly to silence this warning.\n",
            "  warnings.warn(CV_WARNING, FutureWarning)\n"
          ],
          "name": "stderr"
        },
        {
          "output_type": "stream",
          "text": [
            "_________________________________________________________________\n",
            "Layer (type)                 Output Shape              Param #   \n",
            "=================================================================\n",
            "dense_1 (Dense)              (None, 512)               401920    \n",
            "_________________________________________________________________\n",
            "dropout_1 (Dropout)          (None, 512)               0         \n",
            "_________________________________________________________________\n",
            "dense_2 (Dense)              (None, 512)               262656    \n",
            "_________________________________________________________________\n",
            "dropout_2 (Dropout)          (None, 512)               0         \n",
            "_________________________________________________________________\n",
            "dense_3 (Dense)              (None, 10)                5130      \n",
            "=================================================================\n",
            "Total params: 669,706\n",
            "Trainable params: 669,706\n",
            "Non-trainable params: 0\n",
            "_________________________________________________________________\n",
            "WARNING:tensorflow:From /usr/local/lib/python3.6/dist-packages/tensorflow/python/ops/math_ops.py:3066: to_int32 (from tensorflow.python.ops.math_ops) is deprecated and will be removed in a future version.\n",
            "Instructions for updating:\n",
            "Use tf.cast instead.\n",
            "_________________________________________________________________\n",
            "Layer (type)                 Output Shape              Param #   \n",
            "=================================================================\n",
            "dense_4 (Dense)              (None, 512)               401920    \n",
            "_________________________________________________________________\n",
            "dropout_3 (Dropout)          (None, 512)               0         \n",
            "_________________________________________________________________\n",
            "dense_5 (Dense)              (None, 512)               262656    \n",
            "_________________________________________________________________\n",
            "dropout_4 (Dropout)          (None, 512)               0         \n",
            "_________________________________________________________________\n",
            "dense_6 (Dense)              (None, 10)                5130      \n",
            "=================================================================\n",
            "Total params: 669,706\n",
            "Trainable params: 669,706\n",
            "Non-trainable params: 0\n",
            "_________________________________________________________________\n",
            "_________________________________________________________________\n",
            "Layer (type)                 Output Shape              Param #   \n",
            "=================================================================\n",
            "dense_7 (Dense)              (None, 512)               401920    \n",
            "_________________________________________________________________\n",
            "dropout_5 (Dropout)          (None, 512)               0         \n",
            "_________________________________________________________________\n",
            "dense_8 (Dense)              (None, 512)               262656    \n",
            "_________________________________________________________________\n",
            "dropout_6 (Dropout)          (None, 512)               0         \n",
            "_________________________________________________________________\n",
            "dense_9 (Dense)              (None, 10)                5130      \n",
            "=================================================================\n",
            "Total params: 669,706\n",
            "Trainable params: 669,706\n",
            "Non-trainable params: 0\n",
            "_________________________________________________________________\n",
            "_________________________________________________________________\n",
            "Layer (type)                 Output Shape              Param #   \n",
            "=================================================================\n",
            "dense_10 (Dense)             (None, 512)               401920    \n",
            "_________________________________________________________________\n",
            "dropout_7 (Dropout)          (None, 512)               0         \n",
            "_________________________________________________________________\n",
            "dense_11 (Dense)             (None, 512)               262656    \n",
            "_________________________________________________________________\n",
            "dropout_8 (Dropout)          (None, 512)               0         \n",
            "_________________________________________________________________\n",
            "dense_12 (Dense)             (None, 512)               262656    \n",
            "_________________________________________________________________\n",
            "dropout_9 (Dropout)          (None, 512)               0         \n",
            "_________________________________________________________________\n",
            "dense_13 (Dense)             (None, 10)                5130      \n",
            "=================================================================\n",
            "Total params: 932,362\n",
            "Trainable params: 932,362\n",
            "Non-trainable params: 0\n",
            "_________________________________________________________________\n",
            "_________________________________________________________________\n",
            "Layer (type)                 Output Shape              Param #   \n",
            "=================================================================\n",
            "dense_14 (Dense)             (None, 512)               401920    \n",
            "_________________________________________________________________\n",
            "dropout_10 (Dropout)         (None, 512)               0         \n",
            "_________________________________________________________________\n",
            "dense_15 (Dense)             (None, 512)               262656    \n",
            "_________________________________________________________________\n",
            "dropout_11 (Dropout)         (None, 512)               0         \n",
            "_________________________________________________________________\n",
            "dense_16 (Dense)             (None, 512)               262656    \n",
            "_________________________________________________________________\n",
            "dropout_12 (Dropout)         (None, 512)               0         \n",
            "_________________________________________________________________\n",
            "dense_17 (Dense)             (None, 10)                5130      \n",
            "=================================================================\n",
            "Total params: 932,362\n",
            "Trainable params: 932,362\n",
            "Non-trainable params: 0\n",
            "_________________________________________________________________\n",
            "_________________________________________________________________\n",
            "Layer (type)                 Output Shape              Param #   \n",
            "=================================================================\n",
            "dense_18 (Dense)             (None, 512)               401920    \n",
            "_________________________________________________________________\n",
            "dropout_13 (Dropout)         (None, 512)               0         \n",
            "_________________________________________________________________\n",
            "dense_19 (Dense)             (None, 512)               262656    \n",
            "_________________________________________________________________\n",
            "dropout_14 (Dropout)         (None, 512)               0         \n",
            "_________________________________________________________________\n",
            "dense_20 (Dense)             (None, 512)               262656    \n",
            "_________________________________________________________________\n",
            "dropout_15 (Dropout)         (None, 512)               0         \n",
            "_________________________________________________________________\n",
            "dense_21 (Dense)             (None, 10)                5130      \n",
            "=================================================================\n",
            "Total params: 932,362\n",
            "Trainable params: 932,362\n",
            "Non-trainable params: 0\n",
            "_________________________________________________________________\n",
            "_________________________________________________________________\n",
            "Layer (type)                 Output Shape              Param #   \n",
            "=================================================================\n",
            "dense_22 (Dense)             (None, 512)               401920    \n",
            "_________________________________________________________________\n",
            "dropout_16 (Dropout)         (None, 512)               0         \n",
            "_________________________________________________________________\n",
            "dense_23 (Dense)             (None, 512)               262656    \n",
            "_________________________________________________________________\n",
            "dropout_17 (Dropout)         (None, 512)               0         \n",
            "_________________________________________________________________\n",
            "dense_24 (Dense)             (None, 512)               262656    \n",
            "_________________________________________________________________\n",
            "dropout_18 (Dropout)         (None, 512)               0         \n",
            "_________________________________________________________________\n",
            "dense_25 (Dense)             (None, 10)                5130      \n",
            "=================================================================\n",
            "Total params: 932,362\n",
            "Trainable params: 932,362\n",
            "Non-trainable params: 0\n",
            "_________________________________________________________________\n"
          ],
          "name": "stdout"
        }
      ]
    },
    {
      "cell_type": "code",
      "metadata": {
        "id": "nyyEkvflI0uV",
        "colab_type": "code",
        "outputId": "fb1690a4-0441-4186-824b-b0f458b91cd1",
        "colab": {
          "base_uri": "https://localhost:8080/",
          "height": 68
        }
      },
      "source": [
        "Result1 = {'mlp_accu': [], 'rf_accu':[], 'cnn_acu':[]}\n",
        "best_estimator = classifier.best_estimator_\n",
        "best_model = classifier.best_estimator_.model\n",
        "metric_names_mlp = best_model.metrics_names\n",
        "metric_values_mlp = best_model.evaluate(x_test, y_test)\n",
        "#Result1.update(mlp_accu = metric_values_mlp[1])\n",
        "for metric, value in zip(metric_names_mlp, metric_values_mlp):\n",
        "    print(metric, ': ', value)\n",
        "\n"
      ],
      "execution_count": 10,
      "outputs": [
        {
          "output_type": "stream",
          "text": [
            "10000/10000 [==============================] - 1s 66us/step\n",
            "loss :  0.3236925237879157\n",
            "acc :  0.9371\n"
          ],
          "name": "stdout"
        }
      ]
    },
    {
      "cell_type": "code",
      "metadata": {
        "id": "b2RWi5fO2i8T",
        "colab_type": "code",
        "colab": {}
      },
      "source": [
        "Result1.update(mlp_accu = metric_values_mlp[1]*100)"
      ],
      "execution_count": 0,
      "outputs": []
    },
    {
      "cell_type": "code",
      "metadata": {
        "id": "d8hYUJeGJtz0",
        "colab_type": "code",
        "outputId": "4cca6bd9-6b8d-427c-dfb2-89108a43cec6",
        "colab": {
          "base_uri": "https://localhost:8080/",
          "height": 136
        }
      },
      "source": [
        "model_rfc = RandomForestClassifier(n_estimators=64, n_jobs=-1)\n",
        "model_rfc.fit(x_train, y_train)\n"
      ],
      "execution_count": 12,
      "outputs": [
        {
          "output_type": "execute_result",
          "data": {
            "text/plain": [
              "RandomForestClassifier(bootstrap=True, class_weight=None, criterion='gini',\n",
              "                       max_depth=None, max_features='auto', max_leaf_nodes=None,\n",
              "                       min_impurity_decrease=0.0, min_impurity_split=None,\n",
              "                       min_samples_leaf=1, min_samples_split=2,\n",
              "                       min_weight_fraction_leaf=0.0, n_estimators=64, n_jobs=-1,\n",
              "                       oob_score=False, random_state=None, verbose=0,\n",
              "                       warm_start=False)"
            ]
          },
          "metadata": {
            "tags": []
          },
          "execution_count": 12
        }
      ]
    },
    {
      "cell_type": "code",
      "metadata": {
        "id": "k5PopGvTKfnP",
        "colab_type": "code",
        "colab": {}
      },
      "source": [
        "rfc_accuracy = model_rfc.score(x_test,y_test)*100\n",
        "rfc_accuracy\n",
        "Result1.update(rf_accu=rfc_accuracy)\n"
      ],
      "execution_count": 0,
      "outputs": []
    },
    {
      "cell_type": "markdown",
      "metadata": {
        "id": "B8mAfgTM6U_B",
        "colab_type": "text"
      },
      "source": [
        "##CNN"
      ]
    },
    {
      "cell_type": "code",
      "metadata": {
        "id": "vYzYH52SOntn",
        "colab_type": "code",
        "colab": {
          "base_uri": "https://localhost:8080/",
          "height": 51
        },
        "outputId": "34a24626-e2ac-4fee-8d1a-cb37f4b299ee"
      },
      "source": [
        "#preparing data for CNN:\n",
        "from keras import backend as K\n",
        "image_rows, image_cols = 28, 28\n",
        "num_classes = 10\n",
        "(x_train_cnn, y_train_cnn), (x_test_cnn, y_test_cnn) = fashion_mnist.load_data()\n",
        "\n",
        "if K.image_data_format() == 'channels_first':\n",
        "    x_train_cnn = x_train_cnn.reshape(x_train_cnn.shape[0], 1, image_rows, image_cols)\n",
        "    x_test_cnn = x_test_cnn.reshape(x_test_cnn.shape[0], 1, image_rows, image_cols)\n",
        "    input_shape = (1, image_rows, image_cols)\n",
        "else:\n",
        "    x_train_cnn = x_train_cnn.reshape(x_train_cnn.shape[0], image_rows, image_cols, 1)\n",
        "    x_test_cnn = x_test_cnn.reshape(x_test_cnn.shape[0], image_rows, image_cols, 1)\n",
        "    input_shape = (image_rows, image_cols, 1)\n",
        "\n",
        "x_train_cnn = x_train_cnn.astype('float32')\n",
        "x_test_cnn = x_test_cnn.astype('float32')\n",
        "x_train_cnn /= 255\n",
        "x_test_cnn /= 255\n",
        "\n",
        "# convert class vectors to binary class matrices\n",
        "y_train_cnn = keras.utils.to_categorical(y_train_cnn, num_classes)\n",
        "y_test_cnn = keras.utils.to_categorical(y_test_cnn, num_classes)\n",
        "print(x_train_cnn.shape)\n",
        "print(y_train_cnn.shape)"
      ],
      "execution_count": 14,
      "outputs": [
        {
          "output_type": "stream",
          "text": [
            "(60000, 28, 28, 1)\n",
            "(60000, 10)\n"
          ],
          "name": "stdout"
        }
      ]
    },
    {
      "cell_type": "code",
      "metadata": {
        "id": "CTGa-5wRMuwQ",
        "colab_type": "code",
        "colab": {}
      },
      "source": [
        "from keras.layers import Dense, Dropout, Activation, Flatten\n",
        "from keras.layers import Conv2D, MaxPooling2D\n",
        "\n",
        "\n",
        "\n",
        "def cnn_model(dense_layer_sizes, filters, kernel_size, pool_size):\n",
        "  model = Sequential()\n",
        "  model.add(Conv2D(filters, kernel_size,\n",
        "                     padding='valid',\n",
        "                     input_shape=input_shape))\n",
        "  model.add(Activation('relu'))\n",
        "  model.add(Conv2D(filters, kernel_size))\n",
        "  model.add(Activation('relu'))\n",
        "  model.add(MaxPooling2D(pool_size=pool_size))\n",
        "  model.add(Dropout(0.25))\n",
        "\n",
        "  model.add(Flatten())\n",
        "  for layer_size in dense_layer_sizes:\n",
        "        model.add(Dense(layer_size))\n",
        "        model.add(Activation('relu'))\n",
        "  model.add(Dropout(0.5))\n",
        "  model.add(Dense(num_classes))\n",
        "  model.add(Activation('softmax'))\n",
        "  \n",
        "  opt = optimizers.SGD(lr=0.1, decay=1e-6, momentum=0.9, nesterov=True)\n",
        "  model.compile(loss='categorical_crossentropy',\n",
        "                  optimizer=opt,\n",
        "                  metrics=['accuracy'])\n",
        "\n",
        "  return model\n",
        "  "
      ],
      "execution_count": 0,
      "outputs": []
    },
    {
      "cell_type": "code",
      "metadata": {
        "id": "T-gLc06GOWrk",
        "colab_type": "code",
        "outputId": "067afdd8-916f-44dd-8b67-da2616ac7cea",
        "colab": {
          "base_uri": "https://localhost:8080/",
          "height": 3621
        }
      },
      "source": [
        "param = {'dense_layer_sizes': [[512],[512,512]],  'filters':[8], 'kernel_size': [3], 'pool_size':[2]}\n",
        "my_classifier = KerasClassifier(cnn_model,epochs = 15, batch_size=126)\n",
        "validator = GridSearchCV(my_classifier,\n",
        "                         param_grid=param,\n",
        "                         scoring ='neg_log_loss',\n",
        "                         n_jobs=1)\n",
        "search_result = validator.fit(x_train_cnn, y_train_cnn)"
      ],
      "execution_count": 16,
      "outputs": [
        {
          "output_type": "stream",
          "text": [
            "/usr/local/lib/python3.6/dist-packages/sklearn/model_selection/_split.py:1978: FutureWarning: The default value of cv will change from 3 to 5 in version 0.22. Specify it explicitly to silence this warning.\n",
            "  warnings.warn(CV_WARNING, FutureWarning)\n"
          ],
          "name": "stderr"
        },
        {
          "output_type": "stream",
          "text": [
            "Epoch 1/15\n",
            "40000/40000 [==============================] - 5s 126us/step - loss: 0.3268 - acc: 0.8982\n",
            "Epoch 2/15\n",
            "40000/40000 [==============================] - 2s 39us/step - loss: 0.1206 - acc: 0.9624\n",
            "Epoch 3/15\n",
            "40000/40000 [==============================] - 2s 39us/step - loss: 0.0926 - acc: 0.9713\n",
            "Epoch 4/15\n",
            "40000/40000 [==============================] - 2s 38us/step - loss: 0.0844 - acc: 0.9737\n",
            "Epoch 5/15\n",
            "40000/40000 [==============================] - 2s 38us/step - loss: 0.0785 - acc: 0.9756\n",
            "Epoch 6/15\n",
            "40000/40000 [==============================] - 2s 39us/step - loss: 0.0645 - acc: 0.9801\n",
            "Epoch 7/15\n",
            "40000/40000 [==============================] - 2s 39us/step - loss: 0.0660 - acc: 0.9795\n",
            "Epoch 8/15\n",
            "40000/40000 [==============================] - 2s 39us/step - loss: 0.0620 - acc: 0.9809\n",
            "Epoch 9/15\n",
            "40000/40000 [==============================] - 2s 39us/step - loss: 0.0586 - acc: 0.9817\n",
            "Epoch 10/15\n",
            "40000/40000 [==============================] - 2s 39us/step - loss: 0.0526 - acc: 0.9831\n",
            "Epoch 11/15\n",
            "40000/40000 [==============================] - 2s 39us/step - loss: 0.0541 - acc: 0.9832\n",
            "Epoch 12/15\n",
            "40000/40000 [==============================] - 2s 38us/step - loss: 0.0559 - acc: 0.9823\n",
            "Epoch 13/15\n",
            "40000/40000 [==============================] - 2s 39us/step - loss: 0.0475 - acc: 0.9850\n",
            "Epoch 14/15\n",
            "40000/40000 [==============================] - 2s 38us/step - loss: 0.0472 - acc: 0.9852\n",
            "Epoch 15/15\n",
            "40000/40000 [==============================] - 2s 40us/step - loss: 0.0478 - acc: 0.9853\n",
            "Epoch 1/15\n",
            "40000/40000 [==============================] - 2s 58us/step - loss: 0.3873 - acc: 0.8768\n",
            "Epoch 2/15\n",
            "40000/40000 [==============================] - 2s 38us/step - loss: 0.1394 - acc: 0.9576\n",
            "Epoch 3/15\n",
            "40000/40000 [==============================] - 2s 38us/step - loss: 0.1123 - acc: 0.9656\n",
            "Epoch 4/15\n",
            "40000/40000 [==============================] - 2s 38us/step - loss: 0.0958 - acc: 0.9699\n",
            "Epoch 5/15\n",
            "40000/40000 [==============================] - 2s 39us/step - loss: 0.0872 - acc: 0.9718\n",
            "Epoch 6/15\n",
            "40000/40000 [==============================] - 2s 39us/step - loss: 0.0801 - acc: 0.9744\n",
            "Epoch 7/15\n",
            "40000/40000 [==============================] - 2s 39us/step - loss: 0.0749 - acc: 0.9768\n",
            "Epoch 8/15\n",
            "40000/40000 [==============================] - 2s 38us/step - loss: 0.0728 - acc: 0.9773\n",
            "Epoch 9/15\n",
            "40000/40000 [==============================] - 2s 38us/step - loss: 0.0699 - acc: 0.9778\n",
            "Epoch 10/15\n",
            "40000/40000 [==============================] - 2s 38us/step - loss: 0.0657 - acc: 0.9793\n",
            "Epoch 11/15\n",
            "40000/40000 [==============================] - 2s 38us/step - loss: 0.0596 - acc: 0.9807\n",
            "Epoch 12/15\n",
            "40000/40000 [==============================] - 2s 38us/step - loss: 0.0634 - acc: 0.9795\n",
            "Epoch 13/15\n",
            "40000/40000 [==============================] - 2s 39us/step - loss: 0.0567 - acc: 0.9814\n",
            "Epoch 14/15\n",
            "40000/40000 [==============================] - 2s 38us/step - loss: 0.0582 - acc: 0.9822\n",
            "Epoch 15/15\n",
            "40000/40000 [==============================] - 2s 38us/step - loss: 0.0563 - acc: 0.9818\n",
            "Epoch 1/15\n",
            "40000/40000 [==============================] - 2s 58us/step - loss: 0.3567 - acc: 0.8864\n",
            "Epoch 2/15\n",
            "40000/40000 [==============================] - 2s 39us/step - loss: 0.1494 - acc: 0.9527\n",
            "Epoch 3/15\n",
            "40000/40000 [==============================] - 2s 39us/step - loss: 0.1257 - acc: 0.9609\n",
            "Epoch 4/15\n",
            "40000/40000 [==============================] - 2s 39us/step - loss: 0.1043 - acc: 0.9673\n",
            "Epoch 5/15\n",
            "40000/40000 [==============================] - 2s 39us/step - loss: 0.0975 - acc: 0.9704\n",
            "Epoch 6/15\n",
            "40000/40000 [==============================] - 2s 38us/step - loss: 0.0921 - acc: 0.9709\n",
            "Epoch 7/15\n",
            "40000/40000 [==============================] - 2s 38us/step - loss: 0.0830 - acc: 0.9745\n",
            "Epoch 8/15\n",
            "40000/40000 [==============================] - 2s 39us/step - loss: 0.0835 - acc: 0.9736\n",
            "Epoch 9/15\n",
            "40000/40000 [==============================] - 2s 39us/step - loss: 0.0805 - acc: 0.9754\n",
            "Epoch 10/15\n",
            "40000/40000 [==============================] - 2s 38us/step - loss: 0.0748 - acc: 0.9775\n",
            "Epoch 11/15\n",
            "40000/40000 [==============================] - 1s 36us/step - loss: 0.0729 - acc: 0.9771\n",
            "Epoch 12/15\n",
            "40000/40000 [==============================] - 1s 37us/step - loss: 0.0708 - acc: 0.9780\n",
            "Epoch 13/15\n",
            "40000/40000 [==============================] - 1s 37us/step - loss: 0.0704 - acc: 0.9780\n",
            "Epoch 14/15\n",
            "40000/40000 [==============================] - 2s 38us/step - loss: 0.0676 - acc: 0.9789\n",
            "Epoch 15/15\n",
            "40000/40000 [==============================] - 2s 39us/step - loss: 0.0689 - acc: 0.9782\n",
            "Epoch 1/15\n",
            "40000/40000 [==============================] - 3s 65us/step - loss: 0.6072 - acc: 0.8011\n",
            "Epoch 2/15\n",
            "40000/40000 [==============================] - 2s 40us/step - loss: 0.1569 - acc: 0.9530\n",
            "Epoch 3/15\n",
            "40000/40000 [==============================] - 2s 42us/step - loss: 0.1171 - acc: 0.9638\n",
            "Epoch 4/15\n",
            "40000/40000 [==============================] - 2s 40us/step - loss: 0.0952 - acc: 0.9709\n",
            "Epoch 5/15\n",
            "40000/40000 [==============================] - 2s 41us/step - loss: 0.0844 - acc: 0.9745\n",
            "Epoch 6/15\n",
            "40000/40000 [==============================] - 2s 41us/step - loss: 0.0746 - acc: 0.9767\n",
            "Epoch 7/15\n",
            "40000/40000 [==============================] - 2s 41us/step - loss: 0.0667 - acc: 0.9800\n",
            "Epoch 8/15\n",
            "40000/40000 [==============================] - 2s 40us/step - loss: 0.0623 - acc: 0.9810\n",
            "Epoch 9/15\n",
            "40000/40000 [==============================] - 2s 41us/step - loss: 0.0600 - acc: 0.9818\n",
            "Epoch 10/15\n",
            "40000/40000 [==============================] - 2s 40us/step - loss: 0.0584 - acc: 0.9827\n",
            "Epoch 11/15\n",
            "40000/40000 [==============================] - 2s 40us/step - loss: 0.0517 - acc: 0.9842\n",
            "Epoch 12/15\n",
            "40000/40000 [==============================] - 2s 40us/step - loss: 0.0487 - acc: 0.9850\n",
            "Epoch 13/15\n",
            "40000/40000 [==============================] - 2s 42us/step - loss: 0.0466 - acc: 0.9855\n",
            "Epoch 14/15\n",
            "40000/40000 [==============================] - 2s 41us/step - loss: 0.0477 - acc: 0.9850\n",
            "Epoch 15/15\n",
            "40000/40000 [==============================] - 2s 40us/step - loss: 0.0411 - acc: 0.9869\n",
            "Epoch 1/15\n",
            "40000/40000 [==============================] - 3s 65us/step - loss: 0.7014 - acc: 0.7667\n",
            "Epoch 2/15\n",
            "40000/40000 [==============================] - 2s 41us/step - loss: 0.3082 - acc: 0.9045\n",
            "Epoch 3/15\n",
            "40000/40000 [==============================] - 2s 42us/step - loss: 0.2613 - acc: 0.9197\n",
            "Epoch 4/15\n",
            "40000/40000 [==============================] - 2s 40us/step - loss: 0.2352 - acc: 0.9266\n",
            "Epoch 5/15\n",
            "40000/40000 [==============================] - 2s 40us/step - loss: 0.2229 - acc: 0.9308\n",
            "Epoch 6/15\n",
            "40000/40000 [==============================] - 2s 41us/step - loss: 0.2084 - acc: 0.9357\n",
            "Epoch 7/15\n",
            "40000/40000 [==============================] - 2s 39us/step - loss: 0.1982 - acc: 0.9389\n",
            "Epoch 8/15\n",
            "40000/40000 [==============================] - 2s 40us/step - loss: 0.1912 - acc: 0.9398\n",
            "Epoch 9/15\n",
            "40000/40000 [==============================] - 2s 41us/step - loss: 0.1896 - acc: 0.9399\n",
            "Epoch 10/15\n",
            "40000/40000 [==============================] - 2s 41us/step - loss: 0.1798 - acc: 0.9425\n",
            "Epoch 11/15\n",
            "40000/40000 [==============================] - 2s 41us/step - loss: 0.1757 - acc: 0.9433\n",
            "Epoch 12/15\n",
            "40000/40000 [==============================] - 2s 41us/step - loss: 0.1756 - acc: 0.9441\n",
            "Epoch 13/15\n",
            "40000/40000 [==============================] - 2s 41us/step - loss: 0.1688 - acc: 0.9459\n",
            "Epoch 14/15\n",
            "40000/40000 [==============================] - 2s 40us/step - loss: 0.1649 - acc: 0.9470\n",
            "Epoch 15/15\n",
            "40000/40000 [==============================] - 2s 41us/step - loss: 0.1631 - acc: 0.9483\n",
            "Epoch 1/15\n",
            "40000/40000 [==============================] - 3s 67us/step - loss: 0.3035 - acc: 0.9039\n",
            "Epoch 2/15\n",
            "40000/40000 [==============================] - 2s 41us/step - loss: 0.1032 - acc: 0.9692\n",
            "Epoch 3/15\n",
            "40000/40000 [==============================] - 2s 41us/step - loss: 0.0776 - acc: 0.9768\n",
            "Epoch 4/15\n",
            "40000/40000 [==============================] - 2s 40us/step - loss: 0.0622 - acc: 0.9805\n",
            "Epoch 5/15\n",
            "40000/40000 [==============================] - 2s 40us/step - loss: 0.0530 - acc: 0.9837\n",
            "Epoch 6/15\n",
            "40000/40000 [==============================] - 2s 40us/step - loss: 0.0493 - acc: 0.9843\n",
            "Epoch 7/15\n",
            "40000/40000 [==============================] - 2s 40us/step - loss: 0.0420 - acc: 0.9878\n",
            "Epoch 8/15\n",
            "40000/40000 [==============================] - 2s 40us/step - loss: 0.0336 - acc: 0.9894\n",
            "Epoch 9/15\n",
            "40000/40000 [==============================] - 2s 40us/step - loss: 0.0381 - acc: 0.9880\n",
            "Epoch 10/15\n",
            "40000/40000 [==============================] - 2s 40us/step - loss: 0.0349 - acc: 0.9895\n",
            "Epoch 11/15\n",
            "40000/40000 [==============================] - 2s 40us/step - loss: 0.0318 - acc: 0.9905\n",
            "Epoch 12/15\n",
            "40000/40000 [==============================] - 2s 41us/step - loss: 0.0302 - acc: 0.9911\n",
            "Epoch 13/15\n",
            "40000/40000 [==============================] - 2s 41us/step - loss: 0.0292 - acc: 0.9913\n",
            "Epoch 14/15\n",
            "40000/40000 [==============================] - 2s 40us/step - loss: 0.0260 - acc: 0.9925\n",
            "Epoch 15/15\n",
            "40000/40000 [==============================] - 2s 40us/step - loss: 0.0248 - acc: 0.9922\n",
            "Epoch 1/15\n",
            "60000/60000 [==============================] - 3s 57us/step - loss: 0.2830 - acc: 0.9113\n",
            "Epoch 2/15\n",
            "60000/60000 [==============================] - 2s 39us/step - loss: 0.1197 - acc: 0.9642\n",
            "Epoch 3/15\n",
            "60000/60000 [==============================] - 2s 41us/step - loss: 0.0979 - acc: 0.9707\n",
            "Epoch 4/15\n",
            "60000/60000 [==============================] - 3s 42us/step - loss: 0.0848 - acc: 0.9749\n",
            "Epoch 5/15\n",
            "60000/60000 [==============================] - 3s 43us/step - loss: 0.0821 - acc: 0.9749\n",
            "Epoch 6/15\n",
            "60000/60000 [==============================] - 3s 42us/step - loss: 0.0757 - acc: 0.9775\n",
            "Epoch 7/15\n",
            "60000/60000 [==============================] - 2s 40us/step - loss: 0.0718 - acc: 0.9775\n",
            "Epoch 8/15\n",
            "60000/60000 [==============================] - 2s 41us/step - loss: 0.0722 - acc: 0.9777\n",
            "Epoch 9/15\n",
            "60000/60000 [==============================] - 3s 42us/step - loss: 0.0629 - acc: 0.9811\n",
            "Epoch 10/15\n",
            "60000/60000 [==============================] - 3s 42us/step - loss: 0.0604 - acc: 0.9814\n",
            "Epoch 11/15\n",
            "60000/60000 [==============================] - 3s 42us/step - loss: 0.0622 - acc: 0.9800\n",
            "Epoch 12/15\n",
            "60000/60000 [==============================] - 3s 42us/step - loss: 0.0612 - acc: 0.9814\n",
            "Epoch 13/15\n",
            "60000/60000 [==============================] - 3s 42us/step - loss: 0.0569 - acc: 0.9829\n",
            "Epoch 14/15\n",
            "60000/60000 [==============================] - 3s 43us/step - loss: 0.0556 - acc: 0.9829\n",
            "Epoch 15/15\n",
            "60000/60000 [==============================] - 3s 42us/step - loss: 0.0555 - acc: 0.9826\n"
          ],
          "name": "stdout"
        }
      ]
    },
    {
      "cell_type": "code",
      "metadata": {
        "id": "3EHjorOLOij9",
        "colab_type": "code",
        "outputId": "99cf25c5-b6a1-41f2-ff98-a603be027b52",
        "colab": {
          "base_uri": "https://localhost:8080/",
          "height": 68
        }
      },
      "source": [
        "best_model_cnn = validator.best_estimator_.model\n",
        "metric_names_cnn = best_model_cnn.metrics_names\n",
        "metric_values_cnn = best_model_cnn.evaluate(x_test_cnn, y_test_cnn)\n",
        "for metric, value in zip(metric_names_cnn, metric_values_cnn):\n",
        "    print(metric, ': ', value)\n",
        "    "
      ],
      "execution_count": 17,
      "outputs": [
        {
          "output_type": "stream",
          "text": [
            "10000/10000 [==============================] - 1s 96us/step\n",
            "loss :  0.03398493984423076\n",
            "acc :  0.9897\n"
          ],
          "name": "stdout"
        }
      ]
    },
    {
      "cell_type": "code",
      "metadata": {
        "id": "ENRsdaLg0m5U",
        "colab_type": "code",
        "colab": {
          "base_uri": "https://localhost:8080/",
          "height": 34
        },
        "outputId": "f5cba53c-03e1-48ce-f421-2a5676fc4af2"
      },
      "source": [
        "Result1.update(cnn_acu = metric_values_cnn[1]*100)\n",
        "Result1"
      ],
      "execution_count": 50,
      "outputs": [
        {
          "output_type": "execute_result",
          "data": {
            "text/plain": [
              "{'cnn_acu': 98.97, 'mlp_accu': 0.9371, 'rf_accu': 90.06}"
            ]
          },
          "metadata": {
            "tags": []
          },
          "execution_count": 50
        }
      ]
    },
    {
      "cell_type": "markdown",
      "metadata": {
        "id": "gAI2pPDXqW5D",
        "colab_type": "text"
      },
      "source": [
        "### AutoEncoder to Find Best Learning rate"
      ]
    },
    {
      "cell_type": "code",
      "metadata": {
        "id": "2SUAyg2UTB16",
        "colab_type": "code",
        "colab": {
          "base_uri": "https://localhost:8080/",
          "height": 170
        },
        "outputId": "296e5c87-0641-4b15-9367-5618848e0c98"
      },
      "source": [
        "from keras.datasets import fashion_mnist\n",
        "import numpy as np\n",
        "\n",
        "(x_train_ae,_), (x_test_ae, _) = fashion_mnist.load_data()\n",
        "\n",
        "x_train_ae = x_train_ae.astype('float32') / 255.\n",
        "x_test_ae = x_test_ae.astype('float32') / 255.\n",
        "x_train_ae = np.reshape(x_train_ae, (len(x_train_ae), 28, 28, 1))  # adapt this if using `channels_first` image data format\n",
        "x_test_ae = np.reshape(x_test_ae, (len(x_test_ae), 28, 28, 1))  # adapt this if using `channels_first` image data format\n",
        "x_train_ae.shape\n",
        "#y_train = keras.utils.to_categorical(y_train, 10)"
      ],
      "execution_count": 19,
      "outputs": [
        {
          "output_type": "stream",
          "text": [
            "Downloading data from http://fashion-mnist.s3-website.eu-central-1.amazonaws.com/train-labels-idx1-ubyte.gz\n",
            "32768/29515 [=================================] - 0s 4us/step\n",
            "Downloading data from http://fashion-mnist.s3-website.eu-central-1.amazonaws.com/train-images-idx3-ubyte.gz\n",
            "26427392/26421880 [==============================] - 2s 0us/step\n",
            "Downloading data from http://fashion-mnist.s3-website.eu-central-1.amazonaws.com/t10k-labels-idx1-ubyte.gz\n",
            "8192/5148 [===============================================] - 0s 0us/step\n",
            "Downloading data from http://fashion-mnist.s3-website.eu-central-1.amazonaws.com/t10k-images-idx3-ubyte.gz\n",
            "4423680/4422102 [==============================] - 1s 0us/step\n"
          ],
          "name": "stdout"
        },
        {
          "output_type": "execute_result",
          "data": {
            "text/plain": [
              "(60000, 28, 28, 1)"
            ]
          },
          "metadata": {
            "tags": []
          },
          "execution_count": 19
        }
      ]
    },
    {
      "cell_type": "code",
      "metadata": {
        "id": "4RJHFIr_fhIs",
        "colab_type": "code",
        "colab": {}
      },
      "source": [
        "def cnn_autoencoder(lr=0.01):\n",
        "  from keras.layers import Input, Dense, Conv2D, MaxPooling2D, UpSampling2D\n",
        "  from keras.models import Model\n",
        "  from keras import backend as K\n",
        "\n",
        "  input_img = Input(shape=(28, 28, 1))  # adapt this if using `channels_first` image data format\n",
        "\n",
        "  x = Conv2D(16, (3, 3), activation='relu', padding='same')(input_img)\n",
        "  x = MaxPooling2D((2, 2), padding='same')(x)\n",
        "  x = Conv2D(8, (3, 3), activation='relu', padding='same')(x)\n",
        "  x = MaxPooling2D((2, 2), padding='same')(x)\n",
        "  x = Conv2D(8, (3, 3), activation='relu', padding='same')(x)\n",
        "  encoded = MaxPooling2D((2, 2), padding='same')(x)\n",
        "\n",
        "  # at this point the representation is (4, 4, 8) i.e. 128-dimensional\n",
        "\n",
        "  x = Conv2D(8, (3, 3), activation='relu', padding='same')(encoded)\n",
        "  x = UpSampling2D((2, 2))(x)\n",
        "  x = Conv2D(8, (3, 3), activation='relu', padding='same')(x)\n",
        "  x = UpSampling2D((2, 2))(x)\n",
        "  x = Conv2D(16, (3, 3), activation='relu')(x)\n",
        "  x = UpSampling2D((2, 2))(x)\n",
        "  decoded = Conv2D(1, (3, 3), activation='sigmoid', padding='same')(x)\n",
        "\n",
        "  autoencoder = Model(input_img, decoded)\n",
        "  autoencoder.compile(optimizer = keras.optimizers.Adadelta(lr=lr),loss = 'binary_crossentropy')\n",
        "  \n",
        "  return autoencoder"
      ],
      "execution_count": 0,
      "outputs": []
    },
    {
      "cell_type": "code",
      "metadata": {
        "id": "o3JDMOQAT9no",
        "colab_type": "code",
        "outputId": "dd2519dc-ac3a-4dc5-c8ce-2de64ff83f4a",
        "colab": {
          "base_uri": "https://localhost:8080/",
          "height": 510
        }
      },
      "source": [
        "ae = cnn_autoencoder()\n",
        "parameter = { 'lr': [0.001,0.1]}\n",
        "comb = ParameterGrid(parameter)\n",
        "print(comb)\n",
        "analysis = []\n",
        "for param in ParameterGrid(parameter):\n",
        "  print(param)\n",
        "  \n",
        "  #history = {}\n",
        "  history = ae.fit(x_train_ae,x_train_ae, epochs=5, batch_size = 126,shuffle = True ,validation_data = (x_test_ae,x_test_ae))\n",
        "  \n",
        "  print(min(history.history['loss']))\n",
        "  print(min(history.history['val_loss']))\n",
        "  \n",
        "  \n",
        "  \n",
        "  \n"
      ],
      "execution_count": 21,
      "outputs": [
        {
          "output_type": "stream",
          "text": [
            "<sklearn.model_selection._search.ParameterGrid object at 0x7f63558ca390>\n",
            "{'lr': 0.001}\n",
            "Train on 60000 samples, validate on 10000 samples\n",
            "Epoch 1/5\n",
            "60000/60000 [==============================] - 5s 85us/step - loss: 0.6831 - val_loss: 0.6574\n",
            "Epoch 2/5\n",
            "60000/60000 [==============================] - 4s 60us/step - loss: 0.5885 - val_loss: 0.4862\n",
            "Epoch 3/5\n",
            "60000/60000 [==============================] - 4s 60us/step - loss: 0.4329 - val_loss: 0.3948\n",
            "Epoch 4/5\n",
            "60000/60000 [==============================] - 4s 60us/step - loss: 0.3786 - val_loss: 0.3721\n",
            "Epoch 5/5\n",
            "60000/60000 [==============================] - 4s 62us/step - loss: 0.3656 - val_loss: 0.3638\n",
            "0.36563389434814453\n",
            "0.36377939326763153\n",
            "{'lr': 0.1}\n",
            "Train on 60000 samples, validate on 10000 samples\n",
            "Epoch 1/5\n",
            "60000/60000 [==============================] - 4s 62us/step - loss: 0.3589 - val_loss: 0.3585\n",
            "Epoch 2/5\n",
            "60000/60000 [==============================] - 4s 62us/step - loss: 0.3544 - val_loss: 0.3544\n",
            "Epoch 3/5\n",
            "60000/60000 [==============================] - 4s 60us/step - loss: 0.3508 - val_loss: 0.3512\n",
            "Epoch 4/5\n",
            "60000/60000 [==============================] - 4s 60us/step - loss: 0.3478 - val_loss: 0.3484\n",
            "Epoch 5/5\n",
            "60000/60000 [==============================] - 4s 59us/step - loss: 0.3453 - val_loss: 0.3460\n",
            "0.3452665518462658\n",
            "0.34603440660238266\n"
          ],
          "name": "stdout"
        }
      ]
    },
    {
      "cell_type": "markdown",
      "metadata": {
        "id": "RBMOhMfv9tVl",
        "colab_type": "text"
      },
      "source": [
        "The loss for lr 0.1 is low so we trained auotencoder with learning rate of 0.1"
      ]
    },
    {
      "cell_type": "code",
      "metadata": {
        "id": "DVc3_z2z936Y",
        "colab_type": "code",
        "colab": {}
      },
      "source": [
        "from keras.layers import Input, Dense, Conv2D, MaxPooling2D, UpSampling2D\n",
        "from keras.models import Model\n",
        "from keras import backend as K\n",
        "\n",
        "input_img_ae = Input(shape=(28, 28, 1))  # adapt this if using `channels_first` image data format\n",
        "\n",
        "x = Conv2D(16, (3, 3), activation='relu', padding='same')(input_img_ae)\n",
        "x = MaxPooling2D((2, 2), padding='same')(x)\n",
        "x = Conv2D(8, (3, 3), activation='relu', padding='same')(x)\n",
        "x = MaxPooling2D((2, 2), padding='same')(x)\n",
        "x = Conv2D(8, (3, 3), activation='relu', padding='same')(x)\n",
        "encoded = MaxPooling2D((2, 2), padding='same')(x)\n",
        "encoder = Model(input_img_ae, encoded)\n",
        "\n",
        "  # at this point the representation is (4, 4, 8) i.e. 128-dimensional\n",
        "\n",
        "x = Conv2D(8, (3, 3), activation='relu', padding='same')(encoded)\n",
        "x = UpSampling2D((2, 2))(x)\n",
        "x = Conv2D(8, (3, 3), activation='relu', padding='same')(x)\n",
        "x = UpSampling2D((2, 2))(x)\n",
        "x = Conv2D(16, (3, 3), activation='relu')(x)\n",
        "x = UpSampling2D((2, 2))(x)\n",
        "decoded = Conv2D(1, (3, 3), activation='sigmoid', padding='same')(x)\n",
        "\n",
        "autoencoder = Model(input_img_ae, decoded)\n",
        "autoencoder.compile(optimizer = keras.optimizers.Adadelta(lr=0.1),loss = 'binary_crossentropy', metrics=['accuracy'])\n",
        "\n",
        "  \n",
        "  "
      ],
      "execution_count": 0,
      "outputs": []
    },
    {
      "cell_type": "code",
      "metadata": {
        "id": "Z5lCkDuv-CSx",
        "colab_type": "code",
        "colab": {
          "base_uri": "https://localhost:8080/",
          "height": 799
        },
        "outputId": "e91bf2f8-c586-48a3-845f-b6ee03ca2115"
      },
      "source": [
        "from sklearn.model_selection import KFold\n",
        "kf = KFold(n_splits=2, random_state=None, shuffle=False)\n",
        "val_score = []\n",
        "  \n",
        "for train_index,  test_index in kf.split(x_train_ae):\n",
        "  print(\"TRAIN:\", train_index, \"TEST:\", test_index)\n",
        "  X_train,X_test = x_train_ae[train_index],x_train_ae[test_index] \n",
        "  #val_score = []\n",
        "  \n",
        "  history = autoencoder.fit(X_train,X_train, epochs = 10,batch_size = 126, shuffle = True, validation_data = (X_test,X_test) )\n",
        "  score = autoencoder.evaluate(x_train_ae,x_train_ae)\n",
        "  val_score.append((score,autoencoder))\n",
        "  \n",
        "  \n",
        "  \n"
      ],
      "execution_count": 23,
      "outputs": [
        {
          "output_type": "stream",
          "text": [
            "TRAIN: [30000 30001 30002 ... 59997 59998 59999] TEST: [    0     1     2 ... 29997 29998 29999]\n",
            "Train on 30000 samples, validate on 30000 samples\n",
            "Epoch 1/10\n",
            "30000/30000 [==============================] - 4s 133us/step - loss: 0.5215 - acc: 0.4869 - val_loss: 0.3829 - val_acc: 0.4909\n",
            "Epoch 2/10\n",
            "30000/30000 [==============================] - 2s 77us/step - loss: 0.3675 - acc: 0.4962 - val_loss: 0.3539 - val_acc: 0.4969\n",
            "Epoch 3/10\n",
            "30000/30000 [==============================] - 2s 77us/step - loss: 0.3513 - acc: 0.4977 - val_loss: 0.3452 - val_acc: 0.5000\n",
            "Epoch 4/10\n",
            "30000/30000 [==============================] - 2s 77us/step - loss: 0.3445 - acc: 0.4985 - val_loss: 0.3408 - val_acc: 0.4971\n",
            "Epoch 5/10\n",
            "30000/30000 [==============================] - 2s 77us/step - loss: 0.3391 - acc: 0.4992 - val_loss: 0.3352 - val_acc: 0.4986\n",
            "Epoch 6/10\n",
            "30000/30000 [==============================] - 2s 77us/step - loss: 0.3341 - acc: 0.4999 - val_loss: 0.3304 - val_acc: 0.5007\n",
            "Epoch 7/10\n",
            "30000/30000 [==============================] - 2s 76us/step - loss: 0.3301 - acc: 0.5005 - val_loss: 0.3272 - val_acc: 0.5011\n",
            "Epoch 8/10\n",
            "30000/30000 [==============================] - 2s 77us/step - loss: 0.3265 - acc: 0.5011 - val_loss: 0.3248 - val_acc: 0.5006\n",
            "Epoch 9/10\n",
            "30000/30000 [==============================] - 2s 76us/step - loss: 0.3239 - acc: 0.5015 - val_loss: 0.3221 - val_acc: 0.5015\n",
            "Epoch 10/10\n",
            "30000/30000 [==============================] - 2s 76us/step - loss: 0.3215 - acc: 0.5018 - val_loss: 0.3212 - val_acc: 0.5036\n",
            "60000/60000 [==============================] - 4s 62us/step\n",
            "TRAIN: [    0     1     2 ... 29997 29998 29999] TEST: [30000 30001 30002 ... 59997 59998 59999]\n",
            "Train on 30000 samples, validate on 30000 samples\n",
            "Epoch 1/10\n",
            "30000/30000 [==============================] - 2s 76us/step - loss: 0.3192 - acc: 0.5023 - val_loss: 0.3194 - val_acc: 0.5007\n",
            "Epoch 2/10\n",
            "30000/30000 [==============================] - 2s 76us/step - loss: 0.3176 - acc: 0.5025 - val_loss: 0.3167 - val_acc: 0.5023\n",
            "Epoch 3/10\n",
            "30000/30000 [==============================] - 2s 78us/step - loss: 0.3161 - acc: 0.5027 - val_loss: 0.3153 - val_acc: 0.5025\n",
            "Epoch 4/10\n",
            "30000/30000 [==============================] - 2s 78us/step - loss: 0.3147 - acc: 0.5029 - val_loss: 0.3145 - val_acc: 0.5017\n",
            "Epoch 5/10\n",
            "30000/30000 [==============================] - 2s 77us/step - loss: 0.3133 - acc: 0.5030 - val_loss: 0.3127 - val_acc: 0.5031\n",
            "Epoch 6/10\n",
            "30000/30000 [==============================] - 2s 78us/step - loss: 0.3121 - acc: 0.5032 - val_loss: 0.3130 - val_acc: 0.5015\n",
            "Epoch 7/10\n",
            "30000/30000 [==============================] - 2s 77us/step - loss: 0.3112 - acc: 0.5033 - val_loss: 0.3110 - val_acc: 0.5024\n",
            "Epoch 8/10\n",
            "30000/30000 [==============================] - 2s 78us/step - loss: 0.3103 - acc: 0.5034 - val_loss: 0.3117 - val_acc: 0.5046\n",
            "Epoch 9/10\n",
            "30000/30000 [==============================] - 2s 76us/step - loss: 0.3094 - acc: 0.5035 - val_loss: 0.3097 - val_acc: 0.5022\n",
            "Epoch 10/10\n",
            "30000/30000 [==============================] - 2s 78us/step - loss: 0.3087 - acc: 0.5035 - val_loss: 0.3084 - val_acc: 0.5030\n",
            "60000/60000 [==============================] - 4s 60us/step\n"
          ],
          "name": "stdout"
        }
      ]
    },
    {
      "cell_type": "code",
      "metadata": {
        "id": "5Z6leMIfTuPG",
        "colab_type": "code",
        "colab": {
          "base_uri": "https://localhost:8080/",
          "height": 34
        },
        "outputId": "e8f2a33a-b41c-45b4-fb13-2723ebcf08ad"
      },
      "source": [
        "val_score\n",
        "\n",
        "sorted_val_score = sorted(val_score, key = lambda a:(a[0]), reverse = True)\n",
        "autoencoder = sorted_val_score[0].__getitem__(1)\n",
        "autoencoder"
      ],
      "execution_count": 24,
      "outputs": [
        {
          "output_type": "execute_result",
          "data": {
            "text/plain": [
              "<keras.engine.training.Model at 0x7f635518b3c8>"
            ]
          },
          "metadata": {
            "tags": []
          },
          "execution_count": 24
        }
      ]
    },
    {
      "cell_type": "code",
      "metadata": {
        "id": "I0pKljeCWJ23",
        "colab_type": "code",
        "colab": {
          "base_uri": "https://localhost:8080/",
          "height": 612
        },
        "outputId": "cdaf4ef4-3b6e-4cf4-9669-492be8d51eda"
      },
      "source": [
        "autoencoder.summary()"
      ],
      "execution_count": 25,
      "outputs": [
        {
          "output_type": "stream",
          "text": [
            "_________________________________________________________________\n",
            "Layer (type)                 Output Shape              Param #   \n",
            "=================================================================\n",
            "input_2 (InputLayer)         (None, 28, 28, 1)         0         \n",
            "_________________________________________________________________\n",
            "conv2d_22 (Conv2D)           (None, 28, 28, 16)        160       \n",
            "_________________________________________________________________\n",
            "max_pooling2d_11 (MaxPooling (None, 14, 14, 16)        0         \n",
            "_________________________________________________________________\n",
            "conv2d_23 (Conv2D)           (None, 14, 14, 8)         1160      \n",
            "_________________________________________________________________\n",
            "max_pooling2d_12 (MaxPooling (None, 7, 7, 8)           0         \n",
            "_________________________________________________________________\n",
            "conv2d_24 (Conv2D)           (None, 7, 7, 8)           584       \n",
            "_________________________________________________________________\n",
            "max_pooling2d_13 (MaxPooling (None, 4, 4, 8)           0         \n",
            "_________________________________________________________________\n",
            "conv2d_25 (Conv2D)           (None, 4, 4, 8)           584       \n",
            "_________________________________________________________________\n",
            "up_sampling2d_4 (UpSampling2 (None, 8, 8, 8)           0         \n",
            "_________________________________________________________________\n",
            "conv2d_26 (Conv2D)           (None, 8, 8, 8)           584       \n",
            "_________________________________________________________________\n",
            "up_sampling2d_5 (UpSampling2 (None, 16, 16, 8)         0         \n",
            "_________________________________________________________________\n",
            "conv2d_27 (Conv2D)           (None, 14, 14, 16)        1168      \n",
            "_________________________________________________________________\n",
            "up_sampling2d_6 (UpSampling2 (None, 28, 28, 16)        0         \n",
            "_________________________________________________________________\n",
            "conv2d_28 (Conv2D)           (None, 28, 28, 1)         145       \n",
            "=================================================================\n",
            "Total params: 4,385\n",
            "Trainable params: 4,385\n",
            "Non-trainable params: 0\n",
            "_________________________________________________________________\n"
          ],
          "name": "stdout"
        }
      ]
    },
    {
      "cell_type": "code",
      "metadata": {
        "id": "mPzkN8RqDL8J",
        "colab_type": "code",
        "colab": {
          "base_uri": "https://localhost:8080/",
          "height": 374
        },
        "outputId": "39b4c6c0-c25a-49cf-be6b-4cb363079928"
      },
      "source": [
        "\n",
        "encoder_train  = Model(autoencoder.input, autoencoder.layers[-8].output)\n",
        "\n",
        "encoder_train.summary()\n"
      ],
      "execution_count": 26,
      "outputs": [
        {
          "output_type": "stream",
          "text": [
            "_________________________________________________________________\n",
            "Layer (type)                 Output Shape              Param #   \n",
            "=================================================================\n",
            "input_2 (InputLayer)         (None, 28, 28, 1)         0         \n",
            "_________________________________________________________________\n",
            "conv2d_22 (Conv2D)           (None, 28, 28, 16)        160       \n",
            "_________________________________________________________________\n",
            "max_pooling2d_11 (MaxPooling (None, 14, 14, 16)        0         \n",
            "_________________________________________________________________\n",
            "conv2d_23 (Conv2D)           (None, 14, 14, 8)         1160      \n",
            "_________________________________________________________________\n",
            "max_pooling2d_12 (MaxPooling (None, 7, 7, 8)           0         \n",
            "_________________________________________________________________\n",
            "conv2d_24 (Conv2D)           (None, 7, 7, 8)           584       \n",
            "_________________________________________________________________\n",
            "max_pooling2d_13 (MaxPooling (None, 4, 4, 8)           0         \n",
            "=================================================================\n",
            "Total params: 1,904\n",
            "Trainable params: 1,904\n",
            "Non-trainable params: 0\n",
            "_________________________________________________________________\n"
          ],
          "name": "stdout"
        }
      ]
    },
    {
      "cell_type": "code",
      "metadata": {
        "id": "gZTowZrHFP_P",
        "colab_type": "code",
        "colab": {
          "base_uri": "https://localhost:8080/",
          "height": 466
        },
        "outputId": "0124c8f3-d540-4571-a218-0e5ad9d4a523"
      },
      "source": [
        "n = 10\n",
        "plt.figure(figsize=(20, 8))\n",
        "for i in range(n):\n",
        "    ax = plt.subplot(1, n, i+1)\n",
        "    plt.imshow(encoder_train_image[i].reshape(4, 4 * 8).T)\n",
        "    plt.gray()\n",
        "    ax.get_xaxis().set_visible(False)\n",
        "    ax.get_yaxis().set_visible(False)\n",
        "plt.show()"
      ],
      "execution_count": 115,
      "outputs": [
        {
          "output_type": "display_data",
          "data": {
            "image/png": "[encoded data removed]",
            "text/plain": [
              "<Figure size 1440x576 with 10 Axes>"
            ]
          },
          "metadata": {
            "tags": []
          }
        }
      ]
    },
    {
      "cell_type": "code",
      "metadata": {
        "id": "u-woW1tNhz2v",
        "colab_type": "code",
        "colab": {}
      },
      "source": [
        "# function to build basic mlp:\n",
        "def mlp_model3(layers,activation, optimizer,drop_out, num_classes=10):\n",
        "  ''' Build a simple mlp model for multi-class classification;  \n",
        "      Arguments:all the hyperparametes (layers,act,opt, drop_out) to buld in a mlp provided by dictionary of parameters used during hyperparameter\n",
        "      optimization\n",
        "      \n",
        "           '''\n",
        "  from keras.layers import InputLayer\n",
        "  model = Sequential()\n",
        "  for i in range(len(layers)):\n",
        "    if i == 0:\n",
        "        model.add(InputLayer( input_shape=(128,)))\n",
        "        #model.add(Dense(layers[i], activation=activation, input_shape=(32,4,)))\n",
        "        #model.add(Dropout(drop_out))\n",
        "    else:\n",
        "      model.add(Dense(layers[i], activation=activation))\n",
        "      model.add(Dropout(drop_out))\n",
        "  model.add(Dense(num_classes, activation=activation))\n",
        "  model.summary()\n",
        "\n",
        "  model.compile(loss='categorical_crossentropy',\n",
        "                  optimizer=optimizer,\n",
        "                  metrics=['accuracy'])\n",
        "\n",
        "  return model"
      ],
      "execution_count": 0,
      "outputs": []
    },
    {
      "cell_type": "markdown",
      "metadata": {
        "id": "D416Lrt1AU07",
        "colab_type": "text"
      },
      "source": [
        ""
      ]
    },
    {
      "cell_type": "code",
      "metadata": {
        "id": "XtOfeScFiF_j",
        "colab_type": "code",
        "colab": {
          "base_uri": "https://localhost:8080/",
          "height": 51
        },
        "outputId": "029adce3-d581-464c-f32a-1f09da9ec978"
      },
      "source": [
        "(x_train_mae, y_train_mae), (x_test_mae, y_test_mae) = fashion_mnist.load_data()\n",
        "x_train_mae = x_train_mae.reshape(60000, 784)\n",
        "x_test_mae = x_test_mae.reshape(10000, 784)\n",
        "x_train_mae = x_train_mae.astype('float32')\n",
        "x_test_mae = x_test_mae.astype('float32')\n",
        "x_train_mae /= 255\n",
        "x_test_mae /= 255\n",
        "print(x_train_mae.shape, 'train samples')\n",
        "print(x_test_mae.shape[0], 'test samples')\n",
        "y_train_mae = keras.utils.to_categorical(y_train_mae, 10)\n",
        "y_label = keras.utils.to_categorical(y_test_mae,10)\n",
        "#y_train.shape"
      ],
      "execution_count": 46,
      "outputs": [
        {
          "output_type": "stream",
          "text": [
            "(60000, 784) train samples\n",
            "10000 test samples\n"
          ],
          "name": "stdout"
        }
      ]
    },
    {
      "cell_type": "code",
      "metadata": {
        "id": "nJZwVDQjjEve",
        "colab_type": "code",
        "colab": {}
      },
      "source": [
        "x_train_3 = x_train_mae.reshape(60000, 28,28,1)\n",
        "x_test_3 = x_test_mae.reshape(10000,28,28,1)"
      ],
      "execution_count": 0,
      "outputs": []
    },
    {
      "cell_type": "code",
      "metadata": {
        "id": "E2eFMrrciujX",
        "colab_type": "code",
        "colab": {}
      },
      "source": [
        "encoder_train_image = encoder_train.predict(x_train_3)\n",
        "encoder_test_image = encoder_train.predict(x_test_3)\n"
      ],
      "execution_count": 0,
      "outputs": []
    },
    {
      "cell_type": "markdown",
      "metadata": {
        "id": "UAV6iivhdcMN",
        "colab_type": "text"
      },
      "source": [
        ""
      ]
    },
    {
      "cell_type": "code",
      "metadata": {
        "id": "oXRPj4rUJm7R",
        "colab_type": "code",
        "colab": {
          "base_uri": "https://localhost:8080/",
          "height": 9129
        },
        "outputId": "d3678d08-c2bc-45d8-d62d-f07b92c13dd4"
      },
      "source": [
        "model3 = KerasClassifier(build_fn=mlp_model3, epochs=30, batch_size=256, verbose=1)\n",
        "print(y_train.shape)\n",
        "print(x_train_3.shape)\n",
        "\n",
        "parameter = {'layers':[[512,512],[512,512,512]],'activation': [ 'relu',],\n",
        "             'optimizer': [ 'Adam' ],\n",
        "             'drop_out': [ 0.1]}\n",
        "classifier3 = GridSearchCV(estimator=model3, param_grid=parameter,verbose = 1)\n",
        "search_result3 = classifier3.fit(encoder_train_image.reshape(60000,128), y_train_mae)"
      ],
      "execution_count": 36,
      "outputs": [
        {
          "output_type": "stream",
          "text": [
            "(60000, 10)\n",
            "(60000, 28, 28, 1)\n",
            "Fitting 3 folds for each of 2 candidates, totalling 6 fits\n",
            "_________________________________________________________________\n",
            "Layer (type)                 Output Shape              Param #   \n",
            "=================================================================\n",
            "dense_61 (Dense)             (None, 512)               66048     \n",
            "_________________________________________________________________\n",
            "dropout_44 (Dropout)         (None, 512)               0         \n",
            "_________________________________________________________________\n",
            "dense_62 (Dense)             (None, 10)                5130      \n",
            "=================================================================\n",
            "Total params: 71,178\n",
            "Trainable params: 71,178\n",
            "Non-trainable params: 0\n",
            "_________________________________________________________________\n"
          ],
          "name": "stdout"
        },
        {
          "output_type": "stream",
          "text": [
            "/usr/local/lib/python3.6/dist-packages/sklearn/model_selection/_split.py:1978: FutureWarning: The default value of cv will change from 3 to 5 in version 0.22. Specify it explicitly to silence this warning.\n",
            "  warnings.warn(CV_WARNING, FutureWarning)\n",
            "[Parallel(n_jobs=1)]: Using backend SequentialBackend with 1 concurrent workers.\n"
          ],
          "name": "stderr"
        },
        {
          "output_type": "stream",
          "text": [
            "Epoch 1/30\n",
            "40000/40000 [==============================] - 2s 57us/step - loss: 2.8813 - acc: 0.4850\n",
            "Epoch 2/30\n",
            "40000/40000 [==============================] - 1s 14us/step - loss: 2.9197 - acc: 0.3339\n",
            "Epoch 3/30\n",
            "40000/40000 [==============================] - 1s 14us/step - loss: 2.7601 - acc: 0.4440\n",
            "Epoch 4/30\n",
            "40000/40000 [==============================] - 1s 14us/step - loss: 2.9479 - acc: 0.2461\n",
            "Epoch 5/30\n",
            "40000/40000 [==============================] - 1s 14us/step - loss: 2.6500 - acc: 0.5283\n",
            "Epoch 6/30\n",
            "40000/40000 [==============================] - 1s 14us/step - loss: 2.9540 - acc: 0.2751\n",
            "Epoch 7/30\n",
            "40000/40000 [==============================] - 1s 14us/step - loss: 3.1235 - acc: 0.1441\n",
            "Epoch 8/30\n",
            "40000/40000 [==============================] - 1s 14us/step - loss: 2.9365 - acc: 0.2575\n",
            "Epoch 9/30\n",
            "40000/40000 [==============================] - 1s 14us/step - loss: 2.7265 - acc: 0.4703\n",
            "Epoch 10/30\n",
            "40000/40000 [==============================] - 1s 14us/step - loss: 2.6742 - acc: 0.4901\n",
            "Epoch 11/30\n",
            "40000/40000 [==============================] - 1s 14us/step - loss: 3.0011 - acc: 0.1675\n",
            "Epoch 12/30\n",
            "40000/40000 [==============================] - 1s 15us/step - loss: 2.7684 - acc: 0.4275\n",
            "Epoch 13/30\n",
            "40000/40000 [==============================] - 1s 15us/step - loss: 2.9601 - acc: 0.2853\n",
            "Epoch 14/30\n",
            "40000/40000 [==============================] - 1s 15us/step - loss: 2.8490 - acc: 0.3599\n",
            "Epoch 15/30\n",
            "40000/40000 [==============================] - 1s 15us/step - loss: 2.7952 - acc: 0.4027\n",
            "Epoch 16/30\n",
            "40000/40000 [==============================] - 1s 15us/step - loss: 2.6743 - acc: 0.5165\n",
            "Epoch 17/30\n",
            "40000/40000 [==============================] - 1s 14us/step - loss: 2.6257 - acc: 0.5445\n",
            "Epoch 18/30\n",
            "40000/40000 [==============================] - 1s 14us/step - loss: 2.6142 - acc: 0.5452\n",
            "Epoch 19/30\n",
            "40000/40000 [==============================] - 1s 15us/step - loss: 2.6223 - acc: 0.5559\n",
            "Epoch 20/30\n",
            "40000/40000 [==============================] - 1s 14us/step - loss: 2.5982 - acc: 0.5673\n",
            "Epoch 21/30\n",
            "40000/40000 [==============================] - 1s 15us/step - loss: 2.8331 - acc: 0.3077\n",
            "Epoch 22/30\n",
            "40000/40000 [==============================] - 1s 14us/step - loss: 2.6899 - acc: 0.4580\n",
            "Epoch 23/30\n",
            "40000/40000 [==============================] - 1s 14us/step - loss: 2.5971 - acc: 0.5539\n",
            "Epoch 24/30\n",
            "40000/40000 [==============================] - 1s 15us/step - loss: 2.5806 - acc: 0.5809\n",
            "Epoch 25/30\n",
            "40000/40000 [==============================] - 1s 14us/step - loss: 2.5689 - acc: 0.5839\n",
            "Epoch 26/30\n",
            "40000/40000 [==============================] - 1s 15us/step - loss: 2.5727 - acc: 0.5455\n",
            "Epoch 27/30\n",
            "40000/40000 [==============================] - 1s 14us/step - loss: 2.6920 - acc: 0.4919\n",
            "Epoch 28/30\n",
            "40000/40000 [==============================] - 1s 15us/step - loss: 2.5572 - acc: 0.5802\n",
            "Epoch 29/30\n",
            "40000/40000 [==============================] - 1s 15us/step - loss: 2.5416 - acc: 0.5967\n",
            "Epoch 30/30\n",
            "40000/40000 [==============================] - 1s 13us/step - loss: 2.5653 - acc: 0.5172\n",
            "20000/20000 [==============================] - 1s 42us/step\n",
            "_________________________________________________________________\n",
            "Layer (type)                 Output Shape              Param #   \n",
            "=================================================================\n",
            "dense_63 (Dense)             (None, 512)               66048     \n",
            "_________________________________________________________________\n",
            "dropout_45 (Dropout)         (None, 512)               0         \n",
            "_________________________________________________________________\n",
            "dense_64 (Dense)             (None, 10)                5130      \n",
            "=================================================================\n",
            "Total params: 71,178\n",
            "Trainable params: 71,178\n",
            "Non-trainable params: 0\n",
            "_________________________________________________________________\n",
            "Epoch 1/30\n",
            "40000/40000 [==============================] - 2s 59us/step - loss: 5.9359 - acc: 0.3354\n",
            "Epoch 2/30\n",
            "40000/40000 [==============================] - 1s 14us/step - loss: 5.5402 - acc: 0.4234\n",
            "Epoch 3/30\n",
            "40000/40000 [==============================] - 1s 14us/step - loss: 5.5728 - acc: 0.4136\n",
            "Epoch 4/30\n",
            "40000/40000 [==============================] - 1s 14us/step - loss: 5.6745 - acc: 0.2990\n",
            "Epoch 5/30\n",
            "40000/40000 [==============================] - 1s 14us/step - loss: 5.5544 - acc: 0.4177\n",
            "Epoch 6/30\n",
            "40000/40000 [==============================] - 1s 14us/step - loss: 5.4873 - acc: 0.4555\n",
            "Epoch 7/30\n",
            "40000/40000 [==============================] - 1s 14us/step - loss: 5.8377 - acc: 0.1913\n",
            "Epoch 8/30\n",
            "40000/40000 [==============================] - 1s 14us/step - loss: 5.5769 - acc: 0.3921\n",
            "Epoch 9/30\n",
            "40000/40000 [==============================] - 1s 14us/step - loss: 5.5306 - acc: 0.3989\n",
            "Epoch 10/30\n",
            "40000/40000 [==============================] - 1s 14us/step - loss: 5.5512 - acc: 0.3854\n",
            "Epoch 11/30\n",
            "40000/40000 [==============================] - 1s 14us/step - loss: 5.8346 - acc: 0.1812\n",
            "Epoch 12/30\n",
            "40000/40000 [==============================] - 1s 14us/step - loss: 5.5980 - acc: 0.3781\n",
            "Epoch 13/30\n",
            "40000/40000 [==============================] - 1s 14us/step - loss: 5.5693 - acc: 0.4044\n",
            "Epoch 14/30\n",
            "40000/40000 [==============================] - 1s 14us/step - loss: 5.5370 - acc: 0.4263\n",
            "Epoch 15/30\n",
            "40000/40000 [==============================] - 1s 14us/step - loss: 5.4884 - acc: 0.4455\n",
            "Epoch 16/30\n",
            "40000/40000 [==============================] - 1s 14us/step - loss: 5.5237 - acc: 0.4120\n",
            "Epoch 17/30\n",
            "40000/40000 [==============================] - 1s 14us/step - loss: 5.4968 - acc: 0.4329\n",
            "Epoch 18/30\n",
            "40000/40000 [==============================] - 1s 14us/step - loss: 5.5417 - acc: 0.4075\n",
            "Epoch 19/30\n",
            "40000/40000 [==============================] - 1s 14us/step - loss: 5.5185 - acc: 0.4158\n",
            "Epoch 20/30\n",
            "40000/40000 [==============================] - 1s 14us/step - loss: 5.4320 - acc: 0.4582\n",
            "Epoch 21/30\n",
            "40000/40000 [==============================] - 1s 14us/step - loss: 5.4976 - acc: 0.4297\n",
            "Epoch 22/30\n",
            "40000/40000 [==============================] - 1s 14us/step - loss: 5.7465 - acc: 0.2190\n",
            "Epoch 23/30\n",
            "40000/40000 [==============================] - 1s 14us/step - loss: 5.5646 - acc: 0.3654\n",
            "Epoch 24/30\n",
            "40000/40000 [==============================] - 1s 14us/step - loss: 5.5339 - acc: 0.3923\n",
            "Epoch 25/30\n",
            "40000/40000 [==============================] - 1s 14us/step - loss: 5.5038 - acc: 0.4413\n",
            "Epoch 26/30\n",
            "40000/40000 [==============================] - 1s 14us/step - loss: 5.4756 - acc: 0.4522\n",
            "Epoch 27/30\n",
            "40000/40000 [==============================] - 1s 14us/step - loss: 5.5193 - acc: 0.4224\n",
            "Epoch 28/30\n",
            "40000/40000 [==============================] - 1s 14us/step - loss: 5.6003 - acc: 0.3249\n",
            "Epoch 29/30\n",
            "40000/40000 [==============================] - 1s 14us/step - loss: 5.5771 - acc: 0.3933\n",
            "Epoch 30/30\n",
            "40000/40000 [==============================] - 1s 14us/step - loss: 5.4738 - acc: 0.4548\n",
            "20000/20000 [==============================] - 1s 42us/step\n",
            "_________________________________________________________________\n",
            "Layer (type)                 Output Shape              Param #   \n",
            "=================================================================\n",
            "dense_65 (Dense)             (None, 512)               66048     \n",
            "_________________________________________________________________\n",
            "dropout_46 (Dropout)         (None, 512)               0         \n",
            "_________________________________________________________________\n",
            "dense_66 (Dense)             (None, 10)                5130      \n",
            "=================================================================\n",
            "Total params: 71,178\n",
            "Trainable params: 71,178\n",
            "Non-trainable params: 0\n",
            "_________________________________________________________________\n",
            "Epoch 1/30\n",
            "40000/40000 [==============================] - 2s 60us/step - loss: 6.4699 - acc: 0.3604\n",
            "Epoch 2/30\n",
            "40000/40000 [==============================] - 1s 14us/step - loss: 5.4970 - acc: 0.4562\n",
            "Epoch 3/30\n",
            "40000/40000 [==============================] - 1s 14us/step - loss: 5.4290 - acc: 0.5038\n",
            "Epoch 4/30\n",
            "40000/40000 [==============================] - 1s 14us/step - loss: 5.3957 - acc: 0.5180\n",
            "Epoch 5/30\n",
            "40000/40000 [==============================] - 1s 14us/step - loss: 5.4942 - acc: 0.4444\n",
            "Epoch 6/30\n",
            "40000/40000 [==============================] - 1s 14us/step - loss: 5.4725 - acc: 0.4394\n",
            "Epoch 7/30\n",
            "40000/40000 [==============================] - 1s 14us/step - loss: 5.3526 - acc: 0.5289\n",
            "Epoch 8/30\n",
            "40000/40000 [==============================] - 1s 13us/step - loss: 5.3532 - acc: 0.5351\n",
            "Epoch 9/30\n",
            "40000/40000 [==============================] - 1s 13us/step - loss: 5.4657 - acc: 0.4317\n",
            "Epoch 10/30\n",
            "40000/40000 [==============================] - 1s 14us/step - loss: 5.3600 - acc: 0.5174\n",
            "Epoch 11/30\n",
            "40000/40000 [==============================] - 1s 14us/step - loss: 5.6788 - acc: 0.2818\n",
            "Epoch 12/30\n",
            "40000/40000 [==============================] - 1s 14us/step - loss: 5.4191 - acc: 0.4860\n",
            "Epoch 13/30\n",
            "40000/40000 [==============================] - 1s 14us/step - loss: 5.4651 - acc: 0.4446\n",
            "Epoch 14/30\n",
            "40000/40000 [==============================] - 1s 14us/step - loss: 5.5109 - acc: 0.4182\n",
            "Epoch 15/30\n",
            "40000/40000 [==============================] - 1s 14us/step - loss: 5.4692 - acc: 0.4567\n",
            "Epoch 16/30\n",
            "40000/40000 [==============================] - 1s 14us/step - loss: 5.3838 - acc: 0.5071\n",
            "Epoch 17/30\n",
            "40000/40000 [==============================] - 1s 13us/step - loss: 5.3630 - acc: 0.5082\n",
            "Epoch 18/30\n",
            "40000/40000 [==============================] - 1s 14us/step - loss: 5.4911 - acc: 0.4001\n",
            "Epoch 19/30\n",
            "40000/40000 [==============================] - 1s 14us/step - loss: 5.3519 - acc: 0.5039\n",
            "Epoch 20/30\n",
            "40000/40000 [==============================] - 1s 15us/step - loss: 5.3326 - acc: 0.5222\n",
            "Epoch 21/30\n",
            "40000/40000 [==============================] - 1s 14us/step - loss: 5.3645 - acc: 0.4891\n",
            "Epoch 22/30\n",
            "40000/40000 [==============================] - 1s 14us/step - loss: 5.4550 - acc: 0.4405\n",
            "Epoch 23/30\n",
            "40000/40000 [==============================] - 1s 14us/step - loss: 5.4842 - acc: 0.4060\n",
            "Epoch 24/30\n",
            "40000/40000 [==============================] - 1s 14us/step - loss: 5.3196 - acc: 0.5218\n",
            "Epoch 25/30\n",
            "40000/40000 [==============================] - 1s 14us/step - loss: 5.3214 - acc: 0.5288\n",
            "Epoch 26/30\n",
            "40000/40000 [==============================] - 1s 14us/step - loss: 5.3904 - acc: 0.4705\n",
            "Epoch 27/30\n",
            "40000/40000 [==============================] - 1s 14us/step - loss: 5.4530 - acc: 0.4434\n",
            "Epoch 28/30\n",
            "40000/40000 [==============================] - 1s 13us/step - loss: 5.5046 - acc: 0.3706\n",
            "Epoch 29/30\n",
            "40000/40000 [==============================] - 1s 14us/step - loss: 5.3546 - acc: 0.5215\n",
            "Epoch 30/30\n",
            "40000/40000 [==============================] - 1s 13us/step - loss: 5.3360 - acc: 0.5333\n",
            "20000/20000 [==============================] - 1s 42us/step\n",
            "_________________________________________________________________\n",
            "Layer (type)                 Output Shape              Param #   \n",
            "=================================================================\n",
            "dense_67 (Dense)             (None, 512)               66048     \n",
            "_________________________________________________________________\n",
            "dropout_47 (Dropout)         (None, 512)               0         \n",
            "_________________________________________________________________\n",
            "dense_68 (Dense)             (None, 512)               262656    \n",
            "_________________________________________________________________\n",
            "dropout_48 (Dropout)         (None, 512)               0         \n",
            "_________________________________________________________________\n",
            "dense_69 (Dense)             (None, 10)                5130      \n",
            "=================================================================\n",
            "Total params: 333,834\n",
            "Trainable params: 333,834\n",
            "Non-trainable params: 0\n",
            "_________________________________________________________________\n",
            "Epoch 1/30\n",
            "40000/40000 [==============================] - 3s 65us/step - loss: 3.6438 - acc: 0.4448\n",
            "Epoch 2/30\n",
            "40000/40000 [==============================] - 1s 17us/step - loss: 2.6498 - acc: 0.5559\n",
            "Epoch 3/30\n",
            "40000/40000 [==============================] - 1s 16us/step - loss: 2.8504 - acc: 0.4270\n",
            "Epoch 4/30\n",
            "40000/40000 [==============================] - 1s 16us/step - loss: 2.7133 - acc: 0.5038\n",
            "Epoch 5/30\n",
            "40000/40000 [==============================] - 1s 17us/step - loss: 2.6175 - acc: 0.5454\n",
            "Epoch 6/30\n",
            "40000/40000 [==============================] - 1s 17us/step - loss: 2.4477 - acc: 0.6270\n",
            "Epoch 7/30\n",
            "40000/40000 [==============================] - 1s 16us/step - loss: 2.4036 - acc: 0.6263\n",
            "Epoch 8/30\n",
            "40000/40000 [==============================] - 1s 17us/step - loss: 2.3774 - acc: 0.6507\n",
            "Epoch 9/30\n",
            "40000/40000 [==============================] - 1s 16us/step - loss: 2.3852 - acc: 0.6250\n",
            "Epoch 10/30\n",
            "40000/40000 [==============================] - 1s 16us/step - loss: 2.5847 - acc: 0.4980\n",
            "Epoch 11/30\n",
            "40000/40000 [==============================] - 1s 16us/step - loss: 2.4273 - acc: 0.6195\n",
            "Epoch 12/30\n",
            "40000/40000 [==============================] - 1s 16us/step - loss: 2.4017 - acc: 0.6142\n",
            "Epoch 13/30\n",
            "40000/40000 [==============================] - 1s 16us/step - loss: 2.3249 - acc: 0.6621\n",
            "Epoch 14/30\n",
            "40000/40000 [==============================] - 1s 16us/step - loss: 2.3823 - acc: 0.6205\n",
            "Epoch 15/30\n",
            "40000/40000 [==============================] - 1s 16us/step - loss: 2.4362 - acc: 0.6123\n",
            "Epoch 16/30\n",
            "40000/40000 [==============================] - 1s 16us/step - loss: 2.4738 - acc: 0.5909\n",
            "Epoch 17/30\n",
            "40000/40000 [==============================] - 1s 16us/step - loss: 2.7551 - acc: 0.4823\n",
            "Epoch 18/30\n",
            "40000/40000 [==============================] - 1s 17us/step - loss: 2.7204 - acc: 0.4128\n",
            "Epoch 19/30\n",
            "40000/40000 [==============================] - 1s 16us/step - loss: 2.5093 - acc: 0.5795\n",
            "Epoch 20/30\n",
            "40000/40000 [==============================] - 1s 16us/step - loss: 2.9665 - acc: 0.3259\n",
            "Epoch 21/30\n",
            "40000/40000 [==============================] - 1s 16us/step - loss: 2.7413 - acc: 0.4209\n",
            "Epoch 22/30\n",
            "40000/40000 [==============================] - 1s 16us/step - loss: 2.7034 - acc: 0.4784\n",
            "Epoch 23/30\n",
            "40000/40000 [==============================] - 1s 16us/step - loss: 2.5788 - acc: 0.4996\n",
            "Epoch 24/30\n",
            "40000/40000 [==============================] - 1s 16us/step - loss: 2.5278 - acc: 0.5638\n",
            "Epoch 25/30\n",
            "40000/40000 [==============================] - 1s 16us/step - loss: 2.8152 - acc: 0.3506\n",
            "Epoch 26/30\n",
            "40000/40000 [==============================] - 1s 16us/step - loss: 2.5751 - acc: 0.5485\n",
            "Epoch 27/30\n",
            "40000/40000 [==============================] - 1s 16us/step - loss: 2.4854 - acc: 0.6111\n",
            "Epoch 28/30\n",
            "40000/40000 [==============================] - 1s 17us/step - loss: 2.4639 - acc: 0.6179\n",
            "Epoch 29/30\n",
            "40000/40000 [==============================] - 1s 16us/step - loss: 2.4199 - acc: 0.6194\n",
            "Epoch 30/30\n",
            "40000/40000 [==============================] - 1s 16us/step - loss: 2.5246 - acc: 0.5755\n",
            "20000/20000 [==============================] - 1s 45us/step\n",
            "_________________________________________________________________\n",
            "Layer (type)                 Output Shape              Param #   \n",
            "=================================================================\n",
            "dense_70 (Dense)             (None, 512)               66048     \n",
            "_________________________________________________________________\n",
            "dropout_49 (Dropout)         (None, 512)               0         \n",
            "_________________________________________________________________\n",
            "dense_71 (Dense)             (None, 512)               262656    \n",
            "_________________________________________________________________\n",
            "dropout_50 (Dropout)         (None, 512)               0         \n",
            "_________________________________________________________________\n",
            "dense_72 (Dense)             (None, 10)                5130      \n",
            "=================================================================\n",
            "Total params: 333,834\n",
            "Trainable params: 333,834\n",
            "Non-trainable params: 0\n",
            "_________________________________________________________________\n",
            "Epoch 1/30\n",
            "40000/40000 [==============================] - 3s 67us/step - loss: 4.2251 - acc: 0.5119\n",
            "Epoch 2/30\n",
            "40000/40000 [==============================] - 1s 16us/step - loss: 3.9502 - acc: 0.5828\n",
            "Epoch 3/30\n",
            "40000/40000 [==============================] - 1s 16us/step - loss: 4.0722 - acc: 0.5249\n",
            "Epoch 4/30\n",
            "40000/40000 [==============================] - 1s 16us/step - loss: 3.9890 - acc: 0.5529\n",
            "Epoch 5/30\n",
            "40000/40000 [==============================] - 1s 16us/step - loss: 3.9778 - acc: 0.5075\n",
            "Epoch 6/30\n",
            "40000/40000 [==============================] - 1s 16us/step - loss: 3.8972 - acc: 0.6161\n",
            "Epoch 7/30\n",
            "40000/40000 [==============================] - 1s 16us/step - loss: 4.0219 - acc: 0.5314\n",
            "Epoch 8/30\n",
            "40000/40000 [==============================] - 1s 16us/step - loss: 4.0409 - acc: 0.5235\n",
            "Epoch 9/30\n",
            "40000/40000 [==============================] - 1s 16us/step - loss: 3.8772 - acc: 0.6216\n",
            "Epoch 10/30\n",
            "40000/40000 [==============================] - 1s 16us/step - loss: 3.8397 - acc: 0.6095\n",
            "Epoch 11/30\n",
            "40000/40000 [==============================] - 1s 16us/step - loss: 3.7660 - acc: 0.6542\n",
            "Epoch 12/30\n",
            "40000/40000 [==============================] - 1s 16us/step - loss: 3.9315 - acc: 0.5172\n",
            "Epoch 13/30\n",
            "40000/40000 [==============================] - 1s 17us/step - loss: 3.9401 - acc: 0.5458\n",
            "Epoch 14/30\n",
            "40000/40000 [==============================] - 1s 16us/step - loss: 3.9193 - acc: 0.5660\n",
            "Epoch 15/30\n",
            "40000/40000 [==============================] - 1s 16us/step - loss: 3.9237 - acc: 0.5156\n",
            "Epoch 16/30\n",
            "40000/40000 [==============================] - 1s 16us/step - loss: 4.7604 - acc: 0.4276\n",
            "Epoch 17/30\n",
            "40000/40000 [==============================] - 1s 16us/step - loss: 5.7049 - acc: 0.2380\n",
            "Epoch 18/30\n",
            "40000/40000 [==============================] - 1s 17us/step - loss: 5.2377 - acc: 0.4701\n",
            "Epoch 19/30\n",
            "40000/40000 [==============================] - 1s 16us/step - loss: 5.3840 - acc: 0.4982\n",
            "Epoch 20/30\n",
            "40000/40000 [==============================] - 1s 17us/step - loss: 5.4055 - acc: 0.4779\n",
            "Epoch 21/30\n",
            "40000/40000 [==============================] - 1s 17us/step - loss: 5.4848 - acc: 0.3975\n",
            "Epoch 22/30\n",
            "40000/40000 [==============================] - 1s 16us/step - loss: 5.5587 - acc: 0.3992\n",
            "Epoch 23/30\n",
            "40000/40000 [==============================] - 1s 16us/step - loss: 5.5318 - acc: 0.3733\n",
            "Epoch 24/30\n",
            "40000/40000 [==============================] - 1s 16us/step - loss: 5.4033 - acc: 0.5248\n",
            "Epoch 25/30\n",
            "40000/40000 [==============================] - 1s 16us/step - loss: 5.0774 - acc: 0.5492\n",
            "Epoch 26/30\n",
            "40000/40000 [==============================] - 1s 16us/step - loss: 3.9190 - acc: 0.6275\n",
            "Epoch 27/30\n",
            "40000/40000 [==============================] - 1s 16us/step - loss: 3.9290 - acc: 0.6011\n",
            "Epoch 28/30\n",
            "40000/40000 [==============================] - 1s 16us/step - loss: 4.0803 - acc: 0.4626\n",
            "Epoch 29/30\n",
            "40000/40000 [==============================] - 1s 16us/step - loss: 3.8927 - acc: 0.5948\n",
            "Epoch 30/30\n",
            "40000/40000 [==============================] - 1s 17us/step - loss: 3.9135 - acc: 0.5381\n",
            "20000/20000 [==============================] - 1s 46us/step\n",
            "_________________________________________________________________\n",
            "Layer (type)                 Output Shape              Param #   \n",
            "=================================================================\n",
            "dense_73 (Dense)             (None, 512)               66048     \n",
            "_________________________________________________________________\n",
            "dropout_51 (Dropout)         (None, 512)               0         \n",
            "_________________________________________________________________\n",
            "dense_74 (Dense)             (None, 512)               262656    \n",
            "_________________________________________________________________\n",
            "dropout_52 (Dropout)         (None, 512)               0         \n",
            "_________________________________________________________________\n",
            "dense_75 (Dense)             (None, 10)                5130      \n",
            "=================================================================\n",
            "Total params: 333,834\n",
            "Trainable params: 333,834\n",
            "Non-trainable params: 0\n",
            "_________________________________________________________________\n",
            "Epoch 1/30\n",
            "40000/40000 [==============================] - 3s 67us/step - loss: 3.0731 - acc: 0.3875\n",
            "Epoch 2/30\n",
            "40000/40000 [==============================] - 1s 17us/step - loss: 2.6702 - acc: 0.5210\n",
            "Epoch 3/30\n",
            "40000/40000 [==============================] - 1s 17us/step - loss: 2.4853 - acc: 0.6129\n",
            "Epoch 4/30\n",
            "40000/40000 [==============================] - 1s 17us/step - loss: 2.4350 - acc: 0.6235\n",
            "Epoch 5/30\n",
            "40000/40000 [==============================] - 1s 17us/step - loss: 2.4093 - acc: 0.6264\n",
            "Epoch 6/30\n",
            "40000/40000 [==============================] - 1s 17us/step - loss: 2.4415 - acc: 0.6126\n",
            "Epoch 7/30\n",
            "40000/40000 [==============================] - 1s 16us/step - loss: 2.4200 - acc: 0.6343\n",
            "Epoch 8/30\n",
            "40000/40000 [==============================] - 1s 16us/step - loss: 2.4015 - acc: 0.6263\n",
            "Epoch 9/30\n",
            "40000/40000 [==============================] - 1s 16us/step - loss: 2.4130 - acc: 0.6229\n",
            "Epoch 10/30\n",
            "40000/40000 [==============================] - 1s 17us/step - loss: 2.5418 - acc: 0.5698\n",
            "Epoch 11/30\n",
            "40000/40000 [==============================] - 1s 17us/step - loss: 2.3904 - acc: 0.6188\n",
            "Epoch 12/30\n",
            "40000/40000 [==============================] - 1s 17us/step - loss: 2.3557 - acc: 0.6424\n",
            "Epoch 13/30\n",
            "40000/40000 [==============================] - 1s 16us/step - loss: 2.3576 - acc: 0.6501\n",
            "Epoch 14/30\n",
            "40000/40000 [==============================] - 1s 17us/step - loss: 2.3717 - acc: 0.6539\n",
            "Epoch 15/30\n",
            "40000/40000 [==============================] - 1s 16us/step - loss: 2.3155 - acc: 0.6713\n",
            "Epoch 16/30\n",
            "40000/40000 [==============================] - 1s 16us/step - loss: 2.5494 - acc: 0.5610\n",
            "Epoch 17/30\n",
            "40000/40000 [==============================] - 1s 16us/step - loss: 2.9627 - acc: 0.4151\n",
            "Epoch 18/30\n",
            "40000/40000 [==============================] - 1s 16us/step - loss: 2.5389 - acc: 0.5624\n",
            "Epoch 19/30\n",
            "40000/40000 [==============================] - 1s 16us/step - loss: 2.3994 - acc: 0.6324\n",
            "Epoch 20/30\n",
            "40000/40000 [==============================] - 1s 16us/step - loss: 2.5397 - acc: 0.5314\n",
            "Epoch 21/30\n",
            "40000/40000 [==============================] - 1s 16us/step - loss: 2.4560 - acc: 0.5996\n",
            "Epoch 22/30\n",
            "40000/40000 [==============================] - 1s 16us/step - loss: 2.3956 - acc: 0.6239\n",
            "Epoch 23/30\n",
            "40000/40000 [==============================] - 1s 16us/step - loss: 2.3615 - acc: 0.6417\n",
            "Epoch 24/30\n",
            "40000/40000 [==============================] - 1s 16us/step - loss: 2.3380 - acc: 0.6620\n",
            "Epoch 25/30\n",
            "40000/40000 [==============================] - 1s 16us/step - loss: 2.3513 - acc: 0.6408\n",
            "Epoch 26/30\n",
            "40000/40000 [==============================] - 1s 17us/step - loss: 2.3537 - acc: 0.6216\n",
            "Epoch 27/30\n",
            "40000/40000 [==============================] - 1s 16us/step - loss: 2.4558 - acc: 0.5854\n",
            "Epoch 28/30\n",
            "40000/40000 [==============================] - 1s 17us/step - loss: 2.4260 - acc: 0.5725\n",
            "Epoch 29/30\n",
            "40000/40000 [==============================] - 1s 17us/step - loss: 2.7040 - acc: 0.4598\n",
            "Epoch 30/30\n",
            "40000/40000 [==============================] - 1s 16us/step - loss: 2.6545 - acc: 0.5390\n",
            "20000/20000 [==============================] - 1s 49us/step\n",
            "_________________________________________________________________\n",
            "Layer (type)                 Output Shape              Param #   \n",
            "=================================================================\n",
            "dense_76 (Dense)             (None, 512)               66048     \n",
            "_________________________________________________________________\n",
            "dropout_53 (Dropout)         (None, 512)               0         \n",
            "_________________________________________________________________\n",
            "dense_77 (Dense)             (None, 10)                5130      \n",
            "=================================================================\n",
            "Total params: 71,178\n",
            "Trainable params: 71,178\n",
            "Non-trainable params: 0\n",
            "_________________________________________________________________\n"
          ],
          "name": "stdout"
        },
        {
          "output_type": "stream",
          "text": [
            "[Parallel(n_jobs=1)]: Done   6 out of   6 | elapsed:  2.1min finished\n"
          ],
          "name": "stderr"
        },
        {
          "output_type": "stream",
          "text": [
            "Epoch 1/30\n",
            "60000/60000 [==============================] - 3s 48us/step - loss: 2.8553 - acc: 0.4842\n",
            "Epoch 2/30\n",
            "60000/60000 [==============================] - 1s 14us/step - loss: 2.8246 - acc: 0.3922\n",
            "Epoch 3/30\n",
            "60000/60000 [==============================] - 1s 14us/step - loss: 2.7419 - acc: 0.4188\n",
            "Epoch 4/30\n",
            "60000/60000 [==============================] - 1s 14us/step - loss: 2.6953 - acc: 0.4262\n",
            "Epoch 5/30\n",
            "60000/60000 [==============================] - 1s 14us/step - loss: 2.6571 - acc: 0.4600\n",
            "Epoch 6/30\n",
            "60000/60000 [==============================] - 1s 14us/step - loss: 2.4804 - acc: 0.6432\n",
            "Epoch 7/30\n",
            "60000/60000 [==============================] - 1s 14us/step - loss: 2.7502 - acc: 0.3782\n",
            "Epoch 8/30\n",
            "60000/60000 [==============================] - 1s 14us/step - loss: 2.5144 - acc: 0.5917\n",
            "Epoch 9/30\n",
            "60000/60000 [==============================] - 1s 14us/step - loss: 2.8541 - acc: 0.2811\n",
            "Epoch 10/30\n",
            "60000/60000 [==============================] - 1s 14us/step - loss: 2.5215 - acc: 0.5758\n",
            "Epoch 11/30\n",
            "60000/60000 [==============================] - 1s 14us/step - loss: 2.5612 - acc: 0.5937\n",
            "Epoch 12/30\n",
            "60000/60000 [==============================] - 1s 14us/step - loss: 2.5925 - acc: 0.4872\n",
            "Epoch 13/30\n",
            "60000/60000 [==============================] - 1s 14us/step - loss: 2.5379 - acc: 0.6052\n",
            "Epoch 14/30\n",
            "60000/60000 [==============================] - 1s 14us/step - loss: 2.4554 - acc: 0.6167\n",
            "Epoch 15/30\n",
            "60000/60000 [==============================] - 1s 15us/step - loss: 2.5531 - acc: 0.5587\n",
            "Epoch 16/30\n",
            "60000/60000 [==============================] - 1s 14us/step - loss: 2.4203 - acc: 0.6665\n",
            "Epoch 17/30\n",
            "60000/60000 [==============================] - 1s 15us/step - loss: 2.3974 - acc: 0.6773\n",
            "Epoch 18/30\n",
            "60000/60000 [==============================] - 1s 14us/step - loss: 2.6368 - acc: 0.4566\n",
            "Epoch 19/30\n",
            "60000/60000 [==============================] - 1s 14us/step - loss: 2.4603 - acc: 0.6159\n",
            "Epoch 20/30\n",
            "60000/60000 [==============================] - 1s 14us/step - loss: 2.4012 - acc: 0.6329\n",
            "Epoch 21/30\n",
            "60000/60000 [==============================] - 1s 14us/step - loss: 2.3895 - acc: 0.6364\n",
            "Epoch 22/30\n",
            "60000/60000 [==============================] - 1s 14us/step - loss: 2.4242 - acc: 0.6217\n",
            "Epoch 23/30\n",
            "60000/60000 [==============================] - 1s 14us/step - loss: 2.4058 - acc: 0.6131\n",
            "Epoch 24/30\n",
            "60000/60000 [==============================] - 1s 14us/step - loss: 2.3584 - acc: 0.6962\n",
            "Epoch 25/30\n",
            "60000/60000 [==============================] - 1s 14us/step - loss: 2.5047 - acc: 0.5590\n",
            "Epoch 26/30\n",
            "60000/60000 [==============================] - 1s 14us/step - loss: 2.4993 - acc: 0.5381\n",
            "Epoch 27/30\n",
            "60000/60000 [==============================] - 1s 14us/step - loss: 2.3883 - acc: 0.6471\n",
            "Epoch 28/30\n",
            "60000/60000 [==============================] - 1s 14us/step - loss: 2.3635 - acc: 0.6693\n",
            "Epoch 29/30\n",
            "60000/60000 [==============================] - 1s 14us/step - loss: 2.3630 - acc: 0.6704\n",
            "Epoch 30/30\n",
            "60000/60000 [==============================] - 1s 15us/step - loss: 2.3332 - acc: 0.6733\n"
          ],
          "name": "stdout"
        }
      ]
    },
    {
      "cell_type": "code",
      "metadata": {
        "id": "HBVGeuLPKngz",
        "colab_type": "code",
        "colab": {
          "base_uri": "https://localhost:8080/",
          "height": 51
        },
        "outputId": "e0dd4992-40ac-458b-91a1-3aef41d86695"
      },
      "source": [
        "print(\"Best Accuracy: %f using %s\" % (search_result3.best_score_, search_result3.best_params_))\n",
        "best_estimator_mlp_ae = classifier3.best_estimator_\n",
        "y_pred = best_estimator_mlp_ae.predict(encoder_test_image.reshape(10000,128))\n",
        "accuracy = (accuracy_score(y_test_mae,y_pred)*100)\n",
        "#print(accuracy)\n",
        "\n",
        "Result2 = {'ae_mle_acc':[],'ae_rf_accu':[]}\n",
        "Result2.update(ae_mle_acc= accuracy)"
      ],
      "execution_count": 38,
      "outputs": [
        {
          "output_type": "stream",
          "text": [
            "Best Accuracy: 0.527683 using {'activation': 'relu', 'drop_out': 0.1, 'layers': [512, 512], 'optimizer': 'Adam'}\n",
            "10000/10000 [==============================] - 0s 6us/step\n"
          ],
          "name": "stdout"
        }
      ]
    },
    {
      "cell_type": "code",
      "metadata": {
        "id": "f-7gxq1VvS7y",
        "colab_type": "code",
        "colab": {
          "base_uri": "https://localhost:8080/",
          "height": 136
        },
        "outputId": "41b52f9d-f606-4097-9b39-620a41d1f694"
      },
      "source": [
        "model_rfc = RandomForestClassifier(n_estimators=64, n_jobs=-1)\n",
        "model_rfc.fit(encoder_train_image.reshape(60000,128), y_train_mae)"
      ],
      "execution_count": 42,
      "outputs": [
        {
          "output_type": "execute_result",
          "data": {
            "text/plain": [
              "RandomForestClassifier(bootstrap=True, class_weight=None, criterion='gini',\n",
              "                       max_depth=None, max_features='auto', max_leaf_nodes=None,\n",
              "                       min_impurity_decrease=0.0, min_impurity_split=None,\n",
              "                       min_samples_leaf=1, min_samples_split=2,\n",
              "                       min_weight_fraction_leaf=0.0, n_estimators=64, n_jobs=-1,\n",
              "                       oob_score=False, random_state=None, verbose=0,\n",
              "                       warm_start=False)"
            ]
          },
          "metadata": {
            "tags": []
          },
          "execution_count": 42
        }
      ]
    },
    {
      "cell_type": "code",
      "metadata": {
        "id": "s0lRRnDpwFgt",
        "colab_type": "code",
        "colab": {
          "base_uri": "https://localhost:8080/",
          "height": 34
        },
        "outputId": "9b728186-b044-4e5d-e432-29a082d46694"
      },
      "source": [
        "rfc_accuracy_ae = model_rfc.score(encoder_test_image.reshape(10000,128),y_label)*100\n",
        "print(rfc_accuracy_ae)\n",
        "Result2.update(ae_rf_accu=rfc_accuracy_ae)"
      ],
      "execution_count": 47,
      "outputs": [
        {
          "output_type": "stream",
          "text": [
            "76.99000000000001\n"
          ],
          "name": "stdout"
        }
      ]
    },
    {
      "cell_type": "code",
      "metadata": {
        "id": "B2NWAExiajCq",
        "colab_type": "code",
        "colab": {
          "base_uri": "https://localhost:8080/",
          "height": 282
        },
        "outputId": "19201204-bba6-4396-849d-ac09a1554a2a"
      },
      "source": [
        "import matplotlib.pyplot as plt\n",
        "\n",
        "\n",
        "\n",
        "plt.bar(range(len(Result2)), list(Result2.values()), align='center')\n",
        "plt.xticks(range(len(Result2)), list(Result2.keys()))\n",
        "plt.title('performance in th latent vector')\n",
        "plt.show()"
      ],
      "execution_count": 48,
      "outputs": [
        {
          "output_type": "display_data",
          "data": {
            "image/png": "[encoded data removed]",
            "text/plain": [
              "<Figure size 432x288 with 1 Axes>"
            ]
          },
          "metadata": {
            "tags": []
          }
        }
      ]
    },
    {
      "cell_type": "code",
      "metadata": {
        "id": "BNhOUQwh3ZUl",
        "colab_type": "code",
        "colab": {
          "base_uri": "https://localhost:8080/",
          "height": 316
        },
        "outputId": "9900ed4f-4d08-4cfc-a58a-fc39d8728824"
      },
      "source": [
        "import matplotlib.pyplot as plt\n",
        "print(Result2)\n",
        "print(Result1)\n",
        "\n",
        "#D = {u'Label1':26, u'Label2': 17, u'Label3':30}\n",
        "\n",
        "\n",
        "plt.bar(range(len(Result1)), list(Result1.values()), align='center')\n",
        "plt.xticks(range(len(Result1)), list(Result1.keys()))\n",
        "plt.title('performance in the originalDataset')\n",
        "plt.show()"
      ],
      "execution_count": 52,
      "outputs": [
        {
          "output_type": "stream",
          "text": [
            "{'ae_mle_acc': 67.93, 'ae_rf_accu': 76.99000000000001}\n",
            "{'mlp_accu': 93.71000000000001, 'rf_accu': 90.06, 'cnn_acu': 98.97}\n"
          ],
          "name": "stdout"
        },
        {
          "output_type": "display_data",
          "data": {
            "image/png": "[encoded data removed]",
            "text/plain": [
              "<Figure size 432x288 with 1 Axes>"
            ]
          },
          "metadata": {
            "tags": []
          }
        }
      ]
    },
    {
      "cell_type": "code",
      "metadata": {
        "id": "3oUFef-mxeiH",
        "colab_type": "code",
        "colab": {}
      },
      "source": [
        ""
      ],
      "execution_count": 0,
      "outputs": []
    }
  ]
}