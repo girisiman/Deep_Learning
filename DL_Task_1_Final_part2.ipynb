{
  "nbformat": 4,
  "nbformat_minor": 0,
  "metadata": {
    "colab": {
      "name": "DL_Task_1_Final_Part_1.ipynb",
      "version": "0.3.2",
      "provenance": [],
      "include_colab_link": true
    },
    "kernelspec": {
      "name": "python3",
      "display_name": "Python 3"
    }
  },
  "cells": [
    {
      "cell_type": "markdown",
      "metadata": {
        "id": "view-in-github",
        "colab_type": "text"
      },
      "source": [
        "<a href=\"https://colab.research.google.com/github/girisiman/Deep_Learning_Tasks/blob/master/DL_Task_1_Final_part2.ipynb\" target=\"_parent\"><img src=\"https://colab.research.google.com/assets/colab-badge.svg\" alt=\"Open In Colab\"/></a>"
      ]
    },
    {
      "cell_type": "code",
      "metadata": {
        "id": "bt6rH3bBx7TG",
        "colab_type": "code",
        "colab": {}
      },
      "source": [
        "import keras.datasets.mnist as mnist\n",
        "import keras\n",
        "from keras import regularizers\n",
        "from keras.layers import Input\n",
        "from keras.models import Model\n",
        "from keras.layers import Layer\n",
        "from keras.layers.core import Dense, Dropout\n",
        "from keras.utils import np_utils\n",
        "from keras.models import Sequential\n",
        "from keras import optimizers\n",
        "import matplotlib.pyplot as plt\n",
        "import numpy as np\n",
        "from sklearn.model_selection import ParameterGrid\n",
        "from sklearn.model_selection import GridSearchCV\n",
        "from keras.wrappers.scikit_learn import  KerasClassifier\n",
        "import os\n",
        "from sklearn.metrics import accuracy_score\n"
      ],
      "execution_count": 0,
      "outputs": []
    },
    {
      "cell_type": "markdown",
      "metadata": {
        "id": "D0fkqFIFyMOG",
        "colab_type": "text"
      },
      "source": [
        "Building all the function required to build a model, predict and table the required result"
      ]
    },
    {
      "cell_type": "code",
      "metadata": {
        "id": "RvErQYNryKCj",
        "colab_type": "code",
        "colab": {}
      },
      "source": [
        "# function to build basic mlp:\n",
        "def create_model(layers,activation, optimizer,drop_out, num_classes=10):\n",
        "  ''' Build a simple mlp model for multi-class classification;  \n",
        "      Arguments:all the hyperparametes (layers,act,opt, drop_out) to buld in a mlp provided by dictionary of parameters used during hyperparameter\n",
        "      optimization\n",
        "           '''\n",
        "  model = Sequential()\n",
        "  for i in range(len(layers)):\n",
        "    if i == 0:\n",
        "        model.add(Dense(layers[i], activation=activation, input_shape=(784,)))\n",
        "        model.add(Dropout(drop_out))\n",
        "    else:\n",
        "      model.add(Dense(layers[i], activation=activation))\n",
        "      model.add(Dropout(drop_out))\n",
        "  model.add(Dense(num_classes, activation=activation))\n",
        "  model.summary()\n",
        "\n",
        "  model.compile(loss='categorical_crossentropy',\n",
        "                  optimizer=optimizer,\n",
        "                  metrics=['accuracy'])\n",
        "\n",
        "  return model"
      ],
      "execution_count": 0,
      "outputs": []
    },
    {
      "cell_type": "code",
      "metadata": {
        "id": "MJ16bEMU0FhN",
        "colab_type": "code",
        "colab": {}
      },
      "source": [
        "def build_classifier(model):\n",
        "  ''' #classifier builder using keras_classifier\n",
        "  #Argument: Model; the output of create_model,\n",
        "  #This function handles the number of epochs provided for training\n",
        "  #output, kerasclassifiermodel and dicitionary of parameter'''\n",
        "  model = KerasClassifier(build_fn=create_model, epochs=25, batch_size=128, verbose=0)\n",
        "  parameter = {'layers':[[512,512],[512,512,512]],'activation': [ 'elu',  'relu',],\n",
        "             'optimizer': [ 'Adam' ],\n",
        "             'drop_out': [ 0.5]}\n",
        "  return keras_model, parameter\n",
        "\n"
      ],
      "execution_count": 0,
      "outputs": []
    },
    {
      "cell_type": "code",
      "metadata": {
        "id": "RRVmiwcR0yNf",
        "colab_type": "code",
        "colab": {}
      },
      "source": [
        "def search_besthyperparameter(model,parameter,x_train,y_train):\n",
        "  ''' Function to search for best parameter using GridSearch CV\n",
        "  #Argument:Kerasclassifiedmodel and dictionary of parameter\n",
        "  #output Classifier after perforfing gridsearchCV and results of all the parameters\n",
        "  #best_estimator: Estimators(with the combination of hyperparameter) providing best score\n",
        "  ###Thus function trains the model and provide the result.'''\n",
        "  classifier = GridSearchCV(estimator=model, param_grid=parameter, scoring ='accuracy')\n",
        "  search_result = classifier.fit(x_train, y_train)\n",
        "  print(\"Best Accuracy: %f using %s\" % (search_result.best_score_, search_result.best_params_))\n",
        "  best_estimator = classifier.best_estimator_\n",
        "  return search_result, best_estimator"
      ],
      "execution_count": 0,
      "outputs": []
    },
    {
      "cell_type": "code",
      "metadata": {
        "id": "_4xNcq39GtnT",
        "colab_type": "code",
        "colab": {}
      },
      "source": [
        "def table_search_result(grid_result):\n",
        "  ''' Function to plot the top5 best parameter combination based on the gridsearchcv score\n",
        "  #Argument:results from the training\n",
        "  #output: table with top5 best parameter'''\n",
        "  import pandas as pd\n",
        "  means = grid_result.cv_results_['mean_test_score']\n",
        "  #stds = grid_result.cv_results_['std_test_score']\n",
        "  params = grid_result.cv_results_['params']\n",
        "  rank = grid_result.cv_results_['rank_test_score']\n",
        "  d = {'rank_param':rank,'means_test_score':means,  'params':params}\n",
        "  result_table = pd.DataFrame(data =d)\n",
        "  #display(result_table.head())\n",
        "  sc = result_table.sort_values(by='rank_param',ascending = True)\n",
        "  display(sc.head(10))\n",
        "  \n",
        "  "
      ],
      "execution_count": 0,
      "outputs": []
    },
    {
      "cell_type": "code",
      "metadata": {
        "id": "E0PyrvsX1kOR",
        "colab_type": "code",
        "colab": {}
      },
      "source": [
        "def predict_classifier(best_estimator,x_test,y_test):\n",
        "  ''' Predict the accuracy of the classifier, using best found estimator\n",
        "  #best_estimator: best found estimator\n",
        "  #x_test,y_test: test datasets to predict'''\n",
        "  #output_accuracy \n",
        "  #best_estimator = classifier.best_estimator_\n",
        "  y_predicted = best_estimator.predict(x_test)\n",
        "  print(y_predicted)\n",
        "  accuracy = (accuracy_score(y_test,y_predicted)*100)\n",
        "  print('Accuracy: ',accuracy*100)\n",
        "  return accuracy"
      ],
      "execution_count": 0,
      "outputs": []
    },
    {
      "cell_type": "code",
      "metadata": {
        "id": "xuBTl3FG3aTt",
        "colab_type": "code",
        "colab": {}
      },
      "source": [
        "def load_data(num_classes = 10):\n",
        "  ''' funtion that load original mnist dataset, seperated into train and test set\n",
        "  #returns x_train,x_test,y_train,y_test'''\n",
        "  (x_train, y_train), (x_test, y_test) = mnist.load_data()\n",
        "  x_train = x_train.reshape(60000, 784)\n",
        "  x_test = x_test.reshape(10000, 784)\n",
        "  x_train = x_train.astype('float32')\n",
        "  x_test = x_test.astype('float32')\n",
        "  x_train /= 255\n",
        "  x_test /= 255\n",
        "  print(x_train.shape[0], 'train samples')\n",
        "  print(x_test.shape[0], 'test samples')\n",
        "  return x_train, x_test, y_train, y_test"
      ],
      "execution_count": 0,
      "outputs": []
    },
    {
      "cell_type": "code",
      "metadata": {
        "id": "1rssURcT4rhn",
        "colab_type": "code",
        "colab": {}
      },
      "source": [
        "def add_noise(x_train, x_test):\n",
        "  ''' Adds randomly generated gaussian noise to the train and test set\n",
        "  # argument, x_train, x_test of original data\n",
        "  #output: x_train and test with the nosise'''\n",
        "  noise_factor = 0.5\n",
        "  x_train_noisy = x_train + noise_factor * np.random.normal(loc=0.0, scale=1.0, size=x_train.shape) \n",
        "  x_test_noisy = x_test + noise_factor * np.random.normal(loc=0.0, scale=1.0, size=x_test.shape) \n",
        "  x_train_noisy = np.clip(x_train_noisy, 0., 1.)\n",
        "  x_test_noisy = np.clip(x_test_noisy, 0., 1.)\n",
        "  return x_train_noisy, x_test_noisy"
      ],
      "execution_count": 0,
      "outputs": []
    },
    {
      "cell_type": "markdown",
      "metadata": {
        "id": "h7GPONqI52u2",
        "colab_type": "text"
      },
      "source": [
        "performing the classification with hyperparameter searching in the original data."
      ]
    },
    {
      "cell_type": "code",
      "metadata": {
        "id": "m3Rurzpp5d9l",
        "colab_type": "code",
        "colab": {
          "base_uri": "https://localhost:8080/",
          "height": 52
        },
        "outputId": "cb524f5f-00d9-43fe-9964-65f185ca309f"
      },
      "source": [
        "# loading the dataset:\n",
        "x_train, x_test, y_train, y_test = load_data()"
      ],
      "execution_count": 62,
      "outputs": [
        {
          "output_type": "stream",
          "text": [
            "60000 train samples\n",
            "10000 test samples\n"
          ],
          "name": "stdout"
        }
      ]
    },
    {
      "cell_type": "code",
      "metadata": {
        "id": "A_7eObeD6JB6",
        "colab_type": "code",
        "colab": {}
      },
      "source": [
        "model = KerasClassifier(build_fn=create_model, epochs=25, batch_size=128, verbose=0)\n",
        "parameter = {'layers':[[512,512],[512,512,512]],'activation': [ 'elu',  'relu',],\n",
        "             'optimizer': [ 'Adam' ],\n",
        "             'drop_out': [ 0.5]}"
      ],
      "execution_count": 0,
      "outputs": []
    },
    {
      "cell_type": "code",
      "metadata": {
        "id": "86vh3kgk6m70",
        "colab_type": "code",
        "colab": {
          "base_uri": "https://localhost:8080/",
          "height": 956
        },
        "outputId": "ae948427-cf45-4c50-e597-f96c2038ace1"
      },
      "source": [
        "search_result,best_estimator = search_besthyperparameter(model,parameter,x_train,y_train)"
      ],
      "execution_count": 0,
      "outputs": [
        {
          "output_type": "stream",
          "text": [
            "/usr/local/lib/python3.6/dist-packages/sklearn/model_selection/_split.py:1978: FutureWarning: The default value of cv will change from 3 to 5 in version 0.22. Specify it explicitly to silence this warning.\n",
            "  warnings.warn(CV_WARNING, FutureWarning)\n"
          ],
          "name": "stderr"
        },
        {
          "output_type": "stream",
          "text": [
            "_________________________________________________________________\n",
            "Layer (type)                 Output Shape              Param #   \n",
            "=================================================================\n",
            "dense_108 (Dense)            (None, 512)               401920    \n",
            "_________________________________________________________________\n",
            "dropout_73 (Dropout)         (None, 512)               0         \n",
            "_________________________________________________________________\n",
            "dense_109 (Dense)            (None, 512)               262656    \n",
            "_________________________________________________________________\n",
            "dropout_74 (Dropout)         (None, 512)               0         \n",
            "_________________________________________________________________\n",
            "dense_110 (Dense)            (None, 10)                5130      \n",
            "=================================================================\n",
            "Total params: 669,706\n",
            "Trainable params: 669,706\n",
            "Non-trainable params: 0\n",
            "_________________________________________________________________\n",
            "_________________________________________________________________\n",
            "Layer (type)                 Output Shape              Param #   \n",
            "=================================================================\n",
            "dense_111 (Dense)            (None, 512)               401920    \n",
            "_________________________________________________________________\n",
            "dropout_75 (Dropout)         (None, 512)               0         \n",
            "_________________________________________________________________\n",
            "dense_112 (Dense)            (None, 512)               262656    \n",
            "_________________________________________________________________\n",
            "dropout_76 (Dropout)         (None, 512)               0         \n",
            "_________________________________________________________________\n",
            "dense_113 (Dense)            (None, 10)                5130      \n",
            "=================================================================\n",
            "Total params: 669,706\n",
            "Trainable params: 669,706\n",
            "Non-trainable params: 0\n",
            "_________________________________________________________________\n",
            "_________________________________________________________________\n",
            "Layer (type)                 Output Shape              Param #   \n",
            "=================================================================\n",
            "dense_114 (Dense)            (None, 512)               401920    \n",
            "_________________________________________________________________\n",
            "dropout_77 (Dropout)         (None, 512)               0         \n",
            "_________________________________________________________________\n",
            "dense_115 (Dense)            (None, 512)               262656    \n",
            "_________________________________________________________________\n",
            "dropout_78 (Dropout)         (None, 512)               0         \n",
            "_________________________________________________________________\n",
            "dense_116 (Dense)            (None, 10)                5130      \n",
            "=================================================================\n",
            "Total params: 669,706\n",
            "Trainable params: 669,706\n",
            "Non-trainable params: 0\n",
            "_________________________________________________________________\n"
          ],
          "name": "stdout"
        }
      ]
    },
    {
      "cell_type": "markdown",
      "metadata": {
        "id": "4z-wNvx-m62M",
        "colab_type": "text"
      },
      "source": [
        ""
      ]
    },
    {
      "cell_type": "markdown",
      "metadata": {
        "id": "oujVRsKLm6KI",
        "colab_type": "text"
      },
      "source": [
        ""
      ]
    },
    {
      "cell_type": "code",
      "metadata": {
        "id": "psGENNMu615s",
        "colab_type": "code",
        "colab": {
          "base_uri": "https://localhost:8080/",
          "height": 171
        },
        "outputId": "e2b2204c-71db-484a-d4a3-54a7d276b8fe"
      },
      "source": [
        "table_search_result(search_result)"
      ],
      "execution_count": 25,
      "outputs": [
        {
          "output_type": "display_data",
          "data": {
            "text/html": [
              "<div>\n",
              "<style scoped>\n",
              "    .dataframe tbody tr th:only-of-type {\n",
              "        vertical-align: middle;\n",
              "    }\n",
              "\n",
              "    .dataframe tbody tr th {\n",
              "        vertical-align: top;\n",
              "    }\n",
              "\n",
              "    .dataframe thead th {\n",
              "        text-align: right;\n",
              "    }\n",
              "</style>\n",
              "<table border=\"1\" class=\"dataframe\">\n",
              "  <thead>\n",
              "    <tr style=\"text-align: right;\">\n",
              "      <th></th>\n",
              "      <th>rank_param</th>\n",
              "      <th>means_test_score</th>\n",
              "      <th>params</th>\n",
              "    </tr>\n",
              "  </thead>\n",
              "  <tbody>\n",
              "    <tr>\n",
              "      <th>1</th>\n",
              "      <td>1</td>\n",
              "      <td>0.912167</td>\n",
              "      <td>{'activation': 'elu', 'drop_out': 0.5, 'layers...</td>\n",
              "    </tr>\n",
              "    <tr>\n",
              "      <th>0</th>\n",
              "      <td>2</td>\n",
              "      <td>0.827150</td>\n",
              "      <td>{'activation': 'elu', 'drop_out': 0.5, 'layers...</td>\n",
              "    </tr>\n",
              "    <tr>\n",
              "      <th>2</th>\n",
              "      <td>3</td>\n",
              "      <td>0.098717</td>\n",
              "      <td>{'activation': 'relu', 'drop_out': 0.5, 'layer...</td>\n",
              "    </tr>\n",
              "    <tr>\n",
              "      <th>3</th>\n",
              "      <td>3</td>\n",
              "      <td>0.098717</td>\n",
              "      <td>{'activation': 'relu', 'drop_out': 0.5, 'layer...</td>\n",
              "    </tr>\n",
              "  </tbody>\n",
              "</table>\n",
              "</div>"
            ],
            "text/plain": [
              "   rank_param  ...                                             params\n",
              "1           1  ...  {'activation': 'elu', 'drop_out': 0.5, 'layers...\n",
              "0           2  ...  {'activation': 'elu', 'drop_out': 0.5, 'layers...\n",
              "2           3  ...  {'activation': 'relu', 'drop_out': 0.5, 'layer...\n",
              "3           3  ...  {'activation': 'relu', 'drop_out': 0.5, 'layer...\n",
              "\n",
              "[4 rows x 3 columns]"
            ]
          },
          "metadata": {
            "tags": []
          }
        }
      ]
    },
    {
      "cell_type": "code",
      "metadata": {
        "id": "06OMEpvTHhqT",
        "colab_type": "code",
        "colab": {
          "base_uri": "https://localhost:8080/",
          "height": 69
        },
        "outputId": "2d4b4d1f-4227-45e9-d2db-d335ffe7b6d2"
      },
      "source": [
        "Result={'Accuracy_original':[],'Accuracy_noise':[],'Accuracy_recon':[]}\n",
        "Accuracy_original = predict_classifier(best_estimator,x_test,y_test)\n",
        "Result.update(Accuracy_original = Accuracy_original)\n",
        "Result"
      ],
      "execution_count": 38,
      "outputs": [
        {
          "output_type": "stream",
          "text": [
            "[7 2 1 ... 4 5 6]\n",
            "Accuracy:  9274.0\n"
          ],
          "name": "stdout"
        },
        {
          "output_type": "execute_result",
          "data": {
            "text/plain": [
              "{'Accuracy_noise': [], 'Accuracy_original': 92.74, 'Accuracy_recon': []}"
            ]
          },
          "metadata": {
            "tags": []
          },
          "execution_count": 38
        }
      ]
    },
    {
      "cell_type": "code",
      "metadata": {
        "id": "NTCa8gajIWGj",
        "colab_type": "code",
        "colab": {}
      },
      "source": [
        "# loading the dataset with noise:\n",
        "x_train_noise, x_test_noise = add_noise(x_train,x_test)"
      ],
      "execution_count": 0,
      "outputs": []
    },
    {
      "cell_type": "code",
      "metadata": {
        "id": "ajbWpRjUKTR5",
        "colab_type": "code",
        "colab": {}
      },
      "source": [
        "# training and hyperparameter searaching with model and parameter\n",
        "search_result_noise,best_estimator_noise = search_besthyperparameter(model,parameter,x_train_noise,y_train)"
      ],
      "execution_count": 0,
      "outputs": []
    },
    {
      "cell_type": "code",
      "metadata": {
        "id": "o2rKFFohK5-J",
        "colab_type": "code",
        "colab": {
          "base_uri": "https://localhost:8080/",
          "height": 171
        },
        "outputId": "80e9adfd-0ca3-440b-a78c-358345daf61b"
      },
      "source": [
        "table_search_result(search_result)"
      ],
      "execution_count": 35,
      "outputs": [
        {
          "output_type": "display_data",
          "data": {
            "text/html": [
              "<div>\n",
              "<style scoped>\n",
              "    .dataframe tbody tr th:only-of-type {\n",
              "        vertical-align: middle;\n",
              "    }\n",
              "\n",
              "    .dataframe tbody tr th {\n",
              "        vertical-align: top;\n",
              "    }\n",
              "\n",
              "    .dataframe thead th {\n",
              "        text-align: right;\n",
              "    }\n",
              "</style>\n",
              "<table border=\"1\" class=\"dataframe\">\n",
              "  <thead>\n",
              "    <tr style=\"text-align: right;\">\n",
              "      <th></th>\n",
              "      <th>rank_param</th>\n",
              "      <th>means_test_score</th>\n",
              "      <th>params</th>\n",
              "    </tr>\n",
              "  </thead>\n",
              "  <tbody>\n",
              "    <tr>\n",
              "      <th>1</th>\n",
              "      <td>1</td>\n",
              "      <td>0.912167</td>\n",
              "      <td>{'activation': 'elu', 'drop_out': 0.5, 'layers...</td>\n",
              "    </tr>\n",
              "    <tr>\n",
              "      <th>0</th>\n",
              "      <td>2</td>\n",
              "      <td>0.827150</td>\n",
              "      <td>{'activation': 'elu', 'drop_out': 0.5, 'layers...</td>\n",
              "    </tr>\n",
              "    <tr>\n",
              "      <th>2</th>\n",
              "      <td>3</td>\n",
              "      <td>0.098717</td>\n",
              "      <td>{'activation': 'relu', 'drop_out': 0.5, 'layer...</td>\n",
              "    </tr>\n",
              "    <tr>\n",
              "      <th>3</th>\n",
              "      <td>3</td>\n",
              "      <td>0.098717</td>\n",
              "      <td>{'activation': 'relu', 'drop_out': 0.5, 'layer...</td>\n",
              "    </tr>\n",
              "  </tbody>\n",
              "</table>\n",
              "</div>"
            ],
            "text/plain": [
              "   rank_param  ...                                             params\n",
              "1           1  ...  {'activation': 'elu', 'drop_out': 0.5, 'layers...\n",
              "0           2  ...  {'activation': 'elu', 'drop_out': 0.5, 'layers...\n",
              "2           3  ...  {'activation': 'relu', 'drop_out': 0.5, 'layer...\n",
              "3           3  ...  {'activation': 'relu', 'drop_out': 0.5, 'layer...\n",
              "\n",
              "[4 rows x 3 columns]"
            ]
          },
          "metadata": {
            "tags": []
          }
        }
      ]
    },
    {
      "cell_type": "code",
      "metadata": {
        "id": "F-wSNm5QXbQS",
        "colab_type": "code",
        "colab": {
          "base_uri": "https://localhost:8080/",
          "height": 69
        },
        "outputId": "39146ae5-4eac-44bc-c7b2-e905b1063455"
      },
      "source": [
        "Accuracy_noise = predict_classifier(best_estimator,x_test,y_test)\n",
        "Result.update(Accuracy_noise = Accuracy_noise)\n",
        "Result"
      ],
      "execution_count": 39,
      "outputs": [
        {
          "output_type": "stream",
          "text": [
            "[7 2 1 ... 4 5 6]\n",
            "Accuracy:  9274.0\n"
          ],
          "name": "stdout"
        },
        {
          "output_type": "execute_result",
          "data": {
            "text/plain": [
              "{'Accuracy_noise': 92.74, 'Accuracy_original': 92.74, 'Accuracy_recon': []}"
            ]
          },
          "metadata": {
            "tags": []
          },
          "execution_count": 39
        }
      ]
    },
    {
      "cell_type": "markdown",
      "metadata": {
        "id": "xvKvsZR4goVw",
        "colab_type": "text"
      },
      "source": [
        "Building Simple AutoEncoder for Denoising purpose"
      ]
    },
    {
      "cell_type": "code",
      "metadata": {
        "id": "kClSsnt1XvzV",
        "colab_type": "code",
        "colab": {}
      },
      "source": [
        "#Adding Noise to the Data\n",
        "(x_train, _), (x_test, _) = mnist.load_data()\n",
        "\n",
        "x_train = x_train.astype('float32') / 255.\n",
        "x_test = x_test.astype('float32') / 255.\n",
        "x_train = x_train.reshape((len(x_train), np.prod(x_train.shape[1:])))\n",
        "x_test = x_test.reshape((len(x_test), np.prod(x_test.shape[1:])))\n",
        "noise_factor = 0.3\n",
        "x_train_noisy = x_train + noise_factor * np.random.normal(loc=0.0, scale=1.0, size=x_train.shape) \n",
        "x_test_noisy = x_test + noise_factor * np.random.normal(loc=0.0, scale=1.0, size=x_test.shape) \n",
        "\n",
        "x_train_noisy = np.clip(x_train_noisy, 0., 1.)\n",
        "x_test_noisy = np.clip(x_test_noisy, 0., 1.)"
      ],
      "execution_count": 0,
      "outputs": []
    },
    {
      "cell_type": "code",
      "metadata": {
        "id": "V5V-cb7-gzKF",
        "colab_type": "code",
        "colab": {}
      },
      "source": [
        "from sklearn.model_selection import train_test_split\n",
        "x_noisy_train, x_val,y_noisy_train,y_val = train_test_split(x_train_noisy, y_train, test_size=0.33, random_state=42)"
      ],
      "execution_count": 0,
      "outputs": []
    },
    {
      "cell_type": "code",
      "metadata": {
        "id": "Fh5WpXp7g_Y9",
        "colab_type": "code",
        "colab": {
          "base_uri": "https://localhost:8080/",
          "height": 1785
        },
        "outputId": "f9fd5c2f-3cc5-4e67-dbef-32f52dafe51e"
      },
      "source": [
        "encoding_dim = 32\n",
        "input_img = Input(shape=(784,))\n",
        "encoded = Dense(encoding_dim, activation='relu')(input_img)\n",
        "decoded = Dense(784, activation='sigmoid')(encoded)\n",
        "autoencoder = Model(input_img, decoded)\n",
        "encoder = Model(input_img, encoded)\n",
        "encoded_input = Input(shape=(encoding_dim,))\n",
        "decoder_layer = autoencoder.layers[-1]\n",
        "decoder = Model(encoded_input, decoder_layer(encoded_input))\n",
        "autoencoder.compile(optimizer='adadelta', loss='binary_crossentropy')\n",
        "autoencoder.fit(x_noisy_train, x_noisy_train,epochs=50,\n",
        "                batch_size=256,\n",
        "                shuffle=True,validation_data=(x_val,x_val))"
      ],
      "execution_count": 44,
      "outputs": [
        {
          "output_type": "stream",
          "text": [
            "Train on 40200 samples, validate on 19800 samples\n",
            "Epoch 1/50\n",
            "40200/40200 [==============================] - 8s 193us/step - loss: 0.5396 - val_loss: 0.4878\n",
            "Epoch 2/50\n",
            "40200/40200 [==============================] - 4s 98us/step - loss: 0.4867 - val_loss: 0.4857\n",
            "Epoch 3/50\n",
            "40200/40200 [==============================] - 4s 99us/step - loss: 0.4848 - val_loss: 0.4838\n",
            "Epoch 4/50\n",
            "40200/40200 [==============================] - 4s 97us/step - loss: 0.4826 - val_loss: 0.4812\n",
            "Epoch 5/50\n",
            "40200/40200 [==============================] - 4s 97us/step - loss: 0.4796 - val_loss: 0.4776\n",
            "Epoch 6/50\n",
            "40200/40200 [==============================] - 4s 100us/step - loss: 0.4755 - val_loss: 0.4732\n",
            "Epoch 7/50\n",
            "40200/40200 [==============================] - 4s 100us/step - loss: 0.4710 - val_loss: 0.4688\n",
            "Epoch 8/50\n",
            "40200/40200 [==============================] - 4s 97us/step - loss: 0.4666 - val_loss: 0.4645\n",
            "Epoch 9/50\n",
            "40200/40200 [==============================] - 4s 100us/step - loss: 0.4626 - val_loss: 0.4607\n",
            "Epoch 10/50\n",
            "40200/40200 [==============================] - 4s 99us/step - loss: 0.4588 - val_loss: 0.4571\n",
            "Epoch 11/50\n",
            "40200/40200 [==============================] - 4s 100us/step - loss: 0.4554 - val_loss: 0.4539\n",
            "Epoch 12/50\n",
            "40200/40200 [==============================] - 4s 99us/step - loss: 0.4524 - val_loss: 0.4511\n",
            "Epoch 13/50\n",
            "40200/40200 [==============================] - 4s 98us/step - loss: 0.4498 - val_loss: 0.4487\n",
            "Epoch 14/50\n",
            "40200/40200 [==============================] - 4s 99us/step - loss: 0.4476 - val_loss: 0.4466\n",
            "Epoch 15/50\n",
            "40200/40200 [==============================] - 4s 100us/step - loss: 0.4456 - val_loss: 0.4447\n",
            "Epoch 16/50\n",
            "40200/40200 [==============================] - 4s 101us/step - loss: 0.4437 - val_loss: 0.4430\n",
            "Epoch 17/50\n",
            "40200/40200 [==============================] - 4s 99us/step - loss: 0.4421 - val_loss: 0.4414\n",
            "Epoch 18/50\n",
            "40200/40200 [==============================] - 4s 100us/step - loss: 0.4405 - val_loss: 0.4399\n",
            "Epoch 19/50\n",
            "40200/40200 [==============================] - 4s 100us/step - loss: 0.4391 - val_loss: 0.4386\n",
            "Epoch 20/50\n",
            "40200/40200 [==============================] - 4s 97us/step - loss: 0.4378 - val_loss: 0.4373\n",
            "Epoch 21/50\n",
            "40200/40200 [==============================] - 4s 97us/step - loss: 0.4365 - val_loss: 0.4362\n",
            "Epoch 22/50\n",
            "40200/40200 [==============================] - 4s 98us/step - loss: 0.4354 - val_loss: 0.4351\n",
            "Epoch 23/50\n",
            "40200/40200 [==============================] - 4s 98us/step - loss: 0.4344 - val_loss: 0.4341\n",
            "Epoch 24/50\n",
            "40200/40200 [==============================] - 4s 98us/step - loss: 0.4334 - val_loss: 0.4332\n",
            "Epoch 25/50\n",
            "40200/40200 [==============================] - 4s 97us/step - loss: 0.4325 - val_loss: 0.4324\n",
            "Epoch 26/50\n",
            "40200/40200 [==============================] - 4s 101us/step - loss: 0.4317 - val_loss: 0.4316\n",
            "Epoch 27/50\n",
            "40200/40200 [==============================] - 4s 103us/step - loss: 0.4310 - val_loss: 0.4308\n",
            "Epoch 28/50\n",
            "40200/40200 [==============================] - 4s 98us/step - loss: 0.4302 - val_loss: 0.4302\n",
            "Epoch 29/50\n",
            "40200/40200 [==============================] - 4s 100us/step - loss: 0.4295 - val_loss: 0.4295\n",
            "Epoch 30/50\n",
            "40200/40200 [==============================] - 4s 99us/step - loss: 0.4289 - val_loss: 0.4288\n",
            "Epoch 31/50\n",
            "40200/40200 [==============================] - 4s 101us/step - loss: 0.4282 - val_loss: 0.4282\n",
            "Epoch 32/50\n",
            "40200/40200 [==============================] - 4s 100us/step - loss: 0.4276 - val_loss: 0.4276\n",
            "Epoch 33/50\n",
            "40200/40200 [==============================] - 4s 99us/step - loss: 0.4270 - val_loss: 0.4270\n",
            "Epoch 34/50\n",
            "40200/40200 [==============================] - 4s 98us/step - loss: 0.4265 - val_loss: 0.4265\n",
            "Epoch 35/50\n",
            "40200/40200 [==============================] - 4s 99us/step - loss: 0.4259 - val_loss: 0.4260\n",
            "Epoch 36/50\n",
            "40200/40200 [==============================] - 4s 98us/step - loss: 0.4254 - val_loss: 0.4254\n",
            "Epoch 37/50\n",
            "40200/40200 [==============================] - 4s 100us/step - loss: 0.4249 - val_loss: 0.4249\n",
            "Epoch 38/50\n",
            "40200/40200 [==============================] - 4s 98us/step - loss: 0.4244 - val_loss: 0.4245\n",
            "Epoch 39/50\n",
            "40200/40200 [==============================] - 4s 98us/step - loss: 0.4239 - val_loss: 0.4240\n",
            "Epoch 40/50\n",
            "40200/40200 [==============================] - 4s 99us/step - loss: 0.4235 - val_loss: 0.4236\n",
            "Epoch 41/50\n",
            "40200/40200 [==============================] - 4s 98us/step - loss: 0.4231 - val_loss: 0.4232\n",
            "Epoch 42/50\n",
            "40200/40200 [==============================] - 4s 97us/step - loss: 0.4227 - val_loss: 0.4228\n",
            "Epoch 43/50\n",
            "40200/40200 [==============================] - 4s 99us/step - loss: 0.4223 - val_loss: 0.4224\n",
            "Epoch 44/50\n",
            "40200/40200 [==============================] - 4s 100us/step - loss: 0.4219 - val_loss: 0.4220\n",
            "Epoch 45/50\n",
            "40200/40200 [==============================] - 4s 100us/step - loss: 0.4215 - val_loss: 0.4217\n",
            "Epoch 46/50\n",
            "40200/40200 [==============================] - 4s 98us/step - loss: 0.4212 - val_loss: 0.4214\n",
            "Epoch 47/50\n",
            "40200/40200 [==============================] - 4s 99us/step - loss: 0.4209 - val_loss: 0.4210\n",
            "Epoch 48/50\n",
            "40200/40200 [==============================] - 4s 100us/step - loss: 0.4206 - val_loss: 0.4208\n",
            "Epoch 49/50\n",
            "40200/40200 [==============================] - 4s 98us/step - loss: 0.4203 - val_loss: 0.4205\n",
            "Epoch 50/50\n",
            "40200/40200 [==============================] - 4s 97us/step - loss: 0.4200 - val_loss: 0.4202\n"
          ],
          "name": "stdout"
        },
        {
          "output_type": "execute_result",
          "data": {
            "text/plain": [
              "<keras.callbacks.History at 0x7f360eeda9b0>"
            ]
          },
          "metadata": {
            "tags": []
          },
          "execution_count": 44
        }
      ]
    },
    {
      "cell_type": "code",
      "metadata": {
        "id": "dn9DoCo_hJKt",
        "colab_type": "code",
        "colab": {
          "base_uri": "https://localhost:8080/",
          "height": 147
        },
        "outputId": "de23c4e3-af73-4dc2-c25e-8aba70dbf726"
      },
      "source": [
        "pred_image_enco = encoder.predict(x_train_noisy)\n",
        "recon_image_train = decoder.predict(pred_image_enco)\n",
        "n = 7  # how many digits we will display\n",
        "plt.figure(figsize=(20, 4))\n",
        "for i in range(n):\n",
        "  ax = plt.subplot(2, n, i + 1 +n)\n",
        "  plt.imshow(Recon_image_train[i].reshape(28, 28))\n",
        "  plt.gray()\n",
        "  ax.get_xaxis().set_visible(False)\n",
        "  ax.get_yaxis().set_visible(False)\n",
        "  plt.title('Recon_train_image')\n",
        "plt.show()"
      ],
      "execution_count": 50,
      "outputs": [
        {
          "output_type": "display_data",
          "data": {
            "image/png": "[encoded data removed]",
            "text/plain": [
              "<Figure size 1440x288 with 7 Axes>"
            ]
          },
          "metadata": {
            "tags": []
          }
        }
      ]
    },
    {
      "cell_type": "code",
      "metadata": {
        "id": "bQfl27mpiMJv",
        "colab_type": "code",
        "colab": {
          "base_uri": "https://localhost:8080/",
          "height": 147
        },
        "outputId": "c3d3c790-7d23-4c6b-9517-d8d0f476c786"
      },
      "source": [
        "pred_image_enco = encoder.predict(x_test_noisy)\n",
        "recon_image_test = decoder.predict(pred_image_enco)\n",
        "n = 7  # how many digits we will display\n",
        "plt.figure(figsize=(20, 4))\n",
        "for i in range(n):\n",
        "  ax = plt.subplot(2, n, i + 1 +n)\n",
        "  plt.imshow(recon_image_test[i].reshape(28, 28))\n",
        "  plt.gray()\n",
        "  ax.get_xaxis().set_visible(False)\n",
        "  ax.get_yaxis().set_visible(False)\n",
        "  plt.title('Recon_test_image')\n",
        "plt.show()"
      ],
      "execution_count": 51,
      "outputs": [
        {
          "output_type": "display_data",
          "data": {
            "image/png": "[encoded data removed]",
            "text/plain": [
              "<Figure size 1440x288 with 7 Axes>"
            ]
          },
          "metadata": {
            "tags": []
          }
        }
      ]
    },
    {
      "cell_type": "code",
      "metadata": {
        "id": "jnd6CLCYigcn",
        "colab_type": "code",
        "colab": {}
      },
      "source": [
        "Accuracy_recon = predict_classifier(best_estimator,x_test,y_test)\n",
        "Result.update(Accuracy_noise = Accuracy_noise)\n",
        "Result"
      ],
      "execution_count": 0,
      "outputs": []
    }
  ]
}