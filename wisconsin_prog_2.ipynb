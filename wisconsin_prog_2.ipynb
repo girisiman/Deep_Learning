{
  "nbformat": 4,
  "nbformat_minor": 0,
  "metadata": {
    "colab": {
      "name": "wisconsin_prog_2.ipynb",
      "version": "0.3.2",
      "provenance": [],
      "collapsed_sections": [],
      "include_colab_link": true
    },
    "kernelspec": {
      "name": "python3",
      "display_name": "Python 3"
    },
    "accelerator": "GPU"
  },
  "cells": [
    {
      "cell_type": "markdown",
      "metadata": {
        "id": "view-in-github",
        "colab_type": "text"
      },
      "source": [
        "<a href=\"https://colab.research.google.com/github/girisiman/Deep_Learning_Tasks/blob/master/wisconsin_prog_2.ipynb\" target=\"_parent\"><img src=\"https://colab.research.google.com/assets/colab-badge.svg\" alt=\"Open In Colab\"/></a>"
      ]
    },
    {
      "cell_type": "code",
      "metadata": {
        "id": "8CXZMYLhIKOU",
        "colab_type": "code",
        "colab": {
          "resources": {
            "http://localhost:8080/nbextensions/google.colab/files.js": {
              "data": "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",
              "ok": true,
              "headers": [
                [
                  "content-type",
                  "application/javascript"
                ]
              ],
              "status": 200,
              "status_text": ""
            }
          },
          "base_uri": "https://localhost:8080/",
          "height": 93
        },
        "outputId": "3ee180e3-cfc5-4fd6-f60d-26f5ca1e96cc"
      },
      "source": [
        "from google.colab import files\n",
        "\n",
        "uploaded = files.upload()\n",
        "\n",
        "for fn in uploaded.keys():\n",
        "  print('User uploaded file \"{name}\" with length {length} bytes'.format(\n",
        "      name=fn, length=len(uploaded[fn])))"
      ],
      "execution_count": 50,
      "outputs": [
        {
          "output_type": "display_data",
          "data": {
            "text/html": [
              "\n",
              "     <input type=\"file\" id=\"files-59b3d84f-8bd6-497a-aa97-b40471275611\" name=\"files[]\" multiple disabled />\n",
              "     <output id=\"result-59b3d84f-8bd6-497a-aa97-b40471275611\">\n",
              "      Upload widget is only available when the cell has been executed in the\n",
              "      current browser session. Please rerun this cell to enable.\n",
              "      </output>\n",
              "      <script src=\"/nbextensions/google.colab/files.js\"></script> "
            ],
            "text/plain": [
              "<IPython.core.display.HTML object>"
            ]
          },
          "metadata": {
            "tags": []
          }
        },
        {
          "output_type": "stream",
          "text": [
            "Saving breast_cancer_2.csv to breast_cancer_2 (1).csv\n",
            "User uploaded file \"breast_cancer_2.csv\" with length 44930 bytes\n"
          ],
          "name": "stdout"
        }
      ]
    },
    {
      "cell_type": "code",
      "metadata": {
        "id": "jvRWDhE5joFn",
        "colab_type": "code",
        "colab": {}
      },
      "source": [
        "from google.colab import files"
      ],
      "execution_count": 0,
      "outputs": []
    },
    {
      "cell_type": "code",
      "metadata": {
        "id": "QiPVMKnn-LM0",
        "colab_type": "code",
        "colab": {}
      },
      "source": [
        "from sklearn import preprocessing\n",
        "def scaler(df):\n",
        "    \"\"\"The Function receive a Dataframe and return a Scaled Dataframe\"\"\"\n",
        "    scaler = preprocessing.MinMaxScaler()\n",
        "    scaled_df = scaler.fit_transform(df)\n",
        "    scaled_df = pd.DataFrame(scaled_df, columns=df.columns)\n",
        "    \n",
        "    return scaled_df\n"
      ],
      "execution_count": 0,
      "outputs": []
    },
    {
      "cell_type": "code",
      "metadata": {
        "id": "cBmvEHG1IMgB",
        "colab_type": "code",
        "colab": {
          "base_uri": "https://localhost:8080/",
          "height": 239
        },
        "outputId": "fc4760ab-3f52-445d-9db3-b8777d8d5f0f"
      },
      "source": [
        "import pandas as pd\n",
        "data_v3 = pd.read_csv('breast_cancer_2.csv')\n",
        "data = data_v3.drop(['ID'], axis=1) # ID has no role in the classification\n",
        "data.head()"
      ],
      "execution_count": 140,
      "outputs": [
        {
          "output_type": "execute_result",
          "data": {
            "text/html": [
              "<div>\n",
              "<style scoped>\n",
              "    .dataframe tbody tr th:only-of-type {\n",
              "        vertical-align: middle;\n",
              "    }\n",
              "\n",
              "    .dataframe tbody tr th {\n",
              "        vertical-align: top;\n",
              "    }\n",
              "\n",
              "    .dataframe thead th {\n",
              "        text-align: right;\n",
              "    }\n",
              "</style>\n",
              "<table border=\"1\" class=\"dataframe\">\n",
              "  <thead>\n",
              "    <tr style=\"text-align: right;\">\n",
              "      <th></th>\n",
              "      <th>Time</th>\n",
              "      <th>Radius_mean</th>\n",
              "      <th>Texture_mean</th>\n",
              "      <th>Perimeter_mean</th>\n",
              "      <th>Area_mean</th>\n",
              "      <th>Smoothness_mean</th>\n",
              "      <th>Compactness_mean</th>\n",
              "      <th>Concavity_mean</th>\n",
              "      <th>Concave points_mean</th>\n",
              "      <th>Symmetry_mean</th>\n",
              "      <th>Fractal Dimension_mean</th>\n",
              "      <th>Radius_SE</th>\n",
              "      <th>Texture_SE</th>\n",
              "      <th>Perimeter_SE</th>\n",
              "      <th>Area_SE</th>\n",
              "      <th>Smoothness_SE</th>\n",
              "      <th>Compactness_SE</th>\n",
              "      <th>Concavity_SE</th>\n",
              "      <th>Concave points_SE</th>\n",
              "      <th>Symmetry_SE</th>\n",
              "      <th>Fractal Dimension_SE</th>\n",
              "      <th>Radius_worst</th>\n",
              "      <th>Texture_worst</th>\n",
              "      <th>Perimeter_worst</th>\n",
              "      <th>Area_worst</th>\n",
              "      <th>Smoothness_worst</th>\n",
              "      <th>Compactness_worst</th>\n",
              "      <th>Concavity_worst</th>\n",
              "      <th>Concave points_worst</th>\n",
              "      <th>Symmetry_worst</th>\n",
              "      <th>Fractal Dimension_worst</th>\n",
              "      <th>Tumor Size</th>\n",
              "      <th>LymphNode_size</th>\n",
              "      <th>OutCome</th>\n",
              "    </tr>\n",
              "  </thead>\n",
              "  <tbody>\n",
              "    <tr>\n",
              "      <th>0</th>\n",
              "      <td>31</td>\n",
              "      <td>18.02</td>\n",
              "      <td>27.60</td>\n",
              "      <td>117.50</td>\n",
              "      <td>1013.0</td>\n",
              "      <td>0.09489</td>\n",
              "      <td>0.1036</td>\n",
              "      <td>0.1086</td>\n",
              "      <td>0.07055</td>\n",
              "      <td>0.1865</td>\n",
              "      <td>0.06333</td>\n",
              "      <td>0.6249</td>\n",
              "      <td>1.8900</td>\n",
              "      <td>3.972</td>\n",
              "      <td>71.55</td>\n",
              "      <td>0.004433</td>\n",
              "      <td>0.01421</td>\n",
              "      <td>0.03233</td>\n",
              "      <td>0.009854</td>\n",
              "      <td>0.01694</td>\n",
              "      <td>0.003495</td>\n",
              "      <td>21.63</td>\n",
              "      <td>37.08</td>\n",
              "      <td>139.70</td>\n",
              "      <td>1436.0</td>\n",
              "      <td>0.1195</td>\n",
              "      <td>0.1926</td>\n",
              "      <td>0.3140</td>\n",
              "      <td>0.1170</td>\n",
              "      <td>0.2677</td>\n",
              "      <td>0.08113</td>\n",
              "      <td>5.0</td>\n",
              "      <td>5</td>\n",
              "      <td>N</td>\n",
              "    </tr>\n",
              "    <tr>\n",
              "      <th>1</th>\n",
              "      <td>61</td>\n",
              "      <td>17.99</td>\n",
              "      <td>10.38</td>\n",
              "      <td>122.80</td>\n",
              "      <td>1001.0</td>\n",
              "      <td>0.11840</td>\n",
              "      <td>0.2776</td>\n",
              "      <td>0.3001</td>\n",
              "      <td>0.14710</td>\n",
              "      <td>0.2419</td>\n",
              "      <td>0.07871</td>\n",
              "      <td>1.0950</td>\n",
              "      <td>0.9053</td>\n",
              "      <td>8.589</td>\n",
              "      <td>153.40</td>\n",
              "      <td>0.006399</td>\n",
              "      <td>0.04904</td>\n",
              "      <td>0.05373</td>\n",
              "      <td>0.015870</td>\n",
              "      <td>0.03003</td>\n",
              "      <td>0.006193</td>\n",
              "      <td>25.38</td>\n",
              "      <td>17.33</td>\n",
              "      <td>184.60</td>\n",
              "      <td>2019.0</td>\n",
              "      <td>0.1622</td>\n",
              "      <td>0.6656</td>\n",
              "      <td>0.7119</td>\n",
              "      <td>0.2654</td>\n",
              "      <td>0.4601</td>\n",
              "      <td>0.11890</td>\n",
              "      <td>3.0</td>\n",
              "      <td>2</td>\n",
              "      <td>N</td>\n",
              "    </tr>\n",
              "    <tr>\n",
              "      <th>2</th>\n",
              "      <td>116</td>\n",
              "      <td>21.37</td>\n",
              "      <td>17.44</td>\n",
              "      <td>137.50</td>\n",
              "      <td>1373.0</td>\n",
              "      <td>0.08836</td>\n",
              "      <td>0.1189</td>\n",
              "      <td>0.1255</td>\n",
              "      <td>0.08180</td>\n",
              "      <td>0.2333</td>\n",
              "      <td>0.06010</td>\n",
              "      <td>0.5854</td>\n",
              "      <td>0.6105</td>\n",
              "      <td>3.928</td>\n",
              "      <td>82.15</td>\n",
              "      <td>0.006167</td>\n",
              "      <td>0.03449</td>\n",
              "      <td>0.03300</td>\n",
              "      <td>0.018050</td>\n",
              "      <td>0.03094</td>\n",
              "      <td>0.005039</td>\n",
              "      <td>24.90</td>\n",
              "      <td>20.98</td>\n",
              "      <td>159.10</td>\n",
              "      <td>1949.0</td>\n",
              "      <td>0.1188</td>\n",
              "      <td>0.3449</td>\n",
              "      <td>0.3414</td>\n",
              "      <td>0.2032</td>\n",
              "      <td>0.4334</td>\n",
              "      <td>0.09067</td>\n",
              "      <td>2.5</td>\n",
              "      <td>0</td>\n",
              "      <td>N</td>\n",
              "    </tr>\n",
              "    <tr>\n",
              "      <th>3</th>\n",
              "      <td>123</td>\n",
              "      <td>11.42</td>\n",
              "      <td>20.38</td>\n",
              "      <td>77.58</td>\n",
              "      <td>386.1</td>\n",
              "      <td>0.14250</td>\n",
              "      <td>0.2839</td>\n",
              "      <td>0.2414</td>\n",
              "      <td>0.10520</td>\n",
              "      <td>0.2597</td>\n",
              "      <td>0.09744</td>\n",
              "      <td>0.4956</td>\n",
              "      <td>1.1560</td>\n",
              "      <td>3.445</td>\n",
              "      <td>27.23</td>\n",
              "      <td>0.009110</td>\n",
              "      <td>0.07458</td>\n",
              "      <td>0.05661</td>\n",
              "      <td>0.018670</td>\n",
              "      <td>0.05963</td>\n",
              "      <td>0.009208</td>\n",
              "      <td>14.91</td>\n",
              "      <td>26.50</td>\n",
              "      <td>98.87</td>\n",
              "      <td>567.7</td>\n",
              "      <td>0.2098</td>\n",
              "      <td>0.8663</td>\n",
              "      <td>0.6869</td>\n",
              "      <td>0.2575</td>\n",
              "      <td>0.6638</td>\n",
              "      <td>0.17300</td>\n",
              "      <td>2.0</td>\n",
              "      <td>0</td>\n",
              "      <td>N</td>\n",
              "    </tr>\n",
              "    <tr>\n",
              "      <th>4</th>\n",
              "      <td>27</td>\n",
              "      <td>20.29</td>\n",
              "      <td>14.34</td>\n",
              "      <td>135.10</td>\n",
              "      <td>1297.0</td>\n",
              "      <td>0.10030</td>\n",
              "      <td>0.1328</td>\n",
              "      <td>0.1980</td>\n",
              "      <td>0.10430</td>\n",
              "      <td>0.1809</td>\n",
              "      <td>0.05883</td>\n",
              "      <td>0.7572</td>\n",
              "      <td>0.7813</td>\n",
              "      <td>5.438</td>\n",
              "      <td>94.44</td>\n",
              "      <td>0.011490</td>\n",
              "      <td>0.02461</td>\n",
              "      <td>0.05688</td>\n",
              "      <td>0.018850</td>\n",
              "      <td>0.01756</td>\n",
              "      <td>0.005115</td>\n",
              "      <td>22.54</td>\n",
              "      <td>16.67</td>\n",
              "      <td>152.20</td>\n",
              "      <td>1575.0</td>\n",
              "      <td>0.1374</td>\n",
              "      <td>0.2050</td>\n",
              "      <td>0.4000</td>\n",
              "      <td>0.1625</td>\n",
              "      <td>0.2364</td>\n",
              "      <td>0.07678</td>\n",
              "      <td>3.5</td>\n",
              "      <td>0</td>\n",
              "      <td>R</td>\n",
              "    </tr>\n",
              "  </tbody>\n",
              "</table>\n",
              "</div>"
            ],
            "text/plain": [
              "   Time  Radius_mean  Texture_mean  ...  Tumor Size  LymphNode_size  OutCome\n",
              "0    31        18.02         27.60  ...         5.0               5        N\n",
              "1    61        17.99         10.38  ...         3.0               2        N\n",
              "2   116        21.37         17.44  ...         2.5               0        N\n",
              "3   123        11.42         20.38  ...         2.0               0        N\n",
              "4    27        20.29         14.34  ...         3.5               0        R\n",
              "\n",
              "[5 rows x 34 columns]"
            ]
          },
          "metadata": {
            "tags": []
          },
          "execution_count": 140
        }
      ]
    },
    {
      "cell_type": "code",
      "metadata": {
        "id": "RY7vd-tLIbo0",
        "colab_type": "code",
        "colab": {}
      },
      "source": [
        "features = data.iloc[:,:-1] \n",
        "label = data.iloc[:,-1]\n",
        "label = label.replace('N', 0) # 0 = N\n",
        "label = label.replace(\"R\",1)\n",
        "# Scaling the selected feature  \n",
        "scaled_feature = scaler(features)"
      ],
      "execution_count": 0,
      "outputs": []
    },
    {
      "cell_type": "code",
      "metadata": {
        "id": "GrpIBlwfcw5_",
        "colab_type": "code",
        "colab": {}
      },
      "source": [
        "Precision = []\n",
        "Recall = []\n",
        "F1score = []\n",
        "Accuracy = []\n",
        "classifier = ['RandomForesrClassifier', 'GradientBoostingClassifier','AdaBoostClassifier','SupportVector','LogisticRregression','GaussianNB','DecisisonTree','KNearestNeighbour']"
      ],
      "execution_count": 0,
      "outputs": []
    },
    {
      "cell_type": "code",
      "metadata": {
        "id": "Jj9YmLfRIUej",
        "colab_type": "code",
        "colab": {
          "base_uri": "https://localhost:8080/",
          "height": 173
        },
        "outputId": "9c41da00-f749-4667-ab18-d334921b5483"
      },
      "source": [
        "from sklearn.model_selection import train_test_split\n",
        "from sklearn.ensemble import RandomForestClassifier\n",
        "from sklearn.ensemble import GradientBoostingClassifier\n",
        "from sklearn.metrics import accuracy_score, confusion_matrix,precision_score,recall_score,f1_score\n",
        "\n",
        "x_train_pre, x_test_pre, y_train_pre, y_test_pre = train_test_split(scaled_feature, label, test_size=0.3, random_state=42)\n",
        "model = RandomForestClassifier(n_estimators=1000)\n",
        "model.fit(x_train_pre , y_train_pre)\n",
        "y_pred_pre = model.predict(x_test_pre)\n",
        "print(classification_report(y_test_pre, y_pred_pre))\n",
        "Precision.append(precision_score(y_test_pre, y_pred_pre, average = 'weighted'))\n",
        "Recall.append(recall_score(y_test_pre, y_pred_pre, average = 'weighted'))\n",
        "F1score.append(f1_score(y_test_pre, y_pred_pre, average = 'weighted'))\n",
        "Accuracy.append(accuracy_score(y_test_pre, y_pred_pre)*100)"
      ],
      "execution_count": 143,
      "outputs": [
        {
          "output_type": "stream",
          "text": [
            "              precision    recall  f1-score   support\n",
            "\n",
            "           0       0.85      0.98      0.91        47\n",
            "           1       0.83      0.38      0.53        13\n",
            "\n",
            "    accuracy                           0.85        60\n",
            "   macro avg       0.84      0.68      0.72        60\n",
            "weighted avg       0.85      0.85      0.83        60\n",
            "\n"
          ],
          "name": "stdout"
        }
      ]
    },
    {
      "cell_type": "code",
      "metadata": {
        "id": "jg2ugb-TgbxA",
        "colab_type": "code",
        "colab": {
          "base_uri": "https://localhost:8080/",
          "height": 35
        },
        "outputId": "8eb04e96-840f-47f3-c3c4-bdaaad0205f2"
      },
      "source": [
        "Accuracy"
      ],
      "execution_count": 144,
      "outputs": [
        {
          "output_type": "execute_result",
          "data": {
            "text/plain": [
              "[85.0]"
            ]
          },
          "metadata": {
            "tags": []
          },
          "execution_count": 144
        }
      ]
    },
    {
      "cell_type": "code",
      "metadata": {
        "id": "rMdpkqAPIhft",
        "colab_type": "code",
        "colab": {
          "base_uri": "https://localhost:8080/",
          "height": 173
        },
        "outputId": "1d6aab13-6844-4a8a-bb24-ca2451587e78"
      },
      "source": [
        "model_gbc = GradientBoostingClassifier(n_estimators=1000)\n",
        "model_gbc.fit(x_train_pre , y_train_pre)\n",
        "y_pred_gbc = model_gbc.predict(x_test_pre)\n",
        "print(classification_report(y_test_pre, y_pred_gbc))\n",
        "Precision.append(precision_score(y_test_pre, y_pred_gbc, average = 'weighted'))\n",
        "Recall.append(recall_score(y_test_pre, y_pred_gbc, average = 'weighted'))\n",
        "F1score.append(f1_score(y_test_pre, y_pred_gbc, average = 'weighted'))\n",
        "Accuracy.append(accuracy_score(y_test_pre, y_pred_gbc)*100)\n",
        "\n"
      ],
      "execution_count": 145,
      "outputs": [
        {
          "output_type": "stream",
          "text": [
            "              precision    recall  f1-score   support\n",
            "\n",
            "           0       0.78      0.89      0.83        47\n",
            "           1       0.17      0.08      0.11        13\n",
            "\n",
            "    accuracy                           0.72        60\n",
            "   macro avg       0.47      0.49      0.47        60\n",
            "weighted avg       0.65      0.72      0.67        60\n",
            "\n"
          ],
          "name": "stdout"
        }
      ]
    },
    {
      "cell_type": "code",
      "metadata": {
        "id": "5qFaRPopJSkn",
        "colab_type": "code",
        "colab": {
          "base_uri": "https://localhost:8080/",
          "height": 173
        },
        "outputId": "123af276-3483-49f9-80d5-d817af64dd53"
      },
      "source": [
        "from sklearn.ensemble import AdaBoostClassifier\n",
        "model_ad = AdaBoostClassifier()\n",
        "model_ad.fit(x_train_pre , y_train_pre)\n",
        "y_pred_ad = model_ad.predict(x_test_pre)\n",
        "print(classification_report(y_test_pre, y_pred_ad,))\n",
        "Precision.append(precision_score(y_test_pre, y_pred_ad, average = 'weighted'))\n",
        "Recall.append(recall_score(y_test_pre, y_pred_ad, average = 'weighted'))\n",
        "F1score.append(f1_score(y_test_pre, y_pred_ad, average = 'weighted'))\n",
        "Accuracy.append(accuracy_score(y_test_pre, y_pred_ad)*100)"
      ],
      "execution_count": 146,
      "outputs": [
        {
          "output_type": "stream",
          "text": [
            "              precision    recall  f1-score   support\n",
            "\n",
            "           0       0.80      0.94      0.86        47\n",
            "           1       0.40      0.15      0.22        13\n",
            "\n",
            "    accuracy                           0.77        60\n",
            "   macro avg       0.60      0.55      0.54        60\n",
            "weighted avg       0.71      0.77      0.72        60\n",
            "\n"
          ],
          "name": "stdout"
        }
      ]
    },
    {
      "cell_type": "code",
      "metadata": {
        "id": "dW-kLhQiAw-T",
        "colab_type": "code",
        "colab": {
          "base_uri": "https://localhost:8080/",
          "height": 332
        },
        "outputId": "b84c1c73-6c4a-4289-ca50-af90269e3561"
      },
      "source": [
        "from sklearn.svm import SVC\n",
        "svc=SVC() #Default hyperparameters\n",
        "svc.fit(x_train_pre,y_train_pre)\n",
        "y_pred_sv=svc.predict(x_test_pre)\n",
        "print(classification_report(y_test_pre, y_pred_sv))\n",
        "Precision.append(precision_score(y_test_pre, y_pred_sv, average = 'weighted'))\n",
        "Recall.append(recall_score(y_test_pre, y_pred_sv, average = 'weighted'))\n",
        "F1score.append(f1_score(y_test_pre, y_pred_sv, average = 'weighted'))\n",
        "Accuracy.append(accuracy_score(y_test_pre, y_pred_sv)*100)\n",
        "\n"
      ],
      "execution_count": 147,
      "outputs": [
        {
          "output_type": "stream",
          "text": [
            "              precision    recall  f1-score   support\n",
            "\n",
            "           0       0.78      1.00      0.88        47\n",
            "           1       0.00      0.00      0.00        13\n",
            "\n",
            "    accuracy                           0.78        60\n",
            "   macro avg       0.39      0.50      0.44        60\n",
            "weighted avg       0.61      0.78      0.69        60\n",
            "\n"
          ],
          "name": "stdout"
        },
        {
          "output_type": "stream",
          "text": [
            "/usr/local/lib/python3.6/dist-packages/sklearn/svm/base.py:193: FutureWarning: The default value of gamma will change from 'auto' to 'scale' in version 0.22 to account better for unscaled features. Set gamma explicitly to 'auto' or 'scale' to avoid this warning.\n",
            "  \"avoid this warning.\", FutureWarning)\n",
            "/usr/local/lib/python3.6/dist-packages/sklearn/metrics/classification.py:1437: UndefinedMetricWarning: Precision and F-score are ill-defined and being set to 0.0 in labels with no predicted samples.\n",
            "  'precision', 'predicted', average, warn_for)\n",
            "/usr/local/lib/python3.6/dist-packages/sklearn/metrics/classification.py:1437: UndefinedMetricWarning: Precision is ill-defined and being set to 0.0 in labels with no predicted samples.\n",
            "  'precision', 'predicted', average, warn_for)\n",
            "/usr/local/lib/python3.6/dist-packages/sklearn/metrics/classification.py:1437: UndefinedMetricWarning: F-score is ill-defined and being set to 0.0 in labels with no predicted samples.\n",
            "  'precision', 'predicted', average, warn_for)\n"
          ],
          "name": "stderr"
        }
      ]
    },
    {
      "cell_type": "code",
      "metadata": {
        "id": "-NJSh0uTBPU9",
        "colab_type": "code",
        "colab": {
          "base_uri": "https://localhost:8080/",
          "height": 228
        },
        "outputId": "308183ad-c190-4c7c-b89a-7459169c5fcb"
      },
      "source": [
        "from sklearn.linear_model import LogisticRegression\n",
        "model_lr = LogisticRegression()\n",
        "model_lr.fit(x_train_pre, y_train_pre)\n",
        "y_pred_lr = model_lr.predict(x_test_pre)\n",
        "print(classification_report(y_test_pre, y_pred_lr))\n",
        "Precision.append(precision_score(y_test_pre, y_pred_lr, average = 'weighted'))\n",
        "Recall.append(recall_score(y_test_pre, y_pred_lr, average = 'weighted'))\n",
        "F1score.append(f1_score(y_test_pre, y_pred_lr, average = 'weighted'))\n",
        "Accuracy.append(accuracy_score(y_test_pre, y_pred_lr)*100)"
      ],
      "execution_count": 148,
      "outputs": [
        {
          "output_type": "stream",
          "text": [
            "              precision    recall  f1-score   support\n",
            "\n",
            "           0       0.83      0.96      0.89        47\n",
            "           1       0.67      0.31      0.42        13\n",
            "\n",
            "    accuracy                           0.82        60\n",
            "   macro avg       0.75      0.63      0.66        60\n",
            "weighted avg       0.80      0.82      0.79        60\n",
            "\n"
          ],
          "name": "stdout"
        },
        {
          "output_type": "stream",
          "text": [
            "/usr/local/lib/python3.6/dist-packages/sklearn/linear_model/logistic.py:432: FutureWarning: Default solver will be changed to 'lbfgs' in 0.22. Specify a solver to silence this warning.\n",
            "  FutureWarning)\n"
          ],
          "name": "stderr"
        }
      ]
    },
    {
      "cell_type": "code",
      "metadata": {
        "id": "Qyex7vd9DBGA",
        "colab_type": "code",
        "colab": {
          "base_uri": "https://localhost:8080/",
          "height": 173
        },
        "outputId": "6caf5382-d242-4da3-a798-ad4514c1a7d9"
      },
      "source": [
        "from sklearn.naive_bayes import GaussianNB\n",
        "model_gnb = GaussianNB()\n",
        "model_gnb.fit(x_train_pre, y_train_pre)\n",
        "y_pred_gnb = model_gnb.predict(x_test_pre)\n",
        "print(classification_report(y_test_pre, y_pred_gnb))\n",
        "Precision.append(precision_score(y_test_pre, y_pred_gnb, average = 'weighted'))\n",
        "Recall.append(recall_score(y_test_pre, y_pred_gnb, average = 'weighted'))\n",
        "F1score.append(f1_score(y_test_pre, y_pred_gnb, average = 'weighted'))\n",
        "Accuracy.append(accuracy_score(y_test_pre, y_pred_gnb)*100)"
      ],
      "execution_count": 149,
      "outputs": [
        {
          "output_type": "stream",
          "text": [
            "              precision    recall  f1-score   support\n",
            "\n",
            "           0       0.84      0.68      0.75        47\n",
            "           1       0.32      0.54      0.40        13\n",
            "\n",
            "    accuracy                           0.65        60\n",
            "   macro avg       0.58      0.61      0.58        60\n",
            "weighted avg       0.73      0.65      0.68        60\n",
            "\n"
          ],
          "name": "stdout"
        }
      ]
    },
    {
      "cell_type": "code",
      "metadata": {
        "id": "cL_xlOubEIsq",
        "colab_type": "code",
        "colab": {
          "base_uri": "https://localhost:8080/",
          "height": 173
        },
        "outputId": "d34c50b8-aa8c-46bb-d338-4c9e93b7d1ee"
      },
      "source": [
        "from sklearn.tree import DecisionTreeClassifier\n",
        "model_DT = DecisionTreeClassifier()\n",
        "model_DT.fit(x_train_pre, y_train_pre)\n",
        "y_pred_DT = model_DT.predict(x_test_pre)\n",
        "#y_test = y_test.reshape(1, -1)\n",
        "print(classification_report(y_test_pre, y_pred_DT))\n",
        "Precision.append(precision_score(y_test_pre, y_pred_DT, average = 'weighted'))\n",
        "Recall.append(recall_score(y_test_pre, y_pred_DT, average = 'weighted'))\n",
        "F1score.append(f1_score(y_test_pre, y_pred_DT, average = 'weighted'))\n",
        "Accuracy.append(accuracy_score(y_test_pre, y_pred_DT)*100)"
      ],
      "execution_count": 150,
      "outputs": [
        {
          "output_type": "stream",
          "text": [
            "              precision    recall  f1-score   support\n",
            "\n",
            "           0       0.87      0.83      0.85        47\n",
            "           1       0.47      0.54      0.50        13\n",
            "\n",
            "    accuracy                           0.77        60\n",
            "   macro avg       0.67      0.68      0.67        60\n",
            "weighted avg       0.78      0.77      0.77        60\n",
            "\n"
          ],
          "name": "stdout"
        }
      ]
    },
    {
      "cell_type": "code",
      "metadata": {
        "id": "jssfK4xrGICM",
        "colab_type": "code",
        "colab": {
          "base_uri": "https://localhost:8080/",
          "height": 173
        },
        "outputId": "849f4293-0c3b-40d8-abb6-426782df4a38"
      },
      "source": [
        "from sklearn.neighbors import KNeighborsClassifier\n",
        "model_knn = KNeighborsClassifier(n_neighbors=3)\n",
        "model_knn.fit(x_train_pre, y_train_pre)\n",
        "y_pred_knn = model_knn.predict(x_test_pre)\n",
        "\n",
        "print(classification_report(y_test_pre, y_pred_knn))\n",
        "Precision.append(precision_score(y_test_pre, y_pred_knn, average = 'weighted'))\n",
        "Recall.append(recall_score(y_test_pre, y_pred_knn, average = 'weighted'))\n",
        "F1score.append(f1_score(y_test_pre, y_pred_knn, average = 'weighted'))\n",
        "Accuracy.append(accuracy_score(y_test_pre, y_pred_knn)*100)\n"
      ],
      "execution_count": 151,
      "outputs": [
        {
          "output_type": "stream",
          "text": [
            "              precision    recall  f1-score   support\n",
            "\n",
            "           0       0.86      0.89      0.88        47\n",
            "           1       0.55      0.46      0.50        13\n",
            "\n",
            "    accuracy                           0.80        60\n",
            "   macro avg       0.70      0.68      0.69        60\n",
            "weighted avg       0.79      0.80      0.79        60\n",
            "\n"
          ],
          "name": "stdout"
        }
      ]
    },
    {
      "cell_type": "code",
      "metadata": {
        "id": "upx0TQEsOry6",
        "colab_type": "code",
        "colab": {}
      },
      "source": [
        "Precision\n",
        "import numpy as np\n",
        "Precision = list(np.around(np.array(Precision),2))\n",
        "Recall = list(np.around(np.array(Recall),2))\n",
        "F1score = list(np.around(np.array(F1score),2))\n",
        "Accuracy = list(np.around(np.array(Accuracy),2))"
      ],
      "execution_count": 0,
      "outputs": []
    },
    {
      "cell_type": "code",
      "metadata": {
        "id": "gnnosSgvd4fc",
        "colab_type": "code",
        "colab": {
          "base_uri": "https://localhost:8080/",
          "height": 35
        },
        "outputId": "78619d5d-d4c9-4011-c15e-47f0b3ac8030"
      },
      "source": [
        "Precision\n",
        "Recall\n",
        "F1score\n",
        "Accuracy\n",
        "classifier\n",
        "Precision"
      ],
      "execution_count": 153,
      "outputs": [
        {
          "output_type": "execute_result",
          "data": {
            "text/plain": [
              "[0.85, 0.65, 0.71, 0.61, 0.8, 0.73, 0.78, 0.79]"
            ]
          },
          "metadata": {
            "tags": []
          },
          "execution_count": 153
        }
      ]
    },
    {
      "cell_type": "code",
      "metadata": {
        "id": "u2hZIh8se7d0",
        "colab_type": "code",
        "colab": {
          "base_uri": "https://localhost:8080/",
          "height": 295
        },
        "outputId": "fac6b2b5-d739-4376-a471-b69a7144a560"
      },
      "source": [
        "# Create a zipped list of tuples from above lists\n",
        "zippedList =  list(zip(classifier, Precision, Recall, F1score, Accuracy,Precision_sm,Recall_sm,F1score_sm,Accuracy_sm))\n",
        "zippedList\n"
      ],
      "execution_count": 194,
      "outputs": [
        {
          "output_type": "execute_result",
          "data": {
            "text/plain": [
              "[('RandomForesrClassifier', 0.85, 0.85, 0.83, 85.0, 0.84, 0.85, 0.84, 85.0),\n",
              " ('GradientBoostingClassifier',\n",
              "  0.65,\n",
              "  0.72,\n",
              "  0.67,\n",
              "  71.67,\n",
              "  0.85,\n",
              "  0.85,\n",
              "  0.85,\n",
              "  85.0),\n",
              " ('AdaBoostClassifier', 0.71, 0.77, 0.72, 76.67, 0.81, 0.8, 0.8, 80.0),\n",
              " ('SupportVector', 0.61, 0.78, 0.69, 78.33, 0.61, 0.78, 0.69, 78.33),\n",
              " ('LogisticRregression', 0.8, 0.82, 0.79, 81.67, 0.78, 0.68, 0.71, 68.33),\n",
              " ('GaussianNB', 0.73, 0.65, 0.68, 65.0, 0.8, 0.82, 0.79, 81.67),\n",
              " ('DecisisonTree', 0.78, 0.77, 0.77, 76.67, 0.8, 0.75, 0.77, 75.0),\n",
              " ('KNearestNeighbour', 0.79, 0.8, 0.79, 80.0, 0.76, 0.68, 0.71, 68.33)]"
            ]
          },
          "metadata": {
            "tags": []
          },
          "execution_count": 194
        }
      ]
    },
    {
      "cell_type": "code",
      "metadata": {
        "id": "TZT6P4wYiEQJ",
        "colab_type": "code",
        "colab": {}
      },
      "source": [
        "score_pre = pd.DataFrame(zippedList, columns = ['Classifier' , 'Precision_weighted', 'Recall_weighted','F1score_weighted','Accuracy','Precision_sm','Recall_sm','F1score_sm','Accuracy_sm'], index = [1,2,3,4,5,6,7,8]) "
      ],
      "execution_count": 0,
      "outputs": []
    },
    {
      "cell_type": "code",
      "metadata": {
        "id": "CFXRMKJBijB9",
        "colab_type": "code",
        "colab": {
          "base_uri": "https://localhost:8080/",
          "height": 294
        },
        "outputId": "3cb15259-17c4-4c2a-bf3f-d8350d5d57c3"
      },
      "source": [
        "score_pre.to_excel('Score_pre.xlsx')\n",
        "files.download('Score_pre.xlsx')\n",
        "score_pre.head(10)"
      ],
      "execution_count": 196,
      "outputs": [
        {
          "output_type": "execute_result",
          "data": {
            "text/html": [
              "<div>\n",
              "<style scoped>\n",
              "    .dataframe tbody tr th:only-of-type {\n",
              "        vertical-align: middle;\n",
              "    }\n",
              "\n",
              "    .dataframe tbody tr th {\n",
              "        vertical-align: top;\n",
              "    }\n",
              "\n",
              "    .dataframe thead th {\n",
              "        text-align: right;\n",
              "    }\n",
              "</style>\n",
              "<table border=\"1\" class=\"dataframe\">\n",
              "  <thead>\n",
              "    <tr style=\"text-align: right;\">\n",
              "      <th></th>\n",
              "      <th>Classifier</th>\n",
              "      <th>Precision_weighted</th>\n",
              "      <th>Recall_weighted</th>\n",
              "      <th>F1score_weighted</th>\n",
              "      <th>Accuracy</th>\n",
              "      <th>Precision_sm</th>\n",
              "      <th>Recall_sm</th>\n",
              "      <th>F1score_sm</th>\n",
              "      <th>Accuracy_sm</th>\n",
              "    </tr>\n",
              "  </thead>\n",
              "  <tbody>\n",
              "    <tr>\n",
              "      <th>1</th>\n",
              "      <td>RandomForesrClassifier</td>\n",
              "      <td>0.85</td>\n",
              "      <td>0.85</td>\n",
              "      <td>0.83</td>\n",
              "      <td>85.00</td>\n",
              "      <td>0.84</td>\n",
              "      <td>0.85</td>\n",
              "      <td>0.84</td>\n",
              "      <td>85.00</td>\n",
              "    </tr>\n",
              "    <tr>\n",
              "      <th>2</th>\n",
              "      <td>GradientBoostingClassifier</td>\n",
              "      <td>0.65</td>\n",
              "      <td>0.72</td>\n",
              "      <td>0.67</td>\n",
              "      <td>71.67</td>\n",
              "      <td>0.85</td>\n",
              "      <td>0.85</td>\n",
              "      <td>0.85</td>\n",
              "      <td>85.00</td>\n",
              "    </tr>\n",
              "    <tr>\n",
              "      <th>3</th>\n",
              "      <td>AdaBoostClassifier</td>\n",
              "      <td>0.71</td>\n",
              "      <td>0.77</td>\n",
              "      <td>0.72</td>\n",
              "      <td>76.67</td>\n",
              "      <td>0.81</td>\n",
              "      <td>0.80</td>\n",
              "      <td>0.80</td>\n",
              "      <td>80.00</td>\n",
              "    </tr>\n",
              "    <tr>\n",
              "      <th>4</th>\n",
              "      <td>SupportVector</td>\n",
              "      <td>0.61</td>\n",
              "      <td>0.78</td>\n",
              "      <td>0.69</td>\n",
              "      <td>78.33</td>\n",
              "      <td>0.61</td>\n",
              "      <td>0.78</td>\n",
              "      <td>0.69</td>\n",
              "      <td>78.33</td>\n",
              "    </tr>\n",
              "    <tr>\n",
              "      <th>5</th>\n",
              "      <td>LogisticRregression</td>\n",
              "      <td>0.80</td>\n",
              "      <td>0.82</td>\n",
              "      <td>0.79</td>\n",
              "      <td>81.67</td>\n",
              "      <td>0.78</td>\n",
              "      <td>0.68</td>\n",
              "      <td>0.71</td>\n",
              "      <td>68.33</td>\n",
              "    </tr>\n",
              "    <tr>\n",
              "      <th>6</th>\n",
              "      <td>GaussianNB</td>\n",
              "      <td>0.73</td>\n",
              "      <td>0.65</td>\n",
              "      <td>0.68</td>\n",
              "      <td>65.00</td>\n",
              "      <td>0.80</td>\n",
              "      <td>0.82</td>\n",
              "      <td>0.79</td>\n",
              "      <td>81.67</td>\n",
              "    </tr>\n",
              "    <tr>\n",
              "      <th>7</th>\n",
              "      <td>DecisisonTree</td>\n",
              "      <td>0.78</td>\n",
              "      <td>0.77</td>\n",
              "      <td>0.77</td>\n",
              "      <td>76.67</td>\n",
              "      <td>0.80</td>\n",
              "      <td>0.75</td>\n",
              "      <td>0.77</td>\n",
              "      <td>75.00</td>\n",
              "    </tr>\n",
              "    <tr>\n",
              "      <th>8</th>\n",
              "      <td>KNearestNeighbour</td>\n",
              "      <td>0.79</td>\n",
              "      <td>0.80</td>\n",
              "      <td>0.79</td>\n",
              "      <td>80.00</td>\n",
              "      <td>0.76</td>\n",
              "      <td>0.68</td>\n",
              "      <td>0.71</td>\n",
              "      <td>68.33</td>\n",
              "    </tr>\n",
              "  </tbody>\n",
              "</table>\n",
              "</div>"
            ],
            "text/plain": [
              "                   Classifier  Precision_weighted  ...  F1score_sm  Accuracy_sm\n",
              "1      RandomForesrClassifier                0.85  ...        0.84        85.00\n",
              "2  GradientBoostingClassifier                0.65  ...        0.85        85.00\n",
              "3          AdaBoostClassifier                0.71  ...        0.80        80.00\n",
              "4               SupportVector                0.61  ...        0.69        78.33\n",
              "5         LogisticRregression                0.80  ...        0.71        68.33\n",
              "6                  GaussianNB                0.73  ...        0.79        81.67\n",
              "7               DecisisonTree                0.78  ...        0.77        75.00\n",
              "8           KNearestNeighbour                0.79  ...        0.71        68.33\n",
              "\n",
              "[8 rows x 9 columns]"
            ]
          },
          "metadata": {
            "tags": []
          },
          "execution_count": 196
        }
      ]
    },
    {
      "cell_type": "code",
      "metadata": {
        "id": "WnUIw-9xi7_T",
        "colab_type": "code",
        "colab": {
          "base_uri": "https://localhost:8080/",
          "height": 124
        },
        "outputId": "3ad17a5a-c96c-4081-cad6-a44416d7a770"
      },
      "source": [
        "#SMOTE\n",
        "from imblearn.over_sampling import SMOTE\n",
        "import numpy as np\n",
        "\n",
        "sm = SMOTE(random_state=42)\n",
        "x_train_sm, y_train_sm = sm.fit_sample(x_train_pre, y_train_pre)\n",
        "print (y_train_pre.value_counts() , np.bincount(y_train_sm))"
      ],
      "execution_count": 165,
      "outputs": [
        {
          "output_type": "stream",
          "text": [
            "0    104\n",
            "1     34\n",
            "Name: OutCome, dtype: int64 [104 104]\n"
          ],
          "name": "stdout"
        },
        {
          "output_type": "stream",
          "text": [
            "/usr/local/lib/python3.6/dist-packages/sklearn/externals/six.py:31: DeprecationWarning: The module is deprecated in version 0.21 and will be removed in version 0.23 since we've dropped support for Python 2.7. Please rely on the official version of six (https://pypi.org/project/six/).\n",
            "  \"(https://pypi.org/project/six/).\", DeprecationWarning)\n"
          ],
          "name": "stderr"
        }
      ]
    },
    {
      "cell_type": "code",
      "metadata": {
        "id": "dPHP_Oy_kXVS",
        "colab_type": "code",
        "colab": {}
      },
      "source": [
        "Precision_sm = []\n",
        "Recall_sm = []\n",
        "F1score_sm = []\n",
        "Accuracy_sm = []\n",
        "classifier_sm = ['RandomForesrClassifier', 'GradientBoostingClassifier','AdaBoostClassifier','SupportVector','LogisticRregression','GaussianNB','DecisisonTree','KNearestNeighbour']"
      ],
      "execution_count": 0,
      "outputs": []
    },
    {
      "cell_type": "code",
      "metadata": {
        "id": "NEWD0zUskmAc",
        "colab_type": "code",
        "colab": {
          "base_uri": "https://localhost:8080/",
          "height": 173
        },
        "outputId": "47a1bd46-8097-460f-9972-f5ae5f8f8b42"
      },
      "source": [
        "model_rbc_sm = RandomForestClassifier(n_estimators=1000)\n",
        "model_rbc_sm.fit(x_train_sm , y_train_sm)\n",
        "y_pred_sm = model_rbc_sm.predict(x_test_pre)\n",
        "print(classification_report(y_test_pre, y_pred_sm))\n",
        "Precision_sm.append(precision_score(y_test_pre, y_pred_sm, average = 'weighted'))\n",
        "Recall_sm.append(recall_score(y_test_pre, y_pred_sm, average = 'weighted'))\n",
        "F1score_sm.append(f1_score(y_test_pre, y_pred_sm, average = 'weighted'))\n",
        "Accuracy_sm.append(accuracy_score(y_test_pre, y_pred_sm)*100)"
      ],
      "execution_count": 168,
      "outputs": [
        {
          "output_type": "stream",
          "text": [
            "              precision    recall  f1-score   support\n",
            "\n",
            "           0       0.88      0.94      0.91        47\n",
            "           1       0.70      0.54      0.61        13\n",
            "\n",
            "    accuracy                           0.85        60\n",
            "   macro avg       0.79      0.74      0.76        60\n",
            "weighted avg       0.84      0.85      0.84        60\n",
            "\n"
          ],
          "name": "stdout"
        }
      ]
    },
    {
      "cell_type": "code",
      "metadata": {
        "id": "NYVTSqRRlEfl",
        "colab_type": "code",
        "colab": {
          "base_uri": "https://localhost:8080/",
          "height": 173
        },
        "outputId": "656084fb-d39b-4e47-f38e-5adc34bab4b5"
      },
      "source": [
        "model_gbc_sm = GradientBoostingClassifier(n_estimators=1000)\n",
        "model_gbc_sm.fit(x_train_sm , y_train_sm)\n",
        "y_pred_sm = model_gbc_sm.predict(x_test_pre)\n",
        "print(classification_report(y_test_pre, y_pred_sm))\n",
        "Precision_sm.append(precision_score(y_test_pre, y_pred_sm, average = 'weighted'))\n",
        "Recall_sm.append(recall_score(y_test_pre, y_pred_sm, average = 'weighted'))\n",
        "F1score_sm.append(f1_score(y_test_pre, y_pred_sm, average = 'weighted'))\n",
        "Accuracy_sm.append(accuracy_score(y_test_pre, y_pred_sm)*100)"
      ],
      "execution_count": 170,
      "outputs": [
        {
          "output_type": "stream",
          "text": [
            "              precision    recall  f1-score   support\n",
            "\n",
            "           0       0.91      0.89      0.90        47\n",
            "           1       0.64      0.69      0.67        13\n",
            "\n",
            "    accuracy                           0.85        60\n",
            "   macro avg       0.78      0.79      0.78        60\n",
            "weighted avg       0.85      0.85      0.85        60\n",
            "\n"
          ],
          "name": "stdout"
        }
      ]
    },
    {
      "cell_type": "code",
      "metadata": {
        "id": "74c3CxYmlzc3",
        "colab_type": "code",
        "colab": {
          "base_uri": "https://localhost:8080/",
          "height": 173
        },
        "outputId": "6edb00ce-ea8f-4af3-df2d-eac33745acde"
      },
      "source": [
        "model_ad_sm = AdaBoostClassifier()\n",
        "model_ad_sm.fit(x_train_sm , y_train_sm)\n",
        "y_pred_sm = model_ad_sm.predict(x_test_pre)\n",
        "print(classification_report(y_test_pre, y_pred_sm))\n",
        "Precision_sm.append(precision_score(y_test_pre, y_pred_sm, average = 'weighted'))\n",
        "Recall_sm.append(recall_score(y_test_pre, y_pred_sm, average = 'weighted'))\n",
        "F1score_sm.append(f1_score(y_test_pre, y_pred_sm, average = 'weighted'))\n",
        "Accuracy_sm.append(accuracy_score(y_test_pre, y_pred_sm)*100)"
      ],
      "execution_count": 173,
      "outputs": [
        {
          "output_type": "stream",
          "text": [
            "              precision    recall  f1-score   support\n",
            "\n",
            "           0       0.89      0.85      0.87        47\n",
            "           1       0.53      0.62      0.57        13\n",
            "\n",
            "    accuracy                           0.80        60\n",
            "   macro avg       0.71      0.73      0.72        60\n",
            "weighted avg       0.81      0.80      0.80        60\n",
            "\n"
          ],
          "name": "stdout"
        }
      ]
    },
    {
      "cell_type": "code",
      "metadata": {
        "id": "jqLSvMLqmbEr",
        "colab_type": "code",
        "colab": {
          "base_uri": "https://localhost:8080/",
          "height": 228
        },
        "outputId": "8e9d3545-6292-4bee-f7fd-c68fabfba97d"
      },
      "source": [
        "svc_sm=SVC() #Default hyperparameters\n",
        "svc_sm.fit(x_train_sm,y_train_sm)\n",
        "y_pred_sm=svc_sm.predict(x_test_pre)\n",
        "print(classification_report(y_test_pre, y_pred_sm))\n",
        "Precision_sm.append(precision_score(y_test_pre, y_pred_sm, average = 'weighted'))\n",
        "Recall_sm.append(recall_score(y_test_pre, y_pred_sm, average = 'weighted'))\n",
        "F1score_sm.append(f1_score(y_test_pre, y_pred_sm, average = 'weighted'))\n",
        "Accuracy_sm.append(accuracy_score(y_test_pre, y_pred_sm)*100)\n"
      ],
      "execution_count": 177,
      "outputs": [
        {
          "output_type": "stream",
          "text": [
            "              precision    recall  f1-score   support\n",
            "\n",
            "           0       0.89      0.68      0.77        47\n",
            "           1       0.38      0.69      0.49        13\n",
            "\n",
            "    accuracy                           0.68        60\n",
            "   macro avg       0.63      0.69      0.63        60\n",
            "weighted avg       0.78      0.68      0.71        60\n",
            "\n"
          ],
          "name": "stdout"
        },
        {
          "output_type": "stream",
          "text": [
            "/usr/local/lib/python3.6/dist-packages/sklearn/svm/base.py:193: FutureWarning: The default value of gamma will change from 'auto' to 'scale' in version 0.22 to account better for unscaled features. Set gamma explicitly to 'auto' or 'scale' to avoid this warning.\n",
            "  \"avoid this warning.\", FutureWarning)\n"
          ],
          "name": "stderr"
        }
      ]
    },
    {
      "cell_type": "code",
      "metadata": {
        "id": "llTwY5tPm7ls",
        "colab_type": "code",
        "colab": {
          "base_uri": "https://localhost:8080/",
          "height": 228
        },
        "outputId": "820b4aaf-9c51-43a1-a3c3-86f00a321430"
      },
      "source": [
        "model_lr_sm = LogisticRegression()\n",
        "model_lr_sm.fit(x_train_sm, y_train_sm)\n",
        "y_pred_sm = model_lr_sm.predict(x_test_pre)\n",
        "print(classification_report(y_test_pre, y_pred_sm))\n",
        "Precision_sm.append(precision_score(y_test_pre, y_pred_sm, average = 'weighted'))\n",
        "Recall_sm.append(recall_score(y_test_pre, y_pred_sm, average = 'weighted'))\n",
        "F1score_sm.append(f1_score(y_test_pre, y_pred_sm, average = 'weighted'))\n",
        "Accuracy_sm.append(accuracy_score(y_test_pre, y_pred_sm)*100)\n"
      ],
      "execution_count": 181,
      "outputs": [
        {
          "output_type": "stream",
          "text": [
            "              precision    recall  f1-score   support\n",
            "\n",
            "           0       0.90      0.77      0.83        47\n",
            "           1       0.45      0.69      0.55        13\n",
            "\n",
            "    accuracy                           0.75        60\n",
            "   macro avg       0.68      0.73      0.69        60\n",
            "weighted avg       0.80      0.75      0.77        60\n",
            "\n"
          ],
          "name": "stdout"
        },
        {
          "output_type": "stream",
          "text": [
            "/usr/local/lib/python3.6/dist-packages/sklearn/linear_model/logistic.py:432: FutureWarning: Default solver will be changed to 'lbfgs' in 0.22. Specify a solver to silence this warning.\n",
            "  FutureWarning)\n"
          ],
          "name": "stderr"
        }
      ]
    },
    {
      "cell_type": "code",
      "metadata": {
        "id": "yYnHzfX3nTYB",
        "colab_type": "code",
        "colab": {
          "base_uri": "https://localhost:8080/",
          "height": 173
        },
        "outputId": "af22950f-3c65-4a88-8fb2-638e56ef60ff"
      },
      "source": [
        "model_gnb_sm = GaussianNB()\n",
        "model_gnb_sm.fit(x_train_sm, y_train_sm)\n",
        "y_pred_sm = model_gnb_sm.predict(x_test_pre)\n",
        "print(classification_report(y_test_pre, y_pred_sm))\n",
        "Precision_sm.append(precision_score(y_test_pre, y_pred_sm, average = 'weighted'))\n",
        "Recall_sm.append(recall_score(y_test_pre, y_pred_sm, average = 'weighted'))\n",
        "F1score_sm.append(f1_score(y_test_pre, y_pred_sm, average = 'weighted'))\n",
        "Accuracy_sm.append(accuracy_score(y_test_pre, y_pred_sm)*100)\n",
        "\n"
      ],
      "execution_count": 183,
      "outputs": [
        {
          "output_type": "stream",
          "text": [
            "              precision    recall  f1-score   support\n",
            "\n",
            "           0       0.87      0.70      0.78        47\n",
            "           1       0.36      0.62      0.46        13\n",
            "\n",
            "    accuracy                           0.68        60\n",
            "   macro avg       0.62      0.66      0.62        60\n",
            "weighted avg       0.76      0.68      0.71        60\n",
            "\n"
          ],
          "name": "stdout"
        }
      ]
    },
    {
      "cell_type": "code",
      "metadata": {
        "id": "LYNTs6Crn32z",
        "colab_type": "code",
        "colab": {
          "base_uri": "https://localhost:8080/",
          "height": 173
        },
        "outputId": "952c6981-043d-4b1b-d4cb-264026f8ca83"
      },
      "source": [
        "model_DT_sm = DecisionTreeClassifier()\n",
        "model_DT_sm.fit(x_train_sm, y_train_sm)\n",
        "y_pred_sm = model_DT_sm.predict(x_test_pre)\n",
        "print(classification_report(y_test_pre, y_pred_sm))\n",
        "Precision_sm.append(precision_score(y_test_pre, y_pred_sm, average = 'weighted'))\n",
        "Recall_sm.append(recall_score(y_test_pre, y_pred_sm, average = 'weighted'))\n",
        "F1score_sm.append(f1_score(y_test_pre, y_pred_sm, average = 'weighted'))\n",
        "Accuracy_sm.append(accuracy_score(y_test_pre, y_pred_sm)*100)\n"
      ],
      "execution_count": 187,
      "outputs": [
        {
          "output_type": "stream",
          "text": [
            "              precision    recall  f1-score   support\n",
            "\n",
            "           0       0.83      0.72      0.77        47\n",
            "           1       0.32      0.46      0.37        13\n",
            "\n",
            "    accuracy                           0.67        60\n",
            "   macro avg       0.57      0.59      0.57        60\n",
            "weighted avg       0.72      0.67      0.69        60\n",
            "\n"
          ],
          "name": "stdout"
        }
      ]
    },
    {
      "cell_type": "code",
      "metadata": {
        "id": "nnHI4f0WoLIK",
        "colab_type": "code",
        "colab": {
          "base_uri": "https://localhost:8080/",
          "height": 173
        },
        "outputId": "a30b7d72-b29c-40d6-fc94-3a9f2cb57588"
      },
      "source": [
        "model_knn_sm = KNeighborsClassifier(n_neighbors=3)\n",
        "model_knn_sm.fit(x_train_sm, y_train_sm)\n",
        "y_pred_sm = model_knn_sm.predict(x_test_pre)\n",
        "print(classification_report(y_test_pre, y_pred_sm))\n",
        "Precision_sm.append(precision_score(y_test_pre, y_pred_sm, average = 'weighted'))\n",
        "Recall_sm.append(recall_score(y_test_pre, y_pred_sm, average = 'weighted'))\n",
        "F1score_sm.append(f1_score(y_test_pre, y_pred_sm, average = 'weighted'))\n",
        "Accuracy_sm.append(accuracy_score(y_test_pre, y_pred_sm)*100)"
      ],
      "execution_count": 190,
      "outputs": [
        {
          "output_type": "stream",
          "text": [
            "              precision    recall  f1-score   support\n",
            "\n",
            "           0       0.85      0.60      0.70        47\n",
            "           1       0.30      0.62      0.40        13\n",
            "\n",
            "    accuracy                           0.60        60\n",
            "   macro avg       0.57      0.61      0.55        60\n",
            "weighted avg       0.73      0.60      0.64        60\n",
            "\n"
          ],
          "name": "stdout"
        }
      ]
    },
    {
      "cell_type": "code",
      "metadata": {
        "id": "6sq5ZF-tmXef",
        "colab_type": "code",
        "colab": {}
      },
      "source": [
        "Precision_sm = list(np.around(np.array(Precision_sm),2))\n",
        "Recall_sm = list(np.around(np.array(Recall_sm),2))\n",
        "F1score_sm = list(np.around(np.array(F1score_sm),2))\n",
        "Accuracy_sm = list(np.around(np.array(Accuracy_sm),2))"
      ],
      "execution_count": 0,
      "outputs": []
    },
    {
      "cell_type": "code",
      "metadata": {
        "id": "iMoMxlGHpJRK",
        "colab_type": "code",
        "colab": {
          "base_uri": "https://localhost:8080/",
          "height": 35
        },
        "outputId": "2f28be53-6826-4dc9-dc23-5bcf76226860"
      },
      "source": [
        "Precision_sm"
      ],
      "execution_count": 193,
      "outputs": [
        {
          "output_type": "execute_result",
          "data": {
            "text/plain": [
              "[0.84, 0.85, 0.81, 0.61, 0.78, 0.8, 0.8, 0.76, 0.75, 0.72, 0.73]"
            ]
          },
          "metadata": {
            "tags": []
          },
          "execution_count": 193
        }
      ]
    },
    {
      "cell_type": "code",
      "metadata": {
        "id": "LifbtW_1pMM4",
        "colab_type": "code",
        "colab": {}
      },
      "source": [
        ""
      ],
      "execution_count": 0,
      "outputs": []
    }
  ]
}