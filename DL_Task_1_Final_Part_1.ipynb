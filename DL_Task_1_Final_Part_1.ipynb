{
  "nbformat": 4,
  "nbformat_minor": 0,
  "metadata": {
    "colab": {
      "name": "DL_Task_1_Final_Part_1.ipynb",
      "version": "0.3.2",
      "provenance": [],
      "include_colab_link": true
    },
    "kernelspec": {
      "name": "python3",
      "display_name": "Python 3"
    }
  },
  "cells": [
    {
      "cell_type": "markdown",
      "metadata": {
        "id": "view-in-github",
        "colab_type": "text"
      },
      "source": [
        "<a href=\"https://colab.research.google.com/github/girisiman/Deep_Learning_Tasks/blob/master/DL_Task_1_Final_Part_1.ipynb\" target=\"_parent\"><img src=\"https://colab.research.google.com/assets/colab-badge.svg\" alt=\"Open In Colab\"/></a>"
      ]
    },
    {
      "cell_type": "code",
      "metadata": {
        "id": "bt6rH3bBx7TG",
        "colab_type": "code",
        "colab": {
          "base_uri": "https://localhost:8080/",
          "height": 35
        },
        "outputId": "37be49f2-7bb1-4759-cfb6-bad756ecdcb9"
      },
      "source": [
        "import keras.datasets.mnist as mnist\n",
        "import keras\n",
        "from keras import regularizers\n",
        "from keras.layers import Input\n",
        "from keras.models import Model\n",
        "from keras.layers import Layer\n",
        "from keras.layers.core import Dense, Dropout\n",
        "from keras.utils import np_utils\n",
        "from keras.models import Sequential\n",
        "from keras import optimizers\n",
        "import matplotlib.pyplot as plt\n",
        "import numpy as np\n",
        "from sklearn.model_selection import ParameterGrid\n",
        "from sklearn.model_selection import GridSearchCV\n",
        "from keras.wrappers.scikit_learn import  KerasClassifier\n",
        "import os\n",
        "from sklearn.metrics import accuracy_score\n"
      ],
      "execution_count": 1,
      "outputs": [
        {
          "output_type": "stream",
          "text": [
            "Using TensorFlow backend.\n"
          ],
          "name": "stderr"
        }
      ]
    },
    {
      "cell_type": "markdown",
      "metadata": {
        "id": "D0fkqFIFyMOG",
        "colab_type": "text"
      },
      "source": [
        "Building all the function required to build a model, predict and table the required result"
      ]
    },
    {
      "cell_type": "code",
      "metadata": {
        "id": "RvErQYNryKCj",
        "colab_type": "code",
        "colab": {}
      },
      "source": [
        "# function to build basic mlp:\n",
        "def create_model(layers,activation, optimizer,drop_out, num_classes=10):\n",
        "  ''' Build a simple mlp model for multi-class classification;  \n",
        "      Arguments:all the hyperparametes (layers,act,opt, drop_out) to buld in a mlp provided by dictionary of parameters used during hyperparameter\n",
        "      optimization\n",
        "           '''\n",
        "  model = Sequential()\n",
        "  for i in range(len(layers)):\n",
        "    if i == 0:\n",
        "        model.add(Dense(layers[i], activation=activation, input_shape=(784,)))\n",
        "        model.add(Dropout(drop_out))\n",
        "    else:\n",
        "      model.add(Dense(layers[i], activation=activation))\n",
        "      model.add(Dropout(drop_out))\n",
        "  model.add(Dense(num_classes, activation=activation))\n",
        "  model.summary()\n",
        "\n",
        "  model.compile(loss='categorical_crossentropy',\n",
        "                  optimizer=optimizer,\n",
        "                  metrics=['accuracy'])\n",
        "\n",
        "  return model"
      ],
      "execution_count": 0,
      "outputs": []
    },
    {
      "cell_type": "code",
      "metadata": {
        "id": "MJ16bEMU0FhN",
        "colab_type": "code",
        "colab": {}
      },
      "source": [
        "def build_classifier(model):\n",
        "  ''' #classifier builder using keras_classifier\n",
        "  #Argument: Model; the output of create_model,\n",
        "  #This function handles the number of epochs provided for training\n",
        "  #output, kerasclassifiermodel and dicitionary of parameter'''\n",
        "  model = KerasClassifier(build_fn=create_model, epochs=25, batch_size=128, verbose=0)\n",
        "  parameter = {'layers':[[512,512],[512,512,512]],'activation': [ 'elu',  'relu',],\n",
        "             'optimizer': [ 'Adam' ],\n",
        "             'drop_out': [ 0.5]}\n",
        "  return keras_model, parameter\n",
        "\n"
      ],
      "execution_count": 0,
      "outputs": []
    },
    {
      "cell_type": "code",
      "metadata": {
        "id": "RRVmiwcR0yNf",
        "colab_type": "code",
        "colab": {}
      },
      "source": [
        "def search_besthyperparameter(model,parameter):\n",
        "  ''' Function to search for best parameter using GridSearch CV\n",
        "  #Argument:Kerasclassifiedmodel and dictionary of parameter\n",
        "  #output Classifier after perforfing gridsearchCV and results of all the parameters\n",
        "  #best_estimator: Estimators(with the combination of hyperparameter) providing best score\n",
        "  ###Thus function trains the model and provide the result.'''\n",
        "  classifier = GridSearchCV(estimator=model, param_grid=parameter, scoring ='accuracy')\n",
        "  search_result = classifier.fit(x_train, y_train)\n",
        "  print(\"Best Accuracy: %f using %s\" % (search_result.best_score_, search_result.best_params_))\n",
        "  best_estimator = classifier.best_estimator_\n",
        "  return search_result, best_estimator"
      ],
      "execution_count": 0,
      "outputs": []
    },
    {
      "cell_type": "code",
      "metadata": {
        "id": "_4xNcq39GtnT",
        "colab_type": "code",
        "colab": {}
      },
      "source": [
        "def table_search_result(grid_result):\n",
        "  ''' Function to plot the top5 best parameter combination based on the gridsearchcv score\n",
        "  #Argument:results from the training\n",
        "  #output: table with top5 best parameter'''\n",
        "  import pandas as pd\n",
        "  means = grid_result.cv_results_['mean_test_score']\n",
        "  #stds = grid_result.cv_results_['std_test_score']\n",
        "  params = grid_result.cv_results_['params']\n",
        "  rank = grid_result.cv_results_['rank_test_score']\n",
        "  d = {'rank_param':rank,'means_test_score':means,  'params':params}\n",
        "  result_table = pd.DataFrame(data =d)\n",
        "  #display(result_table.head())\n",
        "  sc = result_table.sort_values(by='rank_param',ascending = True)\n",
        "  display(sc.head(10))\n",
        "  \n",
        "  "
      ],
      "execution_count": 0,
      "outputs": []
    },
    {
      "cell_type": "code",
      "metadata": {
        "id": "E0PyrvsX1kOR",
        "colab_type": "code",
        "colab": {}
      },
      "source": [
        "def predict_classifier(best_estimator,x_test,y_test):\n",
        "  ''' Predict the accuracy of the classifier, using best found estimator\n",
        "  #best_estimator: best found estimator\n",
        "  #x_test,y_test: test datasets to predict'''\n",
        "  #output_accuracy \n",
        "  #best_estimator = classifier.best_estimator_\n",
        "  y_predicted = best_estimator.predict(x_test)\n",
        "  print(y_predicted)\n",
        "  accuracy = (accuracy_score(y_test,y_predicted)*100)\n",
        "  print('Accuracy: ',accuracy*100)\n",
        "  return accuracy"
      ],
      "execution_count": 0,
      "outputs": []
    },
    {
      "cell_type": "code",
      "metadata": {
        "id": "xuBTl3FG3aTt",
        "colab_type": "code",
        "colab": {}
      },
      "source": [
        "def load_data(num_classes = 10):\n",
        "  ''' funtion that load original mnist dataset, seperated into train and test set\n",
        "  #returns x_train,x_test,y_train,y_test'''\n",
        "  (x_train, y_train), (x_test, y_test) = mnist.load_data()\n",
        "  x_train = x_train.reshape(60000, 784)\n",
        "  x_test = x_test.reshape(10000, 784)\n",
        "  x_train = x_train.astype('float32')\n",
        "  x_test = x_test.astype('float32')\n",
        "  x_train /= 255\n",
        "  x_test /= 255\n",
        "  print(x_train.shape[0], 'train samples')\n",
        "  print(x_test.shape[0], 'test samples')\n",
        "  return x_train, x_test, y_train, y_test"
      ],
      "execution_count": 0,
      "outputs": []
    },
    {
      "cell_type": "code",
      "metadata": {
        "id": "1rssURcT4rhn",
        "colab_type": "code",
        "colab": {}
      },
      "source": [
        "def add_noise(x_train, x_test):\n",
        "  ''' Adds randomly generated gaussian noise to the train and test set\n",
        "  # argument, x_train, x_test of original data\n",
        "  #output: x_train and test with the nosise'''\n",
        "  noise_factor = 0.5\n",
        "  x_train_noisy = x_train + noise_factor * np.random.normal(loc=0.0, scale=1.0, size=x_train.shape) \n",
        "  x_test_noisy = x_test + noise_factor * np.random.normal(loc=0.0, scale=1.0, size=x_test.shape) \n",
        "  x_train_noisy = np.clip(x_train_noisy, 0., 1.)\n",
        "  x_test_noisy = np.clip(x_test_noisy, 0., 1.)\n",
        "  return x_train_noisy, x_test_noisy"
      ],
      "execution_count": 0,
      "outputs": []
    },
    {
      "cell_type": "markdown",
      "metadata": {
        "id": "h7GPONqI52u2",
        "colab_type": "text"
      },
      "source": [
        "performing the classification with hyperparameter searching in the original data."
      ]
    },
    {
      "cell_type": "code",
      "metadata": {
        "id": "m3Rurzpp5d9l",
        "colab_type": "code",
        "colab": {
          "base_uri": "https://localhost:8080/",
          "height": 52
        },
        "outputId": "a7ed3122-98f5-4030-dc21-3d63336110c5"
      },
      "source": [
        "# loading the dataset:\n",
        "x_train, x_test, y_train, y_test = load_data()"
      ],
      "execution_count": 16,
      "outputs": [
        {
          "output_type": "stream",
          "text": [
            "60000 train samples\n",
            "10000 test samples\n"
          ],
          "name": "stdout"
        }
      ]
    },
    {
      "cell_type": "code",
      "metadata": {
        "id": "A_7eObeD6JB6",
        "colab_type": "code",
        "colab": {}
      },
      "source": [
        "model = KerasClassifier(build_fn=create_model, epochs=25, batch_size=128, verbose=0)\n",
        "parameter = {'layers':[[512,512],[512,512,512]],'activation': [ 'elu',  'relu',],\n",
        "             'optimizer': [ 'Adam' ],\n",
        "             'drop_out': [ 0.5]}"
      ],
      "execution_count": 0,
      "outputs": []
    },
    {
      "cell_type": "code",
      "metadata": {
        "id": "86vh3kgk6m70",
        "colab_type": "code",
        "colab": {
          "base_uri": "https://localhost:8080/",
          "height": 4561
        },
        "outputId": "d1f2e190-2045-44d0-ffd7-551bc4fc632d"
      },
      "source": [
        "search_result,best_estimator = search_besthyperparameter(model,parameter)"
      ],
      "execution_count": 19,
      "outputs": [
        {
          "output_type": "stream",
          "text": [
            "WARNING:tensorflow:From /usr/local/lib/python3.6/dist-packages/tensorflow/python/framework/op_def_library.py:263: colocate_with (from tensorflow.python.framework.ops) is deprecated and will be removed in a future version.\n",
            "Instructions for updating:\n",
            "Colocations handled automatically by placer.\n",
            "WARNING:tensorflow:From /usr/local/lib/python3.6/dist-packages/keras/backend/tensorflow_backend.py:3445: calling dropout (from tensorflow.python.ops.nn_ops) with keep_prob is deprecated and will be removed in a future version.\n",
            "Instructions for updating:\n",
            "Please use `rate` instead of `keep_prob`. Rate should be set to `rate = 1 - keep_prob`.\n"
          ],
          "name": "stdout"
        },
        {
          "output_type": "stream",
          "text": [
            "/usr/local/lib/python3.6/dist-packages/sklearn/model_selection/_split.py:1978: FutureWarning: The default value of cv will change from 3 to 5 in version 0.22. Specify it explicitly to silence this warning.\n",
            "  warnings.warn(CV_WARNING, FutureWarning)\n"
          ],
          "name": "stderr"
        },
        {
          "output_type": "stream",
          "text": [
            "_________________________________________________________________\n",
            "Layer (type)                 Output Shape              Param #   \n",
            "=================================================================\n",
            "dense_1 (Dense)              (None, 512)               401920    \n",
            "_________________________________________________________________\n",
            "dropout_1 (Dropout)          (None, 512)               0         \n",
            "_________________________________________________________________\n",
            "dense_2 (Dense)              (None, 512)               262656    \n",
            "_________________________________________________________________\n",
            "dropout_2 (Dropout)          (None, 512)               0         \n",
            "_________________________________________________________________\n",
            "dense_3 (Dense)              (None, 10)                5130      \n",
            "=================================================================\n",
            "Total params: 669,706\n",
            "Trainable params: 669,706\n",
            "Non-trainable params: 0\n",
            "_________________________________________________________________\n",
            "WARNING:tensorflow:From /usr/local/lib/python3.6/dist-packages/tensorflow/python/ops/math_ops.py:3066: to_int32 (from tensorflow.python.ops.math_ops) is deprecated and will be removed in a future version.\n",
            "Instructions for updating:\n",
            "Use tf.cast instead.\n",
            "_________________________________________________________________\n",
            "Layer (type)                 Output Shape              Param #   \n",
            "=================================================================\n",
            "dense_4 (Dense)              (None, 512)               401920    \n",
            "_________________________________________________________________\n",
            "dropout_3 (Dropout)          (None, 512)               0         \n",
            "_________________________________________________________________\n",
            "dense_5 (Dense)              (None, 512)               262656    \n",
            "_________________________________________________________________\n",
            "dropout_4 (Dropout)          (None, 512)               0         \n",
            "_________________________________________________________________\n",
            "dense_6 (Dense)              (None, 10)                5130      \n",
            "=================================================================\n",
            "Total params: 669,706\n",
            "Trainable params: 669,706\n",
            "Non-trainable params: 0\n",
            "_________________________________________________________________\n",
            "_________________________________________________________________\n",
            "Layer (type)                 Output Shape              Param #   \n",
            "=================================================================\n",
            "dense_7 (Dense)              (None, 512)               401920    \n",
            "_________________________________________________________________\n",
            "dropout_5 (Dropout)          (None, 512)               0         \n",
            "_________________________________________________________________\n",
            "dense_8 (Dense)              (None, 512)               262656    \n",
            "_________________________________________________________________\n",
            "dropout_6 (Dropout)          (None, 512)               0         \n",
            "_________________________________________________________________\n",
            "dense_9 (Dense)              (None, 10)                5130      \n",
            "=================================================================\n",
            "Total params: 669,706\n",
            "Trainable params: 669,706\n",
            "Non-trainable params: 0\n",
            "_________________________________________________________________\n",
            "_________________________________________________________________\n",
            "Layer (type)                 Output Shape              Param #   \n",
            "=================================================================\n",
            "dense_10 (Dense)             (None, 512)               401920    \n",
            "_________________________________________________________________\n",
            "dropout_7 (Dropout)          (None, 512)               0         \n",
            "_________________________________________________________________\n",
            "dense_11 (Dense)             (None, 512)               262656    \n",
            "_________________________________________________________________\n",
            "dropout_8 (Dropout)          (None, 512)               0         \n",
            "_________________________________________________________________\n",
            "dense_12 (Dense)             (None, 512)               262656    \n",
            "_________________________________________________________________\n",
            "dropout_9 (Dropout)          (None, 512)               0         \n",
            "_________________________________________________________________\n",
            "dense_13 (Dense)             (None, 10)                5130      \n",
            "=================================================================\n",
            "Total params: 932,362\n",
            "Trainable params: 932,362\n",
            "Non-trainable params: 0\n",
            "_________________________________________________________________\n",
            "_________________________________________________________________\n",
            "Layer (type)                 Output Shape              Param #   \n",
            "=================================================================\n",
            "dense_14 (Dense)             (None, 512)               401920    \n",
            "_________________________________________________________________\n",
            "dropout_10 (Dropout)         (None, 512)               0         \n",
            "_________________________________________________________________\n",
            "dense_15 (Dense)             (None, 512)               262656    \n",
            "_________________________________________________________________\n",
            "dropout_11 (Dropout)         (None, 512)               0         \n",
            "_________________________________________________________________\n",
            "dense_16 (Dense)             (None, 512)               262656    \n",
            "_________________________________________________________________\n",
            "dropout_12 (Dropout)         (None, 512)               0         \n",
            "_________________________________________________________________\n",
            "dense_17 (Dense)             (None, 10)                5130      \n",
            "=================================================================\n",
            "Total params: 932,362\n",
            "Trainable params: 932,362\n",
            "Non-trainable params: 0\n",
            "_________________________________________________________________\n",
            "_________________________________________________________________\n",
            "Layer (type)                 Output Shape              Param #   \n",
            "=================================================================\n",
            "dense_18 (Dense)             (None, 512)               401920    \n",
            "_________________________________________________________________\n",
            "dropout_13 (Dropout)         (None, 512)               0         \n",
            "_________________________________________________________________\n",
            "dense_19 (Dense)             (None, 512)               262656    \n",
            "_________________________________________________________________\n",
            "dropout_14 (Dropout)         (None, 512)               0         \n",
            "_________________________________________________________________\n",
            "dense_20 (Dense)             (None, 512)               262656    \n",
            "_________________________________________________________________\n",
            "dropout_15 (Dropout)         (None, 512)               0         \n",
            "_________________________________________________________________\n",
            "dense_21 (Dense)             (None, 10)                5130      \n",
            "=================================================================\n",
            "Total params: 932,362\n",
            "Trainable params: 932,362\n",
            "Non-trainable params: 0\n",
            "_________________________________________________________________\n",
            "_________________________________________________________________\n",
            "Layer (type)                 Output Shape              Param #   \n",
            "=================================================================\n",
            "dense_22 (Dense)             (None, 512)               401920    \n",
            "_________________________________________________________________\n",
            "dropout_16 (Dropout)         (None, 512)               0         \n",
            "_________________________________________________________________\n",
            "dense_23 (Dense)             (None, 512)               262656    \n",
            "_________________________________________________________________\n",
            "dropout_17 (Dropout)         (None, 512)               0         \n",
            "_________________________________________________________________\n",
            "dense_24 (Dense)             (None, 10)                5130      \n",
            "=================================================================\n",
            "Total params: 669,706\n",
            "Trainable params: 669,706\n",
            "Non-trainable params: 0\n",
            "_________________________________________________________________\n",
            "_________________________________________________________________\n",
            "Layer (type)                 Output Shape              Param #   \n",
            "=================================================================\n",
            "dense_25 (Dense)             (None, 512)               401920    \n",
            "_________________________________________________________________\n",
            "dropout_18 (Dropout)         (None, 512)               0         \n",
            "_________________________________________________________________\n",
            "dense_26 (Dense)             (None, 512)               262656    \n",
            "_________________________________________________________________\n",
            "dropout_19 (Dropout)         (None, 512)               0         \n",
            "_________________________________________________________________\n",
            "dense_27 (Dense)             (None, 10)                5130      \n",
            "=================================================================\n",
            "Total params: 669,706\n",
            "Trainable params: 669,706\n",
            "Non-trainable params: 0\n",
            "_________________________________________________________________\n",
            "_________________________________________________________________\n",
            "Layer (type)                 Output Shape              Param #   \n",
            "=================================================================\n",
            "dense_28 (Dense)             (None, 512)               401920    \n",
            "_________________________________________________________________\n",
            "dropout_20 (Dropout)         (None, 512)               0         \n",
            "_________________________________________________________________\n",
            "dense_29 (Dense)             (None, 512)               262656    \n",
            "_________________________________________________________________\n",
            "dropout_21 (Dropout)         (None, 512)               0         \n",
            "_________________________________________________________________\n",
            "dense_30 (Dense)             (None, 10)                5130      \n",
            "=================================================================\n",
            "Total params: 669,706\n",
            "Trainable params: 669,706\n",
            "Non-trainable params: 0\n",
            "_________________________________________________________________\n",
            "_________________________________________________________________\n",
            "Layer (type)                 Output Shape              Param #   \n",
            "=================================================================\n",
            "dense_31 (Dense)             (None, 512)               401920    \n",
            "_________________________________________________________________\n",
            "dropout_22 (Dropout)         (None, 512)               0         \n",
            "_________________________________________________________________\n",
            "dense_32 (Dense)             (None, 512)               262656    \n",
            "_________________________________________________________________\n",
            "dropout_23 (Dropout)         (None, 512)               0         \n",
            "_________________________________________________________________\n",
            "dense_33 (Dense)             (None, 512)               262656    \n",
            "_________________________________________________________________\n",
            "dropout_24 (Dropout)         (None, 512)               0         \n",
            "_________________________________________________________________\n",
            "dense_34 (Dense)             (None, 10)                5130      \n",
            "=================================================================\n",
            "Total params: 932,362\n",
            "Trainable params: 932,362\n",
            "Non-trainable params: 0\n",
            "_________________________________________________________________\n",
            "_________________________________________________________________\n",
            "Layer (type)                 Output Shape              Param #   \n",
            "=================================================================\n",
            "dense_35 (Dense)             (None, 512)               401920    \n",
            "_________________________________________________________________\n",
            "dropout_25 (Dropout)         (None, 512)               0         \n",
            "_________________________________________________________________\n",
            "dense_36 (Dense)             (None, 512)               262656    \n",
            "_________________________________________________________________\n",
            "dropout_26 (Dropout)         (None, 512)               0         \n",
            "_________________________________________________________________\n",
            "dense_37 (Dense)             (None, 512)               262656    \n",
            "_________________________________________________________________\n",
            "dropout_27 (Dropout)         (None, 512)               0         \n",
            "_________________________________________________________________\n",
            "dense_38 (Dense)             (None, 10)                5130      \n",
            "=================================================================\n",
            "Total params: 932,362\n",
            "Trainable params: 932,362\n",
            "Non-trainable params: 0\n",
            "_________________________________________________________________\n",
            "_________________________________________________________________\n",
            "Layer (type)                 Output Shape              Param #   \n",
            "=================================================================\n",
            "dense_39 (Dense)             (None, 512)               401920    \n",
            "_________________________________________________________________\n",
            "dropout_28 (Dropout)         (None, 512)               0         \n",
            "_________________________________________________________________\n",
            "dense_40 (Dense)             (None, 512)               262656    \n",
            "_________________________________________________________________\n",
            "dropout_29 (Dropout)         (None, 512)               0         \n",
            "_________________________________________________________________\n",
            "dense_41 (Dense)             (None, 512)               262656    \n",
            "_________________________________________________________________\n",
            "dropout_30 (Dropout)         (None, 512)               0         \n",
            "_________________________________________________________________\n",
            "dense_42 (Dense)             (None, 10)                5130      \n",
            "=================================================================\n",
            "Total params: 932,362\n",
            "Trainable params: 932,362\n",
            "Non-trainable params: 0\n",
            "_________________________________________________________________\n",
            "_________________________________________________________________\n",
            "Layer (type)                 Output Shape              Param #   \n",
            "=================================================================\n",
            "dense_43 (Dense)             (None, 512)               401920    \n",
            "_________________________________________________________________\n",
            "dropout_31 (Dropout)         (None, 512)               0         \n",
            "_________________________________________________________________\n",
            "dense_44 (Dense)             (None, 512)               262656    \n",
            "_________________________________________________________________\n",
            "dropout_32 (Dropout)         (None, 512)               0         \n",
            "_________________________________________________________________\n",
            "dense_45 (Dense)             (None, 512)               262656    \n",
            "_________________________________________________________________\n",
            "dropout_33 (Dropout)         (None, 512)               0         \n",
            "_________________________________________________________________\n",
            "dense_46 (Dense)             (None, 10)                5130      \n",
            "=================================================================\n",
            "Total params: 932,362\n",
            "Trainable params: 932,362\n",
            "Non-trainable params: 0\n",
            "_________________________________________________________________\n",
            "Best Accuracy: 0.912167 using {'activation': 'elu', 'drop_out': 0.5, 'layers': [512, 512, 512], 'optimizer': 'Adam'}\n"
          ],
          "name": "stdout"
        }
      ]
    },
    {
      "cell_type": "code",
      "metadata": {
        "id": "psGENNMu615s",
        "colab_type": "code",
        "colab": {
          "base_uri": "https://localhost:8080/",
          "height": 171
        },
        "outputId": "e2b2204c-71db-484a-d4a3-54a7d276b8fe"
      },
      "source": [
        "table_search_result(search_result)"
      ],
      "execution_count": 25,
      "outputs": [
        {
          "output_type": "display_data",
          "data": {
            "text/html": [
              "<div>\n",
              "<style scoped>\n",
              "    .dataframe tbody tr th:only-of-type {\n",
              "        vertical-align: middle;\n",
              "    }\n",
              "\n",
              "    .dataframe tbody tr th {\n",
              "        vertical-align: top;\n",
              "    }\n",
              "\n",
              "    .dataframe thead th {\n",
              "        text-align: right;\n",
              "    }\n",
              "</style>\n",
              "<table border=\"1\" class=\"dataframe\">\n",
              "  <thead>\n",
              "    <tr style=\"text-align: right;\">\n",
              "      <th></th>\n",
              "      <th>rank_param</th>\n",
              "      <th>means_test_score</th>\n",
              "      <th>params</th>\n",
              "    </tr>\n",
              "  </thead>\n",
              "  <tbody>\n",
              "    <tr>\n",
              "      <th>1</th>\n",
              "      <td>1</td>\n",
              "      <td>0.912167</td>\n",
              "      <td>{'activation': 'elu', 'drop_out': 0.5, 'layers...</td>\n",
              "    </tr>\n",
              "    <tr>\n",
              "      <th>0</th>\n",
              "      <td>2</td>\n",
              "      <td>0.827150</td>\n",
              "      <td>{'activation': 'elu', 'drop_out': 0.5, 'layers...</td>\n",
              "    </tr>\n",
              "    <tr>\n",
              "      <th>2</th>\n",
              "      <td>3</td>\n",
              "      <td>0.098717</td>\n",
              "      <td>{'activation': 'relu', 'drop_out': 0.5, 'layer...</td>\n",
              "    </tr>\n",
              "    <tr>\n",
              "      <th>3</th>\n",
              "      <td>3</td>\n",
              "      <td>0.098717</td>\n",
              "      <td>{'activation': 'relu', 'drop_out': 0.5, 'layer...</td>\n",
              "    </tr>\n",
              "  </tbody>\n",
              "</table>\n",
              "</div>"
            ],
            "text/plain": [
              "   rank_param  ...                                             params\n",
              "1           1  ...  {'activation': 'elu', 'drop_out': 0.5, 'layers...\n",
              "0           2  ...  {'activation': 'elu', 'drop_out': 0.5, 'layers...\n",
              "2           3  ...  {'activation': 'relu', 'drop_out': 0.5, 'layer...\n",
              "3           3  ...  {'activation': 'relu', 'drop_out': 0.5, 'layer...\n",
              "\n",
              "[4 rows x 3 columns]"
            ]
          },
          "metadata": {
            "tags": []
          }
        }
      ]
    },
    {
      "cell_type": "code",
      "metadata": {
        "id": "06OMEpvTHhqT",
        "colab_type": "code",
        "colab": {
          "base_uri": "https://localhost:8080/",
          "height": 69
        },
        "outputId": "2d4b4d1f-4227-45e9-d2db-d335ffe7b6d2"
      },
      "source": [
        "Result={'Accuracy_original':[],'Accuracy_noise':[],'Accuracy_recon':[]}\n",
        "Accuracy_original = predict_classifier(best_estimator,x_test,y_test)\n",
        "Result.update(Accuracy_original = Accuracy_original)\n",
        "Result"
      ],
      "execution_count": 38,
      "outputs": [
        {
          "output_type": "stream",
          "text": [
            "[7 2 1 ... 4 5 6]\n",
            "Accuracy:  9274.0\n"
          ],
          "name": "stdout"
        },
        {
          "output_type": "execute_result",
          "data": {
            "text/plain": [
              "{'Accuracy_noise': [], 'Accuracy_original': 92.74, 'Accuracy_recon': []}"
            ]
          },
          "metadata": {
            "tags": []
          },
          "execution_count": 38
        }
      ]
    },
    {
      "cell_type": "code",
      "metadata": {
        "id": "NTCa8gajIWGj",
        "colab_type": "code",
        "colab": {}
      },
      "source": [
        "# loading the dataset with noise:\n",
        "x_train_noise, x_test_noise = add_noise(x_train,x_test)"
      ],
      "execution_count": 0,
      "outputs": []
    },
    {
      "cell_type": "code",
      "metadata": {
        "id": "ajbWpRjUKTR5",
        "colab_type": "code",
        "colab": {
          "base_uri": "https://localhost:8080/",
          "height": 4405
        },
        "outputId": "07701634-c4b6-48c6-cacf-1e3045b0ee23"
      },
      "source": [
        "# training and hyperparameter searaching with model and parameter\n",
        "search_result_noise,best_estimator_noise = search_besthyperparameter(model,parameter)"
      ],
      "execution_count": 34,
      "outputs": [
        {
          "output_type": "stream",
          "text": [
            "/usr/local/lib/python3.6/dist-packages/sklearn/model_selection/_split.py:1978: FutureWarning: The default value of cv will change from 3 to 5 in version 0.22. Specify it explicitly to silence this warning.\n",
            "  warnings.warn(CV_WARNING, FutureWarning)\n"
          ],
          "name": "stderr"
        },
        {
          "output_type": "stream",
          "text": [
            "_________________________________________________________________\n",
            "Layer (type)                 Output Shape              Param #   \n",
            "=================================================================\n",
            "dense_47 (Dense)             (None, 512)               401920    \n",
            "_________________________________________________________________\n",
            "dropout_34 (Dropout)         (None, 512)               0         \n",
            "_________________________________________________________________\n",
            "dense_48 (Dense)             (None, 512)               262656    \n",
            "_________________________________________________________________\n",
            "dropout_35 (Dropout)         (None, 512)               0         \n",
            "_________________________________________________________________\n",
            "dense_49 (Dense)             (None, 10)                5130      \n",
            "=================================================================\n",
            "Total params: 669,706\n",
            "Trainable params: 669,706\n",
            "Non-trainable params: 0\n",
            "_________________________________________________________________\n",
            "_________________________________________________________________\n",
            "Layer (type)                 Output Shape              Param #   \n",
            "=================================================================\n",
            "dense_50 (Dense)             (None, 512)               401920    \n",
            "_________________________________________________________________\n",
            "dropout_36 (Dropout)         (None, 512)               0         \n",
            "_________________________________________________________________\n",
            "dense_51 (Dense)             (None, 512)               262656    \n",
            "_________________________________________________________________\n",
            "dropout_37 (Dropout)         (None, 512)               0         \n",
            "_________________________________________________________________\n",
            "dense_52 (Dense)             (None, 10)                5130      \n",
            "=================================================================\n",
            "Total params: 669,706\n",
            "Trainable params: 669,706\n",
            "Non-trainable params: 0\n",
            "_________________________________________________________________\n",
            "_________________________________________________________________\n",
            "Layer (type)                 Output Shape              Param #   \n",
            "=================================================================\n",
            "dense_53 (Dense)             (None, 512)               401920    \n",
            "_________________________________________________________________\n",
            "dropout_38 (Dropout)         (None, 512)               0         \n",
            "_________________________________________________________________\n",
            "dense_54 (Dense)             (None, 512)               262656    \n",
            "_________________________________________________________________\n",
            "dropout_39 (Dropout)         (None, 512)               0         \n",
            "_________________________________________________________________\n",
            "dense_55 (Dense)             (None, 10)                5130      \n",
            "=================================================================\n",
            "Total params: 669,706\n",
            "Trainable params: 669,706\n",
            "Non-trainable params: 0\n",
            "_________________________________________________________________\n",
            "_________________________________________________________________\n",
            "Layer (type)                 Output Shape              Param #   \n",
            "=================================================================\n",
            "dense_56 (Dense)             (None, 512)               401920    \n",
            "_________________________________________________________________\n",
            "dropout_40 (Dropout)         (None, 512)               0         \n",
            "_________________________________________________________________\n",
            "dense_57 (Dense)             (None, 512)               262656    \n",
            "_________________________________________________________________\n",
            "dropout_41 (Dropout)         (None, 512)               0         \n",
            "_________________________________________________________________\n",
            "dense_58 (Dense)             (None, 512)               262656    \n",
            "_________________________________________________________________\n",
            "dropout_42 (Dropout)         (None, 512)               0         \n",
            "_________________________________________________________________\n",
            "dense_59 (Dense)             (None, 10)                5130      \n",
            "=================================================================\n",
            "Total params: 932,362\n",
            "Trainable params: 932,362\n",
            "Non-trainable params: 0\n",
            "_________________________________________________________________\n",
            "_________________________________________________________________\n",
            "Layer (type)                 Output Shape              Param #   \n",
            "=================================================================\n",
            "dense_60 (Dense)             (None, 512)               401920    \n",
            "_________________________________________________________________\n",
            "dropout_43 (Dropout)         (None, 512)               0         \n",
            "_________________________________________________________________\n",
            "dense_61 (Dense)             (None, 512)               262656    \n",
            "_________________________________________________________________\n",
            "dropout_44 (Dropout)         (None, 512)               0         \n",
            "_________________________________________________________________\n",
            "dense_62 (Dense)             (None, 512)               262656    \n",
            "_________________________________________________________________\n",
            "dropout_45 (Dropout)         (None, 512)               0         \n",
            "_________________________________________________________________\n",
            "dense_63 (Dense)             (None, 10)                5130      \n",
            "=================================================================\n",
            "Total params: 932,362\n",
            "Trainable params: 932,362\n",
            "Non-trainable params: 0\n",
            "_________________________________________________________________\n",
            "_________________________________________________________________\n",
            "Layer (type)                 Output Shape              Param #   \n",
            "=================================================================\n",
            "dense_64 (Dense)             (None, 512)               401920    \n",
            "_________________________________________________________________\n",
            "dropout_46 (Dropout)         (None, 512)               0         \n",
            "_________________________________________________________________\n",
            "dense_65 (Dense)             (None, 512)               262656    \n",
            "_________________________________________________________________\n",
            "dropout_47 (Dropout)         (None, 512)               0         \n",
            "_________________________________________________________________\n",
            "dense_66 (Dense)             (None, 512)               262656    \n",
            "_________________________________________________________________\n",
            "dropout_48 (Dropout)         (None, 512)               0         \n",
            "_________________________________________________________________\n",
            "dense_67 (Dense)             (None, 10)                5130      \n",
            "=================================================================\n",
            "Total params: 932,362\n",
            "Trainable params: 932,362\n",
            "Non-trainable params: 0\n",
            "_________________________________________________________________\n",
            "_________________________________________________________________\n",
            "Layer (type)                 Output Shape              Param #   \n",
            "=================================================================\n",
            "dense_68 (Dense)             (None, 512)               401920    \n",
            "_________________________________________________________________\n",
            "dropout_49 (Dropout)         (None, 512)               0         \n",
            "_________________________________________________________________\n",
            "dense_69 (Dense)             (None, 512)               262656    \n",
            "_________________________________________________________________\n",
            "dropout_50 (Dropout)         (None, 512)               0         \n",
            "_________________________________________________________________\n",
            "dense_70 (Dense)             (None, 10)                5130      \n",
            "=================================================================\n",
            "Total params: 669,706\n",
            "Trainable params: 669,706\n",
            "Non-trainable params: 0\n",
            "_________________________________________________________________\n",
            "_________________________________________________________________\n",
            "Layer (type)                 Output Shape              Param #   \n",
            "=================================================================\n",
            "dense_71 (Dense)             (None, 512)               401920    \n",
            "_________________________________________________________________\n",
            "dropout_51 (Dropout)         (None, 512)               0         \n",
            "_________________________________________________________________\n",
            "dense_72 (Dense)             (None, 512)               262656    \n",
            "_________________________________________________________________\n",
            "dropout_52 (Dropout)         (None, 512)               0         \n",
            "_________________________________________________________________\n",
            "dense_73 (Dense)             (None, 10)                5130      \n",
            "=================================================================\n",
            "Total params: 669,706\n",
            "Trainable params: 669,706\n",
            "Non-trainable params: 0\n",
            "_________________________________________________________________\n",
            "_________________________________________________________________\n",
            "Layer (type)                 Output Shape              Param #   \n",
            "=================================================================\n",
            "dense_74 (Dense)             (None, 512)               401920    \n",
            "_________________________________________________________________\n",
            "dropout_53 (Dropout)         (None, 512)               0         \n",
            "_________________________________________________________________\n",
            "dense_75 (Dense)             (None, 512)               262656    \n",
            "_________________________________________________________________\n",
            "dropout_54 (Dropout)         (None, 512)               0         \n",
            "_________________________________________________________________\n",
            "dense_76 (Dense)             (None, 10)                5130      \n",
            "=================================================================\n",
            "Total params: 669,706\n",
            "Trainable params: 669,706\n",
            "Non-trainable params: 0\n",
            "_________________________________________________________________\n",
            "_________________________________________________________________\n",
            "Layer (type)                 Output Shape              Param #   \n",
            "=================================================================\n",
            "dense_77 (Dense)             (None, 512)               401920    \n",
            "_________________________________________________________________\n",
            "dropout_55 (Dropout)         (None, 512)               0         \n",
            "_________________________________________________________________\n",
            "dense_78 (Dense)             (None, 512)               262656    \n",
            "_________________________________________________________________\n",
            "dropout_56 (Dropout)         (None, 512)               0         \n",
            "_________________________________________________________________\n",
            "dense_79 (Dense)             (None, 512)               262656    \n",
            "_________________________________________________________________\n",
            "dropout_57 (Dropout)         (None, 512)               0         \n",
            "_________________________________________________________________\n",
            "dense_80 (Dense)             (None, 10)                5130      \n",
            "=================================================================\n",
            "Total params: 932,362\n",
            "Trainable params: 932,362\n",
            "Non-trainable params: 0\n",
            "_________________________________________________________________\n",
            "_________________________________________________________________\n",
            "Layer (type)                 Output Shape              Param #   \n",
            "=================================================================\n",
            "dense_81 (Dense)             (None, 512)               401920    \n",
            "_________________________________________________________________\n",
            "dropout_58 (Dropout)         (None, 512)               0         \n",
            "_________________________________________________________________\n",
            "dense_82 (Dense)             (None, 512)               262656    \n",
            "_________________________________________________________________\n",
            "dropout_59 (Dropout)         (None, 512)               0         \n",
            "_________________________________________________________________\n",
            "dense_83 (Dense)             (None, 512)               262656    \n",
            "_________________________________________________________________\n",
            "dropout_60 (Dropout)         (None, 512)               0         \n",
            "_________________________________________________________________\n",
            "dense_84 (Dense)             (None, 10)                5130      \n",
            "=================================================================\n",
            "Total params: 932,362\n",
            "Trainable params: 932,362\n",
            "Non-trainable params: 0\n",
            "_________________________________________________________________\n",
            "_________________________________________________________________\n",
            "Layer (type)                 Output Shape              Param #   \n",
            "=================================================================\n",
            "dense_85 (Dense)             (None, 512)               401920    \n",
            "_________________________________________________________________\n",
            "dropout_61 (Dropout)         (None, 512)               0         \n",
            "_________________________________________________________________\n",
            "dense_86 (Dense)             (None, 512)               262656    \n",
            "_________________________________________________________________\n",
            "dropout_62 (Dropout)         (None, 512)               0         \n",
            "_________________________________________________________________\n",
            "dense_87 (Dense)             (None, 512)               262656    \n",
            "_________________________________________________________________\n",
            "dropout_63 (Dropout)         (None, 512)               0         \n",
            "_________________________________________________________________\n",
            "dense_88 (Dense)             (None, 10)                5130      \n",
            "=================================================================\n",
            "Total params: 932,362\n",
            "Trainable params: 932,362\n",
            "Non-trainable params: 0\n",
            "_________________________________________________________________\n",
            "_________________________________________________________________\n",
            "Layer (type)                 Output Shape              Param #   \n",
            "=================================================================\n",
            "dense_89 (Dense)             (None, 512)               401920    \n",
            "_________________________________________________________________\n",
            "dropout_64 (Dropout)         (None, 512)               0         \n",
            "_________________________________________________________________\n",
            "dense_90 (Dense)             (None, 512)               262656    \n",
            "_________________________________________________________________\n",
            "dropout_65 (Dropout)         (None, 512)               0         \n",
            "_________________________________________________________________\n",
            "dense_91 (Dense)             (None, 512)               262656    \n",
            "_________________________________________________________________\n",
            "dropout_66 (Dropout)         (None, 512)               0         \n",
            "_________________________________________________________________\n",
            "dense_92 (Dense)             (None, 10)                5130      \n",
            "=================================================================\n",
            "Total params: 932,362\n",
            "Trainable params: 932,362\n",
            "Non-trainable params: 0\n",
            "_________________________________________________________________\n",
            "Best Accuracy: 0.920233 using {'activation': 'elu', 'drop_out': 0.5, 'layers': [512, 512, 512], 'optimizer': 'Adam'}\n"
          ],
          "name": "stdout"
        }
      ]
    },
    {
      "cell_type": "code",
      "metadata": {
        "id": "o2rKFFohK5-J",
        "colab_type": "code",
        "colab": {
          "base_uri": "https://localhost:8080/",
          "height": 171
        },
        "outputId": "80e9adfd-0ca3-440b-a78c-358345daf61b"
      },
      "source": [
        "table_search_result(search_result)"
      ],
      "execution_count": 35,
      "outputs": [
        {
          "output_type": "display_data",
          "data": {
            "text/html": [
              "<div>\n",
              "<style scoped>\n",
              "    .dataframe tbody tr th:only-of-type {\n",
              "        vertical-align: middle;\n",
              "    }\n",
              "\n",
              "    .dataframe tbody tr th {\n",
              "        vertical-align: top;\n",
              "    }\n",
              "\n",
              "    .dataframe thead th {\n",
              "        text-align: right;\n",
              "    }\n",
              "</style>\n",
              "<table border=\"1\" class=\"dataframe\">\n",
              "  <thead>\n",
              "    <tr style=\"text-align: right;\">\n",
              "      <th></th>\n",
              "      <th>rank_param</th>\n",
              "      <th>means_test_score</th>\n",
              "      <th>params</th>\n",
              "    </tr>\n",
              "  </thead>\n",
              "  <tbody>\n",
              "    <tr>\n",
              "      <th>1</th>\n",
              "      <td>1</td>\n",
              "      <td>0.912167</td>\n",
              "      <td>{'activation': 'elu', 'drop_out': 0.5, 'layers...</td>\n",
              "    </tr>\n",
              "    <tr>\n",
              "      <th>0</th>\n",
              "      <td>2</td>\n",
              "      <td>0.827150</td>\n",
              "      <td>{'activation': 'elu', 'drop_out': 0.5, 'layers...</td>\n",
              "    </tr>\n",
              "    <tr>\n",
              "      <th>2</th>\n",
              "      <td>3</td>\n",
              "      <td>0.098717</td>\n",
              "      <td>{'activation': 'relu', 'drop_out': 0.5, 'layer...</td>\n",
              "    </tr>\n",
              "    <tr>\n",
              "      <th>3</th>\n",
              "      <td>3</td>\n",
              "      <td>0.098717</td>\n",
              "      <td>{'activation': 'relu', 'drop_out': 0.5, 'layer...</td>\n",
              "    </tr>\n",
              "  </tbody>\n",
              "</table>\n",
              "</div>"
            ],
            "text/plain": [
              "   rank_param  ...                                             params\n",
              "1           1  ...  {'activation': 'elu', 'drop_out': 0.5, 'layers...\n",
              "0           2  ...  {'activation': 'elu', 'drop_out': 0.5, 'layers...\n",
              "2           3  ...  {'activation': 'relu', 'drop_out': 0.5, 'layer...\n",
              "3           3  ...  {'activation': 'relu', 'drop_out': 0.5, 'layer...\n",
              "\n",
              "[4 rows x 3 columns]"
            ]
          },
          "metadata": {
            "tags": []
          }
        }
      ]
    },
    {
      "cell_type": "code",
      "metadata": {
        "id": "F-wSNm5QXbQS",
        "colab_type": "code",
        "colab": {
          "base_uri": "https://localhost:8080/",
          "height": 69
        },
        "outputId": "39146ae5-4eac-44bc-c7b2-e905b1063455"
      },
      "source": [
        "Accuracy_noise = predict_classifier(best_estimator,x_test,y_test)\n",
        "Result.update(Accuracy_noise = Accuracy_noise)\n",
        "Result"
      ],
      "execution_count": 39,
      "outputs": [
        {
          "output_type": "stream",
          "text": [
            "[7 2 1 ... 4 5 6]\n",
            "Accuracy:  9274.0\n"
          ],
          "name": "stdout"
        },
        {
          "output_type": "execute_result",
          "data": {
            "text/plain": [
              "{'Accuracy_noise': 92.74, 'Accuracy_original': 92.74, 'Accuracy_recon': []}"
            ]
          },
          "metadata": {
            "tags": []
          },
          "execution_count": 39
        }
      ]
    },
    {
      "cell_type": "code",
      "metadata": {
        "id": "kClSsnt1XvzV",
        "colab_type": "code",
        "colab": {}
      },
      "source": [
        ""
      ],
      "execution_count": 0,
      "outputs": []
    }
  ]
}