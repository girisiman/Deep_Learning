{
  "nbformat": 4,
  "nbformat_minor": 0,
  "metadata": {
    "colab": {
      "name": "Wisconsin_after_feature_selection_sm.ipynb",
      "version": "0.3.2",
      "provenance": [],
      "collapsed_sections": [],
      "include_colab_link": true
    },
    "kernelspec": {
      "name": "python3",
      "display_name": "Python 3"
    },
    "accelerator": "GPU"
  },
  "cells": [
    {
      "cell_type": "markdown",
      "metadata": {
        "id": "view-in-github",
        "colab_type": "text"
      },
      "source": [
        "<a href=\"https://colab.research.google.com/github/girisiman/Deep_Learning_Tasks/blob/master/Wisconsin_after_feature_selection_sm.ipynb\" target=\"_parent\"><img src=\"https://colab.research.google.com/assets/colab-badge.svg\" alt=\"Open In Colab\"/></a>"
      ]
    },
    {
      "cell_type": "code",
      "metadata": {
        "id": "ndWM5P4V072n",
        "colab_type": "code",
        "outputId": "ea55df43-ce85-4378-9b19-c095dad8f502",
        "colab": {
          "resources": {
            "http://localhost:8080/nbextensions/google.colab/files.js": {
              "data": "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",
              "ok": true,
              "headers": [
                [
                  "content-type",
                  "application/javascript"
                ]
              ],
              "status": 200,
              "status_text": ""
            }
          },
          "base_uri": "https://localhost:8080/",
          "height": 93
        }
      },
      "source": [
        "from google.colab import files\n",
        "\n",
        "uploaded = files.upload()\n",
        "\n",
        "for fn in uploaded.keys():\n",
        "  print('User uploaded file \"{name}\" with length {length} bytes'.format(\n",
        "      name=fn, length=len(uploaded[fn])))"
      ],
      "execution_count": 1,
      "outputs": [
        {
          "output_type": "display_data",
          "data": {
            "text/html": [
              "\n",
              "     <input type=\"file\" id=\"files-1f780421-193a-439c-bbb8-b44226f60554\" name=\"files[]\" multiple disabled />\n",
              "     <output id=\"result-1f780421-193a-439c-bbb8-b44226f60554\">\n",
              "      Upload widget is only available when the cell has been executed in the\n",
              "      current browser session. Please rerun this cell to enable.\n",
              "      </output>\n",
              "      <script src=\"/nbextensions/google.colab/files.js\"></script> "
            ],
            "text/plain": [
              "<IPython.core.display.HTML object>"
            ]
          },
          "metadata": {
            "tags": []
          }
        },
        {
          "output_type": "stream",
          "text": [
            "Saving breast_cancer_2.csv to breast_cancer_2 (4).csv\n",
            "User uploaded file \"breast_cancer_2.csv\" with length 44930 bytes\n"
          ],
          "name": "stdout"
        }
      ]
    },
    {
      "cell_type": "code",
      "metadata": {
        "id": "HgWlXJgT1IHZ",
        "colab_type": "code",
        "colab": {}
      },
      "source": [
        "from google.colab import files\n",
        "from sklearn.model_selection import train_test_split\n",
        "from sklearn.ensemble import RandomForestClassifier\n",
        "from sklearn.ensemble import GradientBoostingClassifier\n",
        "from sklearn.metrics import accuracy_score, confusion_matrix,precision_score,recall_score,f1_score\n",
        "from sklearn.ensemble import AdaBoostClassifier\n",
        "from sklearn.svm import SVC\n",
        "from sklearn.linear_model import LogisticRegression\n",
        "from sklearn.naive_bayes import GaussianNB\n",
        "from sklearn.tree import DecisionTreeClassifier\n",
        "from sklearn.neighbors import KNeighborsClassifier\n",
        "import numpy as np\n",
        "from sklearn.metrics import classification_report"
      ],
      "execution_count": 0,
      "outputs": []
    },
    {
      "cell_type": "code",
      "metadata": {
        "id": "3XJ82L9z1Nlp",
        "colab_type": "code",
        "colab": {}
      },
      "source": [
        "from sklearn import preprocessing\n",
        "def scaler(df):\n",
        "    \"\"\"The Function receive a Dataframe and return a Scaled Dataframe\"\"\"\n",
        "    scaler = preprocessing.MinMaxScaler()\n",
        "    scaled_df = scaler.fit_transform(df)\n",
        "    scaled_df = pd.DataFrame(scaled_df, columns=df.columns)\n",
        "    \n",
        "    return scaled_df\n"
      ],
      "execution_count": 0,
      "outputs": []
    },
    {
      "cell_type": "code",
      "metadata": {
        "id": "YnslpUw01R_Y",
        "colab_type": "code",
        "outputId": "dd13b536-aeb5-4ae7-edc4-99d0ab9b0b15",
        "colab": {
          "base_uri": "https://localhost:8080/",
          "height": 239
        }
      },
      "source": [
        "import pandas as pd\n",
        "data_v3 = pd.read_csv('breast_cancer_2.csv')\n",
        "data = data_v3.drop(['ID'], axis=1) # ID has no role in the classification\n",
        "data.head()"
      ],
      "execution_count": 4,
      "outputs": [
        {
          "output_type": "execute_result",
          "data": {
            "text/html": [
              "<div>\n",
              "<style scoped>\n",
              "    .dataframe tbody tr th:only-of-type {\n",
              "        vertical-align: middle;\n",
              "    }\n",
              "\n",
              "    .dataframe tbody tr th {\n",
              "        vertical-align: top;\n",
              "    }\n",
              "\n",
              "    .dataframe thead th {\n",
              "        text-align: right;\n",
              "    }\n",
              "</style>\n",
              "<table border=\"1\" class=\"dataframe\">\n",
              "  <thead>\n",
              "    <tr style=\"text-align: right;\">\n",
              "      <th></th>\n",
              "      <th>Time</th>\n",
              "      <th>Radius_mean</th>\n",
              "      <th>Texture_mean</th>\n",
              "      <th>Perimeter_mean</th>\n",
              "      <th>Area_mean</th>\n",
              "      <th>Smoothness_mean</th>\n",
              "      <th>Compactness_mean</th>\n",
              "      <th>Concavity_mean</th>\n",
              "      <th>Concave points_mean</th>\n",
              "      <th>Symmetry_mean</th>\n",
              "      <th>Fractal Dimension_mean</th>\n",
              "      <th>Radius_SE</th>\n",
              "      <th>Texture_SE</th>\n",
              "      <th>Perimeter_SE</th>\n",
              "      <th>Area_SE</th>\n",
              "      <th>Smoothness_SE</th>\n",
              "      <th>Compactness_SE</th>\n",
              "      <th>Concavity_SE</th>\n",
              "      <th>Concave points_SE</th>\n",
              "      <th>Symmetry_SE</th>\n",
              "      <th>Fractal Dimension_SE</th>\n",
              "      <th>Radius_worst</th>\n",
              "      <th>Texture_worst</th>\n",
              "      <th>Perimeter_worst</th>\n",
              "      <th>Area_worst</th>\n",
              "      <th>Smoothness_worst</th>\n",
              "      <th>Compactness_worst</th>\n",
              "      <th>Concavity_worst</th>\n",
              "      <th>Concave points_worst</th>\n",
              "      <th>Symmetry_worst</th>\n",
              "      <th>Fractal Dimension_worst</th>\n",
              "      <th>Tumor Size</th>\n",
              "      <th>LymphNode_size</th>\n",
              "      <th>OutCome</th>\n",
              "    </tr>\n",
              "  </thead>\n",
              "  <tbody>\n",
              "    <tr>\n",
              "      <th>0</th>\n",
              "      <td>31</td>\n",
              "      <td>18.02</td>\n",
              "      <td>27.60</td>\n",
              "      <td>117.50</td>\n",
              "      <td>1013.0</td>\n",
              "      <td>0.09489</td>\n",
              "      <td>0.1036</td>\n",
              "      <td>0.1086</td>\n",
              "      <td>0.07055</td>\n",
              "      <td>0.1865</td>\n",
              "      <td>0.06333</td>\n",
              "      <td>0.6249</td>\n",
              "      <td>1.8900</td>\n",
              "      <td>3.972</td>\n",
              "      <td>71.55</td>\n",
              "      <td>0.004433</td>\n",
              "      <td>0.01421</td>\n",
              "      <td>0.03233</td>\n",
              "      <td>0.009854</td>\n",
              "      <td>0.01694</td>\n",
              "      <td>0.003495</td>\n",
              "      <td>21.63</td>\n",
              "      <td>37.08</td>\n",
              "      <td>139.70</td>\n",
              "      <td>1436.0</td>\n",
              "      <td>0.1195</td>\n",
              "      <td>0.1926</td>\n",
              "      <td>0.3140</td>\n",
              "      <td>0.1170</td>\n",
              "      <td>0.2677</td>\n",
              "      <td>0.08113</td>\n",
              "      <td>5.0</td>\n",
              "      <td>5</td>\n",
              "      <td>N</td>\n",
              "    </tr>\n",
              "    <tr>\n",
              "      <th>1</th>\n",
              "      <td>61</td>\n",
              "      <td>17.99</td>\n",
              "      <td>10.38</td>\n",
              "      <td>122.80</td>\n",
              "      <td>1001.0</td>\n",
              "      <td>0.11840</td>\n",
              "      <td>0.2776</td>\n",
              "      <td>0.3001</td>\n",
              "      <td>0.14710</td>\n",
              "      <td>0.2419</td>\n",
              "      <td>0.07871</td>\n",
              "      <td>1.0950</td>\n",
              "      <td>0.9053</td>\n",
              "      <td>8.589</td>\n",
              "      <td>153.40</td>\n",
              "      <td>0.006399</td>\n",
              "      <td>0.04904</td>\n",
              "      <td>0.05373</td>\n",
              "      <td>0.015870</td>\n",
              "      <td>0.03003</td>\n",
              "      <td>0.006193</td>\n",
              "      <td>25.38</td>\n",
              "      <td>17.33</td>\n",
              "      <td>184.60</td>\n",
              "      <td>2019.0</td>\n",
              "      <td>0.1622</td>\n",
              "      <td>0.6656</td>\n",
              "      <td>0.7119</td>\n",
              "      <td>0.2654</td>\n",
              "      <td>0.4601</td>\n",
              "      <td>0.11890</td>\n",
              "      <td>3.0</td>\n",
              "      <td>2</td>\n",
              "      <td>N</td>\n",
              "    </tr>\n",
              "    <tr>\n",
              "      <th>2</th>\n",
              "      <td>116</td>\n",
              "      <td>21.37</td>\n",
              "      <td>17.44</td>\n",
              "      <td>137.50</td>\n",
              "      <td>1373.0</td>\n",
              "      <td>0.08836</td>\n",
              "      <td>0.1189</td>\n",
              "      <td>0.1255</td>\n",
              "      <td>0.08180</td>\n",
              "      <td>0.2333</td>\n",
              "      <td>0.06010</td>\n",
              "      <td>0.5854</td>\n",
              "      <td>0.6105</td>\n",
              "      <td>3.928</td>\n",
              "      <td>82.15</td>\n",
              "      <td>0.006167</td>\n",
              "      <td>0.03449</td>\n",
              "      <td>0.03300</td>\n",
              "      <td>0.018050</td>\n",
              "      <td>0.03094</td>\n",
              "      <td>0.005039</td>\n",
              "      <td>24.90</td>\n",
              "      <td>20.98</td>\n",
              "      <td>159.10</td>\n",
              "      <td>1949.0</td>\n",
              "      <td>0.1188</td>\n",
              "      <td>0.3449</td>\n",
              "      <td>0.3414</td>\n",
              "      <td>0.2032</td>\n",
              "      <td>0.4334</td>\n",
              "      <td>0.09067</td>\n",
              "      <td>2.5</td>\n",
              "      <td>0</td>\n",
              "      <td>N</td>\n",
              "    </tr>\n",
              "    <tr>\n",
              "      <th>3</th>\n",
              "      <td>123</td>\n",
              "      <td>11.42</td>\n",
              "      <td>20.38</td>\n",
              "      <td>77.58</td>\n",
              "      <td>386.1</td>\n",
              "      <td>0.14250</td>\n",
              "      <td>0.2839</td>\n",
              "      <td>0.2414</td>\n",
              "      <td>0.10520</td>\n",
              "      <td>0.2597</td>\n",
              "      <td>0.09744</td>\n",
              "      <td>0.4956</td>\n",
              "      <td>1.1560</td>\n",
              "      <td>3.445</td>\n",
              "      <td>27.23</td>\n",
              "      <td>0.009110</td>\n",
              "      <td>0.07458</td>\n",
              "      <td>0.05661</td>\n",
              "      <td>0.018670</td>\n",
              "      <td>0.05963</td>\n",
              "      <td>0.009208</td>\n",
              "      <td>14.91</td>\n",
              "      <td>26.50</td>\n",
              "      <td>98.87</td>\n",
              "      <td>567.7</td>\n",
              "      <td>0.2098</td>\n",
              "      <td>0.8663</td>\n",
              "      <td>0.6869</td>\n",
              "      <td>0.2575</td>\n",
              "      <td>0.6638</td>\n",
              "      <td>0.17300</td>\n",
              "      <td>2.0</td>\n",
              "      <td>0</td>\n",
              "      <td>N</td>\n",
              "    </tr>\n",
              "    <tr>\n",
              "      <th>4</th>\n",
              "      <td>27</td>\n",
              "      <td>20.29</td>\n",
              "      <td>14.34</td>\n",
              "      <td>135.10</td>\n",
              "      <td>1297.0</td>\n",
              "      <td>0.10030</td>\n",
              "      <td>0.1328</td>\n",
              "      <td>0.1980</td>\n",
              "      <td>0.10430</td>\n",
              "      <td>0.1809</td>\n",
              "      <td>0.05883</td>\n",
              "      <td>0.7572</td>\n",
              "      <td>0.7813</td>\n",
              "      <td>5.438</td>\n",
              "      <td>94.44</td>\n",
              "      <td>0.011490</td>\n",
              "      <td>0.02461</td>\n",
              "      <td>0.05688</td>\n",
              "      <td>0.018850</td>\n",
              "      <td>0.01756</td>\n",
              "      <td>0.005115</td>\n",
              "      <td>22.54</td>\n",
              "      <td>16.67</td>\n",
              "      <td>152.20</td>\n",
              "      <td>1575.0</td>\n",
              "      <td>0.1374</td>\n",
              "      <td>0.2050</td>\n",
              "      <td>0.4000</td>\n",
              "      <td>0.1625</td>\n",
              "      <td>0.2364</td>\n",
              "      <td>0.07678</td>\n",
              "      <td>3.5</td>\n",
              "      <td>0</td>\n",
              "      <td>R</td>\n",
              "    </tr>\n",
              "  </tbody>\n",
              "</table>\n",
              "</div>"
            ],
            "text/plain": [
              "   Time  Radius_mean  Texture_mean  ...  Tumor Size  LymphNode_size  OutCome\n",
              "0    31        18.02         27.60  ...         5.0               5        N\n",
              "1    61        17.99         10.38  ...         3.0               2        N\n",
              "2   116        21.37         17.44  ...         2.5               0        N\n",
              "3   123        11.42         20.38  ...         2.0               0        N\n",
              "4    27        20.29         14.34  ...         3.5               0        R\n",
              "\n",
              "[5 rows x 34 columns]"
            ]
          },
          "metadata": {
            "tags": []
          },
          "execution_count": 4
        }
      ]
    },
    {
      "cell_type": "code",
      "metadata": {
        "id": "nD2pytoQ1Urr",
        "colab_type": "code",
        "colab": {}
      },
      "source": [
        "features_orig = data.iloc[:,:-1] \n",
        "label_orig = data.iloc[:,-1]\n",
        "label_orig = label_orig.replace('N', 0) # 0 = N\n",
        "label_orig = label_orig.replace(\"R\",1)\n",
        "# Scaling the selected feature  \n",
        "scaled_feature = scaler(features_orig)"
      ],
      "execution_count": 0,
      "outputs": []
    },
    {
      "cell_type": "code",
      "metadata": {
        "id": "RqZ8Oy2T1exd",
        "colab_type": "code",
        "colab": {}
      },
      "source": [
        "x_train, x_test_orig, y_train, y_test_orig = train_test_split(scaled_feature, label_orig, test_size=0.3, random_state=42)\n",
        "\n"
      ],
      "execution_count": 0,
      "outputs": []
    },
    {
      "cell_type": "code",
      "metadata": {
        "id": "1FzPNgjHb7ic",
        "colab_type": "code",
        "colab": {
          "base_uri": "https://localhost:8080/",
          "height": 69
        },
        "outputId": "f792502f-b15e-4574-d4d8-5f242de3dcf9"
      },
      "source": [
        "#SMOTE\n",
        "from imblearn.over_sampling import SMOTE\n",
        "import numpy as np\n",
        "\n",
        "sm = SMOTE(random_state=42)\n",
        "x_train_orig, y_train_orig = sm.fit_sample(x_train, y_train)\n",
        "print (y_train.value_counts() , np.bincount(y_train_orig))\n",
        "x_train_orig"
      ],
      "execution_count": 16,
      "outputs": [
        {
          "output_type": "stream",
          "text": [
            "0    104\n",
            "1     34\n",
            "Name: OutCome, dtype: int64 [104 104]\n"
          ],
          "name": "stdout"
        }
      ]
    },
    {
      "cell_type": "code",
      "metadata": {
        "id": "4i28bPzY7t8U",
        "colab_type": "code",
        "colab": {}
      },
      "source": [
        "Precision_fs_sm = []\n",
        "Recall_fs_sm = []\n",
        "F1score_fs_sm = []\n",
        "Accuracy_fs_sm = []\n",
        "classifier_fs_sm = ['RandomForesrClassifier', 'GradientBoostingClassifier','AdaBoostClassifier','SupportVector','LogisticRregression','GaussianNB','DecisisonTree','KNearestNeighbour']"
      ],
      "execution_count": 0,
      "outputs": []
    },
    {
      "cell_type": "code",
      "metadata": {
        "id": "KzgrzuMB2gni",
        "colab_type": "code",
        "colab": {}
      },
      "source": [
        "from sklearn.feature_selection import SelectKBest\n",
        "from sklearn.feature_selection import chi2\n",
        "featurescoreuni = []\n",
        "featurecolumnuni = []\n",
        "select_feature = SelectKBest(chi2, k=5)\n",
        "fit = select_feature.fit(x_train_orig, y_train_orig)\n"
      ],
      "execution_count": 0,
      "outputs": []
    },
    {
      "cell_type": "code",
      "metadata": {
        "id": "l9181TyZ9Bve",
        "colab_type": "code",
        "colab": {}
      },
      "source": [
        ""
      ],
      "execution_count": 0,
      "outputs": []
    },
    {
      "cell_type": "code",
      "metadata": {
        "id": "c9ugeloE5S3O",
        "colab_type": "code",
        "colab": {}
      },
      "source": [
        "x_train_chi = select_feature.transform(x_train_orig)\n",
        "x_test_chi = select_feature.transform(x_test_orig)\n"
      ],
      "execution_count": 0,
      "outputs": []
    },
    {
      "cell_type": "code",
      "metadata": {
        "id": "sn4CAL4N7_0E",
        "colab_type": "code",
        "outputId": "2ba383be-0141-43f2-f81d-599df0f6c567",
        "colab": {
          "base_uri": "https://localhost:8080/",
          "height": 173
        }
      },
      "source": [
        "model_chi_rfc = RandomForestClassifier(n_estimators=1000)\n",
        "model_chi_rfc.fit(x_train_chi , y_train_orig)\n",
        "y_pred_chi_rfc = model_chi_rfc.predict(x_test_chi)\n",
        "print(classification_report(y_test_orig, y_pred_chi_rfc))\n",
        "Precision_fs_sm.append(precision_score(y_test_orig, y_pred_chi_rfc, average = 'weighted'))\n",
        "Recall_fs_sm.append(recall_score(y_test_orig, y_pred_chi_rfc, average = 'weighted'))\n",
        "F1score_fs_sm.append(f1_score(y_test_orig, y_pred_chi_rfc, average = 'weighted'))\n",
        "Accuracy_fs_sm.append(accuracy_score(y_test_orig, y_pred_chi_rfc)*100)"
      ],
      "execution_count": 20,
      "outputs": [
        {
          "output_type": "stream",
          "text": [
            "              precision    recall  f1-score   support\n",
            "\n",
            "           0       0.88      0.79      0.83        47\n",
            "           1       0.44      0.62      0.52        13\n",
            "\n",
            "    accuracy                           0.75        60\n",
            "   macro avg       0.66      0.70      0.67        60\n",
            "weighted avg       0.79      0.75      0.76        60\n",
            "\n"
          ],
          "name": "stdout"
        }
      ]
    },
    {
      "cell_type": "code",
      "metadata": {
        "id": "QwoMjP24D26e",
        "colab_type": "code",
        "outputId": "05d57c34-b00a-440e-ae50-4949186503c2",
        "colab": {
          "base_uri": "https://localhost:8080/",
          "height": 173
        }
      },
      "source": [
        "model_gbc_chi = GradientBoostingClassifier(n_estimators=1000)\n",
        "model_gbc_chi.fit(x_train_chi , y_train_orig)\n",
        "y_pred_gbc_chi = model_gbc_chi.predict(x_test_chi)\n",
        "print(classification_report(y_test_orig, y_pred_gbc_chi))\n",
        "Precision_fs_sm.append(precision_score(y_test_orig, y_pred_gbc_chi, average = 'weighted'))\n",
        "Recall_fs_sm.append(recall_score(y_test_orig, y_pred_gbc_chi, average = 'weighted'))\n",
        "F1score_fs_sm.append(f1_score(y_test_orig, y_pred_gbc_chi, average = 'weighted'))\n",
        "Accuracy_fs_sm.append(accuracy_score(y_test_orig, y_pred_gbc_chi)*100)\n",
        "  "
      ],
      "execution_count": 21,
      "outputs": [
        {
          "output_type": "stream",
          "text": [
            "              precision    recall  f1-score   support\n",
            "\n",
            "           0       0.83      0.74      0.79        47\n",
            "           1       0.33      0.46      0.39        13\n",
            "\n",
            "    accuracy                           0.68        60\n",
            "   macro avg       0.58      0.60      0.59        60\n",
            "weighted avg       0.73      0.68      0.70        60\n",
            "\n"
          ],
          "name": "stdout"
        }
      ]
    },
    {
      "cell_type": "code",
      "metadata": {
        "id": "BrOo0_pEEmsw",
        "colab_type": "code",
        "outputId": "f3f3b8bf-316d-40b2-b449-9ca99c04fd1b",
        "colab": {
          "base_uri": "https://localhost:8080/",
          "height": 173
        }
      },
      "source": [
        "model_ad_chi = AdaBoostClassifier()\n",
        "model_ad_chi.fit(x_train_chi , y_train_orig)\n",
        "y_pred_ad_chi = model_ad_chi.predict(x_test_chi)\n",
        "print(classification_report(y_test_orig, y_pred_ad_chi))\n",
        "Precision_fs_sm.append(precision_score(y_test_orig, y_pred_ad_chi, average = 'weighted'))\n",
        "Recall_fs_sm.append(recall_score(y_test_orig, y_pred_ad_chi, average = 'weighted'))\n",
        "F1score_fs_sm.append(f1_score(y_test_orig, y_pred_ad_chi, average = 'weighted'))\n",
        "Accuracy_fs_sm.append(accuracy_score(y_test_orig, y_pred_ad_chi)*100)"
      ],
      "execution_count": 22,
      "outputs": [
        {
          "output_type": "stream",
          "text": [
            "              precision    recall  f1-score   support\n",
            "\n",
            "           0       0.87      0.70      0.78        47\n",
            "           1       0.36      0.62      0.46        13\n",
            "\n",
            "    accuracy                           0.68        60\n",
            "   macro avg       0.62      0.66      0.62        60\n",
            "weighted avg       0.76      0.68      0.71        60\n",
            "\n"
          ],
          "name": "stdout"
        }
      ]
    },
    {
      "cell_type": "code",
      "metadata": {
        "id": "ZrYSdYFKH_vs",
        "colab_type": "code",
        "outputId": "b963aa97-f9f2-4cd9-89ef-deea713a3c14",
        "colab": {
          "base_uri": "https://localhost:8080/",
          "height": 228
        }
      },
      "source": [
        "svc_chi=SVC() #Default hyperparameters\n",
        "svc_chi.fit(x_train_chi,y_train_orig)\n",
        "y_pred_chi=svc_chi.predict(x_test_chi)\n",
        "print(classification_report(y_test_orig, y_pred_chi))\n",
        "Precision_fs_sm.append(precision_score(y_test_orig, y_pred_chi, average = 'weighted'))\n",
        "Recall_fs_sm.append(recall_score(y_test_orig, y_pred_chi, average = 'weighted'))\n",
        "F1score_fs_sm.append(f1_score(y_test_orig, y_pred_chi, average = 'weighted'))\n",
        "Accuracy_fs_sm.append(accuracy_score(y_test_orig, y_pred_chi)*100)"
      ],
      "execution_count": 23,
      "outputs": [
        {
          "output_type": "stream",
          "text": [
            "              precision    recall  f1-score   support\n",
            "\n",
            "           0       0.90      0.57      0.70        47\n",
            "           1       0.33      0.77      0.47        13\n",
            "\n",
            "    accuracy                           0.62        60\n",
            "   macro avg       0.62      0.67      0.58        60\n",
            "weighted avg       0.78      0.62      0.65        60\n",
            "\n"
          ],
          "name": "stdout"
        },
        {
          "output_type": "stream",
          "text": [
            "/usr/local/lib/python3.6/dist-packages/sklearn/svm/base.py:193: FutureWarning: The default value of gamma will change from 'auto' to 'scale' in version 0.22 to account better for unscaled features. Set gamma explicitly to 'auto' or 'scale' to avoid this warning.\n",
            "  \"avoid this warning.\", FutureWarning)\n"
          ],
          "name": "stderr"
        }
      ]
    },
    {
      "cell_type": "code",
      "metadata": {
        "id": "9UavEI5GI0E1",
        "colab_type": "code",
        "outputId": "6116bf1a-a94b-4b1d-bd32-574b417ab6a5",
        "colab": {
          "base_uri": "https://localhost:8080/",
          "height": 228
        }
      },
      "source": [
        "model_lr_chi = LogisticRegression()\n",
        "model_lr_chi.fit(x_train_chi, y_train_orig)\n",
        "y_pred_chi = model_lr_chi.predict(x_test_chi)\n",
        "print(classification_report(y_test_orig, y_pred_chi))\n",
        "Precision_fs_sm.append(precision_score(y_test_orig, y_pred_chi, average = 'weighted'))\n",
        "Recall_fs_sm.append(recall_score(y_test_orig, y_pred_chi, average = 'weighted'))\n",
        "F1score_fs_sm.append(f1_score(y_test_orig, y_pred_chi, average = 'weighted'))\n",
        "Accuracy_fs_sm.append(accuracy_score(y_test_orig, y_pred_chi)*100)\n"
      ],
      "execution_count": 24,
      "outputs": [
        {
          "output_type": "stream",
          "text": [
            "              precision    recall  f1-score   support\n",
            "\n",
            "           0       0.87      0.70      0.78        47\n",
            "           1       0.36      0.62      0.46        13\n",
            "\n",
            "    accuracy                           0.68        60\n",
            "   macro avg       0.62      0.66      0.62        60\n",
            "weighted avg       0.76      0.68      0.71        60\n",
            "\n"
          ],
          "name": "stdout"
        },
        {
          "output_type": "stream",
          "text": [
            "/usr/local/lib/python3.6/dist-packages/sklearn/linear_model/logistic.py:432: FutureWarning: Default solver will be changed to 'lbfgs' in 0.22. Specify a solver to silence this warning.\n",
            "  FutureWarning)\n"
          ],
          "name": "stderr"
        }
      ]
    },
    {
      "cell_type": "code",
      "metadata": {
        "id": "pFfnrvCVJXqm",
        "colab_type": "code",
        "outputId": "9b884820-baf0-409c-b908-5832b9760402",
        "colab": {
          "base_uri": "https://localhost:8080/",
          "height": 173
        }
      },
      "source": [
        "model_gnb_chi = GaussianNB()\n",
        "model_gnb_chi.fit(x_train_chi, y_train_orig)\n",
        "y_pred_chi = model_gnb_chi.predict(x_test_chi)\n",
        "print(classification_report(y_test_orig, y_pred_chi))\n",
        "Precision_fs_sm.append(precision_score(y_test_orig, y_pred_chi, average = 'weighted'))\n",
        "Recall_fs_sm.append(recall_score(y_test_orig, y_pred_chi, average = 'weighted'))\n",
        "F1score_fs_sm.append(f1_score(y_test_orig, y_pred_chi, average = 'weighted'))\n",
        "Accuracy_fs_sm.append(accuracy_score(y_test_orig, y_pred_chi)*100)\n"
      ],
      "execution_count": 25,
      "outputs": [
        {
          "output_type": "stream",
          "text": [
            "              precision    recall  f1-score   support\n",
            "\n",
            "           0       0.82      0.70      0.76        47\n",
            "           1       0.30      0.46      0.36        13\n",
            "\n",
            "    accuracy                           0.65        60\n",
            "   macro avg       0.56      0.58      0.56        60\n",
            "weighted avg       0.71      0.65      0.67        60\n",
            "\n"
          ],
          "name": "stdout"
        }
      ]
    },
    {
      "cell_type": "code",
      "metadata": {
        "id": "fBeYvN8gJ5__",
        "colab_type": "code",
        "outputId": "c758126a-fd1c-41f8-9724-b305bfe51655",
        "colab": {
          "base_uri": "https://localhost:8080/",
          "height": 173
        }
      },
      "source": [
        "model_DT_chi = DecisionTreeClassifier()\n",
        "model_DT_chi.fit(x_train_chi, y_train_orig)\n",
        "y_pred_chi = model_DT_chi.predict(x_test_chi)\n",
        "print(classification_report(y_test_orig, y_pred_chi))\n",
        "Precision_fs_sm.append(precision_score(y_test_orig, y_pred_chi, average = 'weighted'))\n",
        "Recall_fs_sm.append(recall_score(y_test_orig, y_pred_chi, average = 'weighted'))\n",
        "F1score_fs_sm.append(f1_score(y_test_orig, y_pred_chi, average = 'weighted'))\n",
        "Accuracy_fs_sm.append(accuracy_score(y_test_orig, y_pred_chi)*100)\n"
      ],
      "execution_count": 26,
      "outputs": [
        {
          "output_type": "stream",
          "text": [
            "              precision    recall  f1-score   support\n",
            "\n",
            "           0       0.87      0.72      0.79        47\n",
            "           1       0.38      0.62      0.47        13\n",
            "\n",
            "    accuracy                           0.70        60\n",
            "   macro avg       0.63      0.67      0.63        60\n",
            "weighted avg       0.77      0.70      0.72        60\n",
            "\n"
          ],
          "name": "stdout"
        }
      ]
    },
    {
      "cell_type": "code",
      "metadata": {
        "id": "w8Q_IrZl8ztC",
        "colab_type": "code",
        "outputId": "011d6130-3dae-4aa8-dc4a-3a4a15cb5020",
        "colab": {
          "base_uri": "https://localhost:8080/",
          "height": 139
        }
      },
      "source": [
        "Precision_fs"
      ],
      "execution_count": 0,
      "outputs": [
        {
          "output_type": "execute_result",
          "data": {
            "text/plain": [
              "[0.8036666666666666,\n",
              " 0.779032948224219,\n",
              " 0.7569875776397516,\n",
              " 0.613611111111111,\n",
              " 0.8059523809523809,\n",
              " 0.7322845417236662,\n",
              " 0.8262515262515263]"
            ]
          },
          "metadata": {
            "tags": []
          },
          "execution_count": 116
        }
      ]
    },
    {
      "cell_type": "code",
      "metadata": {
        "id": "nlFfijk7BT_7",
        "colab_type": "code",
        "outputId": "445ac371-164d-4b34-d3c2-db4c78311b85",
        "colab": {
          "base_uri": "https://localhost:8080/",
          "height": 139
        }
      },
      "source": [
        "Accuracy_fs"
      ],
      "execution_count": 0,
      "outputs": [
        {
          "output_type": "execute_result",
          "data": {
            "text/plain": [
              "[81.66666666666667,\n",
              " 73.33333333333333,\n",
              " 75.0,\n",
              " 78.33333333333333,\n",
              " 81.66666666666667,\n",
              " 70.0,\n",
              " 76.66666666666667]"
            ]
          },
          "metadata": {
            "tags": []
          },
          "execution_count": 117
        }
      ]
    },
    {
      "cell_type": "code",
      "metadata": {
        "id": "ViN1s6EiHpUC",
        "colab_type": "code",
        "outputId": "12da71d9-1eb8-4c40-8085-4f691762bed8",
        "colab": {
          "base_uri": "https://localhost:8080/",
          "height": 173
        }
      },
      "source": [
        "model_knn_chi = KNeighborsClassifier(n_neighbors=3)\n",
        "model_knn_chi.fit(x_train_chi, y_train_orig)\n",
        "y_pred_chi = model_knn_chi.predict(x_test_chi)\n",
        "print(classification_report(y_test_orig, y_pred_chi))\n",
        "Precision_fs_sm.append(precision_score(y_test_orig, y_pred_chi, average = 'weighted'))\n",
        "Recall_fs_sm.append(recall_score(y_test_orig, y_pred_chi, average = 'weighted'))\n",
        "F1score_fs_sm.append(f1_score(y_test_orig, y_pred_chi, average = 'weighted'))\n",
        "Accuracy_fs_sm.append(accuracy_score(y_test_orig, y_pred_chi)*100)\n"
      ],
      "execution_count": 27,
      "outputs": [
        {
          "output_type": "stream",
          "text": [
            "              precision    recall  f1-score   support\n",
            "\n",
            "           0       0.89      0.70      0.79        47\n",
            "           1       0.39      0.69      0.50        13\n",
            "\n",
            "    accuracy                           0.70        60\n",
            "   macro avg       0.64      0.70      0.64        60\n",
            "weighted avg       0.78      0.70      0.72        60\n",
            "\n"
          ],
          "name": "stdout"
        }
      ]
    },
    {
      "cell_type": "code",
      "metadata": {
        "id": "vTeePwG-KqQw",
        "colab_type": "code",
        "outputId": "2f65c5bd-601e-4d37-f3a7-57a569cde1ed",
        "colab": {
          "base_uri": "https://localhost:8080/",
          "height": 156
        }
      },
      "source": [
        "Accuracy_fs"
      ],
      "execution_count": 0,
      "outputs": [
        {
          "output_type": "execute_result",
          "data": {
            "text/plain": [
              "[81.66666666666667,\n",
              " 73.33333333333333,\n",
              " 75.0,\n",
              " 78.33333333333333,\n",
              " 81.66666666666667,\n",
              " 70.0,\n",
              " 76.66666666666667,\n",
              " 76.66666666666667]"
            ]
          },
          "metadata": {
            "tags": []
          },
          "execution_count": 119
        }
      ]
    },
    {
      "cell_type": "code",
      "metadata": {
        "id": "DV_LXVeGKtF2",
        "colab_type": "code",
        "colab": {}
      },
      "source": [
        "Precision_fs_sm = list(np.around(np.array(Precision_fs_sm),2))\n",
        "Recall_fs_sm = list(np.around(np.array(Recall_fs_sm),2))\n",
        "F1score_fs_sm = list(np.around(np.array(F1score_fs_sm),2))\n",
        "Accuracy_fs_sm = list(np.around(np.array(Accuracy_fs_sm),2))"
      ],
      "execution_count": 0,
      "outputs": []
    },
    {
      "cell_type": "code",
      "metadata": {
        "id": "kSYmHk7wLZjx",
        "colab_type": "code",
        "colab": {}
      },
      "source": [
        "classifier = ['RandomForesrClassifier', 'GradientBoostingClassifier','AdaBoostClassifier','SupportVector','LogisticRregression','GaussianNB','DecisisonTree','KNearestNeighbour']"
      ],
      "execution_count": 0,
      "outputs": []
    },
    {
      "cell_type": "code",
      "metadata": {
        "id": "HzyFTCkALh76",
        "colab_type": "code",
        "colab": {}
      },
      "source": [
        "zippedList =  list(zip(classifier, Precision_fs_sm, Recall_fs_sm, F1score_fs_sm, Accuracy_fs_sm,Precision_et_sm,Recall_et_sm, F1score_et_sm, Accuracy_et_sm))"
      ],
      "execution_count": 0,
      "outputs": []
    },
    {
      "cell_type": "code",
      "metadata": {
        "id": "HoPx-5ilLuk1",
        "colab_type": "code",
        "colab": {}
      },
      "source": [
        "score_fs_sm = pd.DataFrame(zippedList, columns = ['Classifier' , 'Precision_chi_sm', 'Recall_chi_sm','F1score_chi_sm','Accuracy_chi_sm', 'Precision_et_sm','Recall_et_sm','F1score_et_sm','Accuracy_et_sm'], index = [1,2,3,4,5,6,7,8]) "
      ],
      "execution_count": 0,
      "outputs": []
    },
    {
      "cell_type": "code",
      "metadata": {
        "id": "sXYyKUNIMCEb",
        "colab_type": "code",
        "outputId": "1533a42f-a9a6-4dcc-c342-f265c9634f7f",
        "colab": {
          "base_uri": "https://localhost:8080/",
          "height": 314
        }
      },
      "source": [
        "score_fs_sm.to_excel('Result_features_sm.xlsx')\n",
        "files.download('Result_features_sm.xlsx')\n",
        "score_fs_sm.head(10)"
      ],
      "execution_count": 47,
      "outputs": [
        {
          "output_type": "execute_result",
          "data": {
            "text/html": [
              "<div>\n",
              "<style scoped>\n",
              "    .dataframe tbody tr th:only-of-type {\n",
              "        vertical-align: middle;\n",
              "    }\n",
              "\n",
              "    .dataframe tbody tr th {\n",
              "        vertical-align: top;\n",
              "    }\n",
              "\n",
              "    .dataframe thead th {\n",
              "        text-align: right;\n",
              "    }\n",
              "</style>\n",
              "<table border=\"1\" class=\"dataframe\">\n",
              "  <thead>\n",
              "    <tr style=\"text-align: right;\">\n",
              "      <th></th>\n",
              "      <th>Classifier</th>\n",
              "      <th>Precision_chi_sm</th>\n",
              "      <th>Recall_chi_sm</th>\n",
              "      <th>F1score_chi_sm</th>\n",
              "      <th>Accuracy_chi_sm</th>\n",
              "      <th>Precision_et_sm</th>\n",
              "      <th>Recall_et_sm</th>\n",
              "      <th>F1score_et_sm</th>\n",
              "      <th>Accuracy_et_sm</th>\n",
              "    </tr>\n",
              "  </thead>\n",
              "  <tbody>\n",
              "    <tr>\n",
              "      <th>1</th>\n",
              "      <td>RandomForesrClassifier</td>\n",
              "      <td>0.79</td>\n",
              "      <td>0.75</td>\n",
              "      <td>0.76</td>\n",
              "      <td>75.00</td>\n",
              "      <td>0.756988</td>\n",
              "      <td>0.750000</td>\n",
              "      <td>0.753286</td>\n",
              "      <td>75.000000</td>\n",
              "    </tr>\n",
              "    <tr>\n",
              "      <th>2</th>\n",
              "      <td>GradientBoostingClassifier</td>\n",
              "      <td>0.73</td>\n",
              "      <td>0.68</td>\n",
              "      <td>0.70</td>\n",
              "      <td>68.33</td>\n",
              "      <td>0.724482</td>\n",
              "      <td>0.716667</td>\n",
              "      <td>0.720390</td>\n",
              "      <td>71.666667</td>\n",
              "    </tr>\n",
              "    <tr>\n",
              "      <th>3</th>\n",
              "      <td>AdaBoostClassifier</td>\n",
              "      <td>0.76</td>\n",
              "      <td>0.68</td>\n",
              "      <td>0.71</td>\n",
              "      <td>68.33</td>\n",
              "      <td>0.718015</td>\n",
              "      <td>0.666667</td>\n",
              "      <td>0.686553</td>\n",
              "      <td>66.666667</td>\n",
              "    </tr>\n",
              "    <tr>\n",
              "      <th>4</th>\n",
              "      <td>SupportVector</td>\n",
              "      <td>0.78</td>\n",
              "      <td>0.62</td>\n",
              "      <td>0.65</td>\n",
              "      <td>61.67</td>\n",
              "      <td>0.760606</td>\n",
              "      <td>0.633333</td>\n",
              "      <td>0.665417</td>\n",
              "      <td>63.333333</td>\n",
              "    </tr>\n",
              "    <tr>\n",
              "      <th>5</th>\n",
              "      <td>LogisticRregression</td>\n",
              "      <td>0.76</td>\n",
              "      <td>0.68</td>\n",
              "      <td>0.71</td>\n",
              "      <td>68.33</td>\n",
              "      <td>0.752840</td>\n",
              "      <td>0.666667</td>\n",
              "      <td>0.693122</td>\n",
              "      <td>66.666667</td>\n",
              "    </tr>\n",
              "    <tr>\n",
              "      <th>6</th>\n",
              "      <td>GaussianNB</td>\n",
              "      <td>0.71</td>\n",
              "      <td>0.65</td>\n",
              "      <td>0.67</td>\n",
              "      <td>65.00</td>\n",
              "      <td>0.728589</td>\n",
              "      <td>0.650000</td>\n",
              "      <td>0.676471</td>\n",
              "      <td>65.000000</td>\n",
              "    </tr>\n",
              "    <tr>\n",
              "      <th>7</th>\n",
              "      <td>DecisisonTree</td>\n",
              "      <td>0.77</td>\n",
              "      <td>0.70</td>\n",
              "      <td>0.72</td>\n",
              "      <td>70.00</td>\n",
              "      <td>0.772083</td>\n",
              "      <td>0.716667</td>\n",
              "      <td>0.735319</td>\n",
              "      <td>71.666667</td>\n",
              "    </tr>\n",
              "    <tr>\n",
              "      <th>8</th>\n",
              "      <td>KNearestNeighbour</td>\n",
              "      <td>0.78</td>\n",
              "      <td>0.70</td>\n",
              "      <td>0.72</td>\n",
              "      <td>70.00</td>\n",
              "      <td>0.722842</td>\n",
              "      <td>0.583333</td>\n",
              "      <td>0.619996</td>\n",
              "      <td>58.333333</td>\n",
              "    </tr>\n",
              "  </tbody>\n",
              "</table>\n",
              "</div>"
            ],
            "text/plain": [
              "                   Classifier  Precision_chi_sm  ...  F1score_et_sm  Accuracy_et_sm\n",
              "1      RandomForesrClassifier              0.79  ...       0.753286       75.000000\n",
              "2  GradientBoostingClassifier              0.73  ...       0.720390       71.666667\n",
              "3          AdaBoostClassifier              0.76  ...       0.686553       66.666667\n",
              "4               SupportVector              0.78  ...       0.665417       63.333333\n",
              "5         LogisticRregression              0.76  ...       0.693122       66.666667\n",
              "6                  GaussianNB              0.71  ...       0.676471       65.000000\n",
              "7               DecisisonTree              0.77  ...       0.735319       71.666667\n",
              "8           KNearestNeighbour              0.78  ...       0.619996       58.333333\n",
              "\n",
              "[8 rows x 9 columns]"
            ]
          },
          "metadata": {
            "tags": []
          },
          "execution_count": 47
        }
      ]
    },
    {
      "cell_type": "markdown",
      "metadata": {
        "id": "f0ta2DXyMf7A",
        "colab_type": "text"
      },
      "source": [
        "# Tree_based_feature_selection"
      ]
    },
    {
      "cell_type": "code",
      "metadata": {
        "id": "i_FGcfnGMNc9",
        "colab_type": "code",
        "outputId": "a80de61b-ab3a-4f17-8e63-4a78283643aa",
        "colab": {
          "base_uri": "https://localhost:8080/",
          "height": 72
        }
      },
      "source": [
        "import numpy as np\n",
        "import matplotlib.pyplot as plt\n",
        "scores = []\n",
        "from sklearn.datasets import make_classification\n",
        "from sklearn.ensemble import ExtraTreesClassifier\n",
        "from sklearn.feature_selection import SelectFromModel\n",
        "model_et = ExtraTreesClassifier()\n",
        "model_et.fit(x_train_orig,y_train_orig)\n",
        "model_ = SelectFromModel(model_et, prefit=True)\n"
      ],
      "execution_count": 33,
      "outputs": [
        {
          "output_type": "stream",
          "text": [
            "/usr/local/lib/python3.6/dist-packages/sklearn/ensemble/forest.py:245: FutureWarning: The default value of n_estimators will change from 10 in version 0.20 to 100 in 0.22.\n",
            "  \"10 in version 0.20 to 100 in 0.22.\", FutureWarning)\n"
          ],
          "name": "stderr"
        }
      ]
    },
    {
      "cell_type": "code",
      "metadata": {
        "id": "kMqDm5p2O0Fe",
        "colab_type": "code",
        "outputId": "bd0a2196-36e4-44e8-ad5c-c25381b3e4a6",
        "colab": {
          "base_uri": "https://localhost:8080/",
          "height": 589
        }
      },
      "source": [
        ""
      ],
      "execution_count": 0,
      "outputs": [
        {
          "output_type": "execute_result",
          "data": {
            "text/plain": [
              "[(0.08523043023324849, 'Time'),\n",
              " (0.03591954342975897, 'Radius_mean'),\n",
              " (0.019195550966061802, 'Texture_mean'),\n",
              " (0.013468423978193802, 'Perimeter_mean'),\n",
              " (0.0290227100863073, 'Area_mean'),\n",
              " (0.016683762251680216, 'Smoothness_mean'),\n",
              " (0.023978897470740217, 'Compactness_mean'),\n",
              " (0.028194832441355164, 'Concavity_mean'),\n",
              " (0.025937646517154942, 'Concave points_mean'),\n",
              " (0.039054573542912384, 'Symmetry_mean'),\n",
              " (0.018448192410620023, 'Fractal Dimension_mean'),\n",
              " (0.02672916514233557, 'Radius_SE'),\n",
              " (0.028527827081543826, 'Texture_SE'),\n",
              " (0.031720753294884045, 'Perimeter_SE'),\n",
              " (0.024785537239596433, 'Area_SE'),\n",
              " (0.008498411938739995, 'Smoothness_SE'),\n",
              " (0.012943041049043709, 'Compactness_SE'),\n",
              " (0.0446854670548391, 'Concavity_SE'),\n",
              " (0.027011257233015472, 'Concave points_SE'),\n",
              " (0.02125113136117626, 'Symmetry_SE'),\n",
              " (0.033152168316403406, 'Fractal Dimension_SE'),\n",
              " (0.02623167018259072, 'Radius_worst'),\n",
              " (0.027347485525994263, 'Texture_worst'),\n",
              " (0.02705986192162367, 'Perimeter_worst'),\n",
              " (0.03549885229997572, 'Area_worst'),\n",
              " (0.025060107274420425, 'Smoothness_worst'),\n",
              " (0.042268177225597565, 'Compactness_worst'),\n",
              " (0.024417633911293993, 'Concavity_worst'),\n",
              " (0.04648026568939931, 'Concave points_worst'),\n",
              " (0.025987801284958038, 'Symmetry_worst'),\n",
              " (0.022361489613327856, 'Fractal Dimension_worst'),\n",
              " (0.03630970014707428, 'Tumor Size'),\n",
              " (0.06653763188413321, 'LymphNode_size')]"
            ]
          },
          "metadata": {
            "tags": []
          },
          "execution_count": 137
        }
      ]
    },
    {
      "cell_type": "code",
      "metadata": {
        "id": "-VKAV6jsPDpA",
        "colab_type": "code",
        "colab": {}
      },
      "source": [
        "importance_features = pd.DataFrame(scores, columns = ['scores', \"features\"])"
      ],
      "execution_count": 0,
      "outputs": []
    },
    {
      "cell_type": "code",
      "metadata": {
        "id": "acplWaGEUlEK",
        "colab_type": "code",
        "colab": {}
      },
      "source": [
        "importance_features.to_excel('ET_Features.xlsx')\n",
        "files.download('ET_Features.xlsx')\n"
      ],
      "execution_count": 0,
      "outputs": []
    },
    {
      "cell_type": "code",
      "metadata": {
        "id": "n4gxix1lWS6c",
        "colab_type": "code",
        "colab": {}
      },
      "source": [
        "Precision_et_sm = []\n",
        "Recall_et_sm = []\n",
        "Accuracy_et_sm = []\n",
        "F1score_et_sm = []\n"
      ],
      "execution_count": 0,
      "outputs": []
    },
    {
      "cell_type": "code",
      "metadata": {
        "id": "pYgsKamrUoSj",
        "colab_type": "code",
        "colab": {}
      },
      "source": [
        "x_train_et = model_.transform(x_train_orig)\n",
        "x_test_et = model_.transform(x_test_orig)"
      ],
      "execution_count": 0,
      "outputs": []
    },
    {
      "cell_type": "code",
      "metadata": {
        "id": "KplW6unSVoNe",
        "colab_type": "code",
        "outputId": "8d4f1849-8ae9-429c-8f20-b47f2c2d0942",
        "colab": {
          "base_uri": "https://localhost:8080/",
          "height": 173
        }
      },
      "source": [
        "model_et_rfc = RandomForestClassifier(n_estimators=1000)\n",
        "model_et_rfc.fit(x_train_et , y_train_orig)\n",
        "y_pred_et = model_et_rfc.predict(x_test_et)\n",
        "print(classification_report(y_test_orig, y_pred_et))\n",
        "Precision_et_sm.append(precision_score(y_test_orig, y_pred_et, average = 'weighted'))\n",
        "Recall_et_sm.append(recall_score(y_test_orig, y_pred_et, average = 'weighted'))\n",
        "F1score_et_sm.append(f1_score(y_test_orig, y_pred_et, average = 'weighted'))\n",
        "Accuracy_et_sm.append(accuracy_score(y_test_orig, y_pred_et)*100)"
      ],
      "execution_count": 36,
      "outputs": [
        {
          "output_type": "stream",
          "text": [
            "              precision    recall  f1-score   support\n",
            "\n",
            "           0       0.85      0.83      0.84        47\n",
            "           1       0.43      0.46      0.44        13\n",
            "\n",
            "    accuracy                           0.75        60\n",
            "   macro avg       0.64      0.65      0.64        60\n",
            "weighted avg       0.76      0.75      0.75        60\n",
            "\n"
          ],
          "name": "stdout"
        }
      ]
    },
    {
      "cell_type": "code",
      "metadata": {
        "id": "3p2ph6HvWxV3",
        "colab_type": "code",
        "outputId": "88d6161b-c37f-453e-b1ad-463e79d1d54d",
        "colab": {
          "base_uri": "https://localhost:8080/",
          "height": 173
        }
      },
      "source": [
        "model_gbc_et = GradientBoostingClassifier(n_estimators=1000)\n",
        "model_gbc_et.fit(x_train_et , y_train_orig)\n",
        "y_pred_et = model_gbc_et.predict(x_test_et)\n",
        "print(classification_report(y_test_orig, y_pred_et))\n",
        "Precision_et_sm.append(precision_score(y_test_orig, y_pred_et, average = 'weighted'))\n",
        "Recall_et_sm.append(recall_score(y_test_orig, y_pred_et, average = 'weighted'))\n",
        "F1score_et_sm.append(f1_score(y_test_orig, y_pred_et, average = 'weighted'))\n",
        "Accuracy_et_sm.append(accuracy_score(y_test_orig, y_pred_et)*100)\n"
      ],
      "execution_count": 37,
      "outputs": [
        {
          "output_type": "stream",
          "text": [
            "              precision    recall  f1-score   support\n",
            "\n",
            "           0       0.83      0.81      0.82        47\n",
            "           1       0.36      0.38      0.37        13\n",
            "\n",
            "    accuracy                           0.72        60\n",
            "   macro avg       0.59      0.60      0.59        60\n",
            "weighted avg       0.72      0.72      0.72        60\n",
            "\n"
          ],
          "name": "stdout"
        }
      ]
    },
    {
      "cell_type": "code",
      "metadata": {
        "id": "IZZpBlmDVsGJ",
        "colab_type": "code",
        "outputId": "974490a9-1040-4446-8975-795591cc8ed8",
        "colab": {
          "base_uri": "https://localhost:8080/",
          "height": 156
        }
      },
      "source": [
        "Precision_et"
      ],
      "execution_count": 0,
      "outputs": [
        {
          "output_type": "execute_result",
          "data": {
            "text/plain": [
              "[0.7972222222222223,\n",
              " 0.7413943355119825,\n",
              " 0.8403846153846154,\n",
              " 0.613611111111111,\n",
              " 0.8059523809523809,\n",
              " 0.7485237483953786,\n",
              " 0.7416666666666666,\n",
              " 0.7569875776397516]"
            ]
          },
          "metadata": {
            "tags": []
          },
          "execution_count": 167
        }
      ]
    },
    {
      "cell_type": "code",
      "metadata": {
        "id": "evZNk2aTWu_q",
        "colab_type": "code",
        "outputId": "7239b902-0684-4b0f-9972-78927da89f46",
        "colab": {
          "base_uri": "https://localhost:8080/",
          "height": 173
        }
      },
      "source": [
        "model_ad_et = AdaBoostClassifier()\n",
        "model_ad_et.fit(x_train_et , y_train_orig)\n",
        "y_pred_et = model_ad_et.predict(x_test_et)\n",
        "print(classification_report(y_test_orig, y_pred_et))\n",
        "Precision_et_sm.append(precision_score(y_test_orig, y_pred_et, average = 'weighted'))\n",
        "Recall_et_sm.append(recall_score(y_test_orig, y_pred_et, average = 'weighted'))\n",
        "F1score_et_sm.append(f1_score(y_test_orig, y_pred_et, average = 'weighted'))\n",
        "Accuracy_et_sm.append(accuracy_score(y_test_orig, y_pred_et)*100)\n",
        "\n"
      ],
      "execution_count": 38,
      "outputs": [
        {
          "output_type": "stream",
          "text": [
            "              precision    recall  f1-score   support\n",
            "\n",
            "           0       0.83      0.72      0.77        47\n",
            "           1       0.32      0.46      0.37        13\n",
            "\n",
            "    accuracy                           0.67        60\n",
            "   macro avg       0.57      0.59      0.57        60\n",
            "weighted avg       0.72      0.67      0.69        60\n",
            "\n"
          ],
          "name": "stdout"
        }
      ]
    },
    {
      "cell_type": "code",
      "metadata": {
        "id": "aarAHsPXXnyE",
        "colab_type": "code",
        "outputId": "5e0e953c-ee40-442c-f2da-ed712e438fb8",
        "colab": {
          "base_uri": "https://localhost:8080/",
          "height": 228
        }
      },
      "source": [
        "svc_et=SVC() #Default hyperparameters\n",
        "svc_et.fit(x_train_et,y_train_orig)\n",
        "y_pred_et =svc_et.predict(x_test_et)\n",
        "print(classification_report(y_test_orig, y_pred_et))\n",
        "Precision_et_sm.append(precision_score(y_test_orig, y_pred_et, average = 'weighted'))\n",
        "Recall_et_sm.append(recall_score(y_test_orig, y_pred_et, average = 'weighted'))\n",
        "F1score_et_sm.append(f1_score(y_test_orig, y_pred_et, average = 'weighted'))\n",
        "Accuracy_et_sm.append(accuracy_score(y_test_orig, y_pred_et)*100)\n",
        "\n"
      ],
      "execution_count": 39,
      "outputs": [
        {
          "output_type": "stream",
          "text": [
            "              precision    recall  f1-score   support\n",
            "\n",
            "           0       0.88      0.62      0.73        47\n",
            "           1       0.33      0.69      0.45        13\n",
            "\n",
            "    accuracy                           0.63        60\n",
            "   macro avg       0.61      0.65      0.59        60\n",
            "weighted avg       0.76      0.63      0.67        60\n",
            "\n"
          ],
          "name": "stdout"
        },
        {
          "output_type": "stream",
          "text": [
            "/usr/local/lib/python3.6/dist-packages/sklearn/svm/base.py:193: FutureWarning: The default value of gamma will change from 'auto' to 'scale' in version 0.22 to account better for unscaled features. Set gamma explicitly to 'auto' or 'scale' to avoid this warning.\n",
            "  \"avoid this warning.\", FutureWarning)\n"
          ],
          "name": "stderr"
        }
      ]
    },
    {
      "cell_type": "code",
      "metadata": {
        "id": "uAX5P-NkYQ8x",
        "colab_type": "code",
        "outputId": "9260b283-b57d-4681-c71e-3838e57d004c",
        "colab": {
          "base_uri": "https://localhost:8080/",
          "height": 228
        }
      },
      "source": [
        "model_lr_et = LogisticRegression()\n",
        "model_lr_et.fit(x_train_et, y_train_orig)\n",
        "y_pred_et = model_lr_et.predict(x_test_et)\n",
        "print(classification_report(y_test_orig, y_pred_et))\n",
        "Precision_et_sm.append(precision_score(y_test_orig, y_pred_et, average = 'weighted'))\n",
        "Recall_et_sm.append(recall_score(y_test_orig, y_pred_et, average = 'weighted'))\n",
        "F1score_et_sm.append(f1_score(y_test_orig, y_pred_et, average = 'weighted'))\n",
        "Accuracy_et_sm.append(accuracy_score(y_test_orig, y_pred_et)*100)\n",
        "\n"
      ],
      "execution_count": 40,
      "outputs": [
        {
          "output_type": "stream",
          "text": [
            "              precision    recall  f1-score   support\n",
            "\n",
            "           0       0.86      0.68      0.76        47\n",
            "           1       0.35      0.62      0.44        13\n",
            "\n",
            "    accuracy                           0.67        60\n",
            "   macro avg       0.61      0.65      0.60        60\n",
            "weighted avg       0.75      0.67      0.69        60\n",
            "\n"
          ],
          "name": "stdout"
        },
        {
          "output_type": "stream",
          "text": [
            "/usr/local/lib/python3.6/dist-packages/sklearn/linear_model/logistic.py:432: FutureWarning: Default solver will be changed to 'lbfgs' in 0.22. Specify a solver to silence this warning.\n",
            "  FutureWarning)\n"
          ],
          "name": "stderr"
        }
      ]
    },
    {
      "cell_type": "code",
      "metadata": {
        "id": "WoDduSGHYxg6",
        "colab_type": "code",
        "outputId": "29f2d488-d5d6-4613-f447-8696c34765e6",
        "colab": {
          "base_uri": "https://localhost:8080/",
          "height": 173
        }
      },
      "source": [
        "model_gnb_et = GaussianNB()\n",
        "model_gnb_et.fit(x_train_et, y_train_orig)\n",
        "y_pred_et = model_gnb_et.predict(x_test_et)\n",
        "print(classification_report(y_test_orig, y_pred_et))\n",
        "Precision_et_sm.append(precision_score(y_test_orig, y_pred_et, average = 'weighted'))\n",
        "Recall_et_sm.append(recall_score(y_test_orig, y_pred_et, average = 'weighted'))\n",
        "F1score_et_sm.append(f1_score(y_test_orig, y_pred_et, average = 'weighted'))\n",
        "Accuracy_et_sm.append(accuracy_score(y_test_orig, y_pred_et)*100)\n"
      ],
      "execution_count": 41,
      "outputs": [
        {
          "output_type": "stream",
          "text": [
            "              precision    recall  f1-score   support\n",
            "\n",
            "           0       0.84      0.68      0.75        47\n",
            "           1       0.32      0.54      0.40        13\n",
            "\n",
            "    accuracy                           0.65        60\n",
            "   macro avg       0.58      0.61      0.58        60\n",
            "weighted avg       0.73      0.65      0.68        60\n",
            "\n"
          ],
          "name": "stdout"
        }
      ]
    },
    {
      "cell_type": "code",
      "metadata": {
        "id": "-bRgmZf_ZUuF",
        "colab_type": "code",
        "outputId": "0e2db431-7c9c-4f70-828c-92e6cab6d5c2",
        "colab": {
          "base_uri": "https://localhost:8080/",
          "height": 173
        }
      },
      "source": [
        "model_DT_et = DecisionTreeClassifier()\n",
        "model_DT_et.fit(x_train_et, y_train_orig)\n",
        "y_pred_et = model_DT_et.predict(x_test_et)\n",
        "print(classification_report(y_test_orig, y_pred_et))\n",
        "Precision_et_sm.append(precision_score(y_test_orig, y_pred_et, average = 'weighted'))\n",
        "Recall_et_sm.append(recall_score(y_test_orig, y_pred_et, average = 'weighted'))\n",
        "F1score_et_sm.append(f1_score(y_test_orig, y_pred_et, average = 'weighted'))\n",
        "Accuracy_et_sm.append(accuracy_score(y_test_orig, y_pred_et)*100)\n",
        "\n"
      ],
      "execution_count": 42,
      "outputs": [
        {
          "output_type": "stream",
          "text": [
            "              precision    recall  f1-score   support\n",
            "\n",
            "           0       0.88      0.74      0.80        47\n",
            "           1       0.40      0.62      0.48        13\n",
            "\n",
            "    accuracy                           0.72        60\n",
            "   macro avg       0.64      0.68      0.64        60\n",
            "weighted avg       0.77      0.72      0.74        60\n",
            "\n"
          ],
          "name": "stdout"
        }
      ]
    },
    {
      "cell_type": "code",
      "metadata": {
        "id": "-vDCzGs2Zvjz",
        "colab_type": "code",
        "outputId": "a637bdd9-1e46-49f7-e39c-dfeca612fd0c",
        "colab": {
          "base_uri": "https://localhost:8080/",
          "height": 173
        }
      },
      "source": [
        "model_knn_et = KNeighborsClassifier(n_neighbors=3)\n",
        "model_knn_et.fit(x_train_et, y_train_orig)\n",
        "y_pred_et = model_knn_et.predict(x_test_et)\n",
        "print(classification_report(y_test_orig, y_pred_et))\n",
        "Precision_et_sm.append(precision_score(y_test_orig, y_pred_et, average = 'weighted'))\n",
        "Recall_et_sm.append(recall_score(y_test_orig, y_pred_et, average = 'weighted'))\n",
        "F1score_et_sm.append(f1_score(y_test_orig, y_pred_et, average = 'weighted'))\n",
        "Accuracy_et_sm.append(accuracy_score(y_test_orig, y_pred_et)*100)\n",
        "\n",
        "\n"
      ],
      "execution_count": 43,
      "outputs": [
        {
          "output_type": "stream",
          "text": [
            "              precision    recall  f1-score   support\n",
            "\n",
            "           0       0.84      0.57      0.68        47\n",
            "           1       0.29      0.62      0.39        13\n",
            "\n",
            "    accuracy                           0.58        60\n",
            "   macro avg       0.56      0.59      0.54        60\n",
            "weighted avg       0.72      0.58      0.62        60\n",
            "\n"
          ],
          "name": "stdout"
        }
      ]
    },
    {
      "cell_type": "code",
      "metadata": {
        "id": "OMNcETJtaSsa",
        "colab_type": "code",
        "colab": {}
      },
      "source": [
        ""
      ],
      "execution_count": 0,
      "outputs": []
    }
  ]
}